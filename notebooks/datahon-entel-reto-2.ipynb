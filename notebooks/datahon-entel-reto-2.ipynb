{
 "cells": [
  {
   "cell_type": "code",
   "execution_count": 148,
   "metadata": {},
   "outputs": [],
   "source": [
    "# !pip install lightgbm\n",
    "# !pip install catboost\n",
    "# !pip install xgboost\n",
    "# !pip install seaborn\n",
    "# !pip install kaggle"
   ]
  },
  {
   "cell_type": "markdown",
   "metadata": {
    "tags": []
   },
   "source": [
    "## IMPORTAR LIBRERIAS ESTANDAR"
   ]
  },
  {
   "cell_type": "code",
   "execution_count": 149,
   "metadata": {
    "_cell_guid": "b1076dfc-b9ad-4769-8c92-a6c4dae69d19",
    "_uuid": "8f2839f25d086af736a60e9eeb907d3b93b6e0e5",
    "tags": []
   },
   "outputs": [],
   "source": [
    "import numpy as np # linear algebra\n",
    "import pandas as pd # data processing, CSV file I/O (e.g. pd.read_csv)\n",
    "import matplotlib.pyplot as plt\n",
    "import seaborn as sns"
   ]
  },
  {
   "cell_type": "markdown",
   "metadata": {
    "tags": []
   },
   "source": [
    "## DECLARAR FUNCIONES"
   ]
  },
  {
   "cell_type": "code",
   "execution_count": 150,
   "metadata": {
    "tags": []
   },
   "outputs": [],
   "source": [
    "def get_unpivoted(df, id_vars, var_name, value_name):\n",
    "    '''\n",
    "    parameters:\n",
    "       id_vars: type list, variables ids sobre el cual se toma referencia para el unpivot\n",
    "       var_name: type str, la nueva variable que se genera a partir de las columnas donde se aplica el unpivot\n",
    "       value_name: typestr, el valor correspondiente a las variables ids y la nueva variable generada (target)\n",
    "    return: type dataframe, el nuevo df transformado con el unpivot\n",
    "    '''\n",
    "    df = df.melt(id_vars=id_vars, var_name=var_name, value_name=value_name)\n",
    "    return df"
   ]
  },
  {
   "cell_type": "code",
   "execution_count": 151,
   "metadata": {
    "tags": []
   },
   "outputs": [],
   "source": [
    "import datetime as dt\n",
    "def get_dict_semana(since, semana_inicio, semana_fin):\n",
    "    '''\n",
    "    parameters:\n",
    "        since: type str, con el sgte formato 'YYYY-MM-DD'\n",
    "        semana_inicio: type int, semana inicio de la data\n",
    "        semana_fin: type int, semana fin de la data\n",
    "    return: type dict, donde key es la semana_xx y los values son los periodo de inicio y fin de la semana\n",
    "        \n",
    "    '''\n",
    "    periodo_ini = dt.datetime.strptime(since,'%Y-%m-%d')\n",
    "    list_periodo = []\n",
    "    for i in range(semana_inicio-1, semana_fin):\n",
    "        aux = ''\n",
    "        if i<9:\n",
    "            aux = '0'+str(i+1)\n",
    "        else:\n",
    "            aux = str(i+1)\n",
    "\n",
    "        periodo_fin = periodo_ini + dt.timedelta(days=6)\n",
    "        list_periodo.append(['SEMANA_'+aux, periodo_ini, periodo_fin ])\n",
    "        periodo_ini = periodo_fin + dt.timedelta(days=1)\n",
    "\n",
    "    dict_semana = {item[0]:{'periodo_ini': item[1], 'periodo_fin':item[2]} for item in list_periodo}\n",
    "    return dict_semana"
   ]
  },
  {
   "cell_type": "code",
   "execution_count": 152,
   "metadata": {
    "tags": []
   },
   "outputs": [],
   "source": [
    "def managing_semana(df, dict_semana):\n",
    "    '''\n",
    "    Aplicar feature engineering a las variable SEMANA_XX\n",
    "    '''\n",
    "    if 'FECHA_INICIO' not in df.columns:\n",
    "        df['FECHA_INICIO'] = df['SEMANA_XX'].apply(lambda x: dict_semana.get(x)['periodo_ini'])\n",
    "        df['FECHA_FIN'] = df['SEMANA_XX'].apply(lambda x: dict_semana.get(x)['periodo_fin'])\n",
    "    return df"
   ]
  },
  {
   "cell_type": "code",
   "execution_count": 153,
   "metadata": {
    "tags": []
   },
   "outputs": [],
   "source": [
    "def get_dict_categ(df, column):\n",
    "    '''\n",
    "    parameters:\n",
    "      column: type str, se refiere a la variable categorica \n",
    "    return: type dict, retorna un key_value de los valores de las variable categorica\n",
    "    '''\n",
    "    dict_categ = {}\n",
    "    for n,i in enumerate(df[column].unique()):\n",
    "        dict_categ[i] = str(n+1) ### modificar colum\n",
    "    return dict_categ"
   ]
  },
  {
   "cell_type": "code",
   "execution_count": 154,
   "metadata": {
    "tags": []
   },
   "outputs": [],
   "source": [
    "def map_valores_categ(df):\n",
    "    df['Z_MARCA'] = df['Z_MARCA'].map(dict_marca)\n",
    "    df['Z_MODELO'] = df['Z_MODELO'].map(dict_modelo)\n",
    "    df['Z_DEPARTAMENTO'] = df['Z_DEPARTAMENTO'].map(dict_departamento)\n",
    "    df['Z_PUNTO_VENTA'] = df['Z_PUNTO_VENTA'].map(dict_ptoventa)\n",
    "    df['Z_GAMA'] = df['Z_GAMA'].map(dict_gama)\n",
    "    return df"
   ]
  },
  {
   "cell_type": "code",
   "execution_count": 155,
   "metadata": {},
   "outputs": [],
   "source": [
    "def get_feature_selection(fi):\n",
    "    ##method: encontar las variables con una importancia acumulativa al 99% y las variables con zero importancia\n",
    "    zero_importance = fi[fi==0]\n",
    "    aux = fi[fi>0].sort_values(ascending=False)\n",
    "    keep_columns = []\n",
    "    count = 0\n",
    "    for feature,values in zip(aux.index, aux.values):\n",
    "        count+=values\n",
    "        if count<=0.99:\n",
    "            keep_columns.append(feature)\n",
    "            \n",
    "    print(f'total de variables : {len(fi)}')\n",
    "    print(f'variables con importancia acumulada al 99% : {len(keep_columns)}')\n",
    "    print(f'variables con zero importancia : {len(zero_importance)}')\n",
    "    return keep_columns, zero_importance"
   ]
  },
  {
   "cell_type": "code",
   "execution_count": 156,
   "metadata": {},
   "outputs": [],
   "source": [
    "def show_values_on_bars(axs, h_v=\"v\", space=0.4, precision=1):\n",
    "    def _show_on_single_plot(ax):\n",
    "        if h_v == \"v\":\n",
    "            for p in ax.patches:\n",
    "                \n",
    "                _x = p.get_x() + p.get_width() / 2\n",
    "                _y = p.get_y() + p.get_height()\n",
    "                val = p.get_height()\n",
    "                if not str(p.get_height())=='nan':\n",
    "                    value = val\n",
    "                    if isinstance(value, float):\n",
    "                        value = round(value, precision)\n",
    "                    ax.text(_x, _y, value, ha=\"center\")\n",
    "        elif h_v == \"h\":\n",
    "            for p in ax.patches:\n",
    "                _x = p.get_x() + p.get_width() + float(space)\n",
    "                _y = p.get_y() + p.get_height()\n",
    "                value = int(p.get_width())\n",
    "                ax.text(_x, _y, value, ha=\"left\")\n",
    "\n",
    "    if isinstance(axs, np.ndarray):\n",
    "        for idx, ax in np.ndenumerate(axs):\n",
    "            _show_on_single_plot(ax)\n",
    "    else:\n",
    "        _show_on_single_plot(axs)"
   ]
  },
  {
   "cell_type": "markdown",
   "metadata": {
    "tags": []
   },
   "source": [
    "## LOAD DATA Y TRANSFORMACION"
   ]
  },
  {
   "cell_type": "code",
   "execution_count": 157,
   "metadata": {
    "tags": []
   },
   "outputs": [],
   "source": [
    "# /kaggle/input/datathon-entel-2022-reto2\n",
    "ruta = '../data/'\n",
    "train_raw = pd.read_csv(ruta+'train.csv')\n",
    "test_raw =  pd.read_csv(ruta+'test.csv')"
   ]
  },
  {
   "cell_type": "code",
   "execution_count": 158,
   "metadata": {
    "tags": []
   },
   "outputs": [],
   "source": [
    "### unpivot\n",
    "id_vars = ['Z_MARCA','Z_MODELO','Z_GAMA','Z_DEPARTAMENTO','Z_PUNTO_VENTA']\n",
    "var_name = 'SEMANA_XX'\n",
    "value_name = 'TARGET'\n",
    "\n",
    "train_transform = get_unpivoted(train_raw, id_vars, var_name, value_name)\n",
    "test_transform = get_unpivoted(test_raw, id_vars, var_name, value_name)\n",
    "test_transform['TARGET'] = -1"
   ]
  },
  {
   "cell_type": "code",
   "execution_count": 159,
   "metadata": {},
   "outputs": [
    {
     "data": {
      "text/plain": [
       "((2358650, 9), (471730, 9))"
      ]
     },
     "execution_count": 159,
     "metadata": {},
     "output_type": "execute_result"
    }
   ],
   "source": [
    "### featuring engineering semana\n",
    "dict_semana_train = get_dict_semana(since = '2021-05-17', semana_inicio = 1, semana_fin = 50)\n",
    "dict_semana_test = get_dict_semana(since = '2022-05-02', semana_inicio = 51, semana_fin = 60)\n",
    "train_transform = managing_semana(train_transform, dict_semana_train)\n",
    "test_transform = managing_semana(test_transform, dict_semana_test)\n",
    "train_transform.shape, test_transform.shape"
   ]
  },
  {
   "cell_type": "code",
   "execution_count": 160,
   "metadata": {},
   "outputs": [
    {
     "data": {
      "text/html": [
       "<div>\n",
       "<style scoped>\n",
       "    .dataframe tbody tr th:only-of-type {\n",
       "        vertical-align: middle;\n",
       "    }\n",
       "\n",
       "    .dataframe tbody tr th {\n",
       "        vertical-align: top;\n",
       "    }\n",
       "\n",
       "    .dataframe thead th {\n",
       "        text-align: right;\n",
       "    }\n",
       "</style>\n",
       "<table border=\"1\" class=\"dataframe\">\n",
       "  <thead>\n",
       "    <tr style=\"text-align: right;\">\n",
       "      <th></th>\n",
       "      <th>Z_MARCA</th>\n",
       "      <th>Z_MODELO</th>\n",
       "      <th>Z_GAMA</th>\n",
       "      <th>Z_DEPARTAMENTO</th>\n",
       "      <th>Z_PUNTO_VENTA</th>\n",
       "      <th>SEMANA_XX</th>\n",
       "      <th>TARGET</th>\n",
       "      <th>FECHA_INICIO</th>\n",
       "      <th>FECHA_FIN</th>\n",
       "    </tr>\n",
       "    <tr>\n",
       "      <th>ID</th>\n",
       "      <th></th>\n",
       "      <th></th>\n",
       "      <th></th>\n",
       "      <th></th>\n",
       "      <th></th>\n",
       "      <th></th>\n",
       "      <th></th>\n",
       "      <th></th>\n",
       "      <th></th>\n",
       "    </tr>\n",
       "  </thead>\n",
       "  <tbody>\n",
       "    <tr>\n",
       "      <th>1161c077d04c02902341ddd6f20f322d6fdaac2619ecf1079f498d53d42ff438|0fedacb725c2c2128d2b42505880d91d238e616b926278c41caff6da4c622e51|f793de205ead5ac302c4a1627829dea41f176b1068b993a32373fc869918374b|SEMANA_01</th>\n",
       "      <td>0855cd73c3a9dc2c31a7c4dcaecfd53282238c6a457a5c...</td>\n",
       "      <td>1161c077d04c02902341ddd6f20f322d6fdaac2619ecf1...</td>\n",
       "      <td>f793de205ead5ac302c4a1627829dea41f176b1068b993...</td>\n",
       "      <td>110820d992b7649baca108cda049eff2fcf6804fd4c989...</td>\n",
       "      <td>0fedacb725c2c2128d2b42505880d91d238e616b926278...</td>\n",
       "      <td>SEMANA_01</td>\n",
       "      <td>0</td>\n",
       "      <td>2021-05-17</td>\n",
       "      <td>2021-05-23</td>\n",
       "    </tr>\n",
       "    <tr>\n",
       "      <th>1161c077d04c02902341ddd6f20f322d6fdaac2619ecf1079f498d53d42ff438|0fedacb725c2c2128d2b42505880d91d238e616b926278c41caff6da4c622e51|f793de205ead5ac302c4a1627829dea41f176b1068b993a32373fc869918374b|SEMANA_02</th>\n",
       "      <td>0855cd73c3a9dc2c31a7c4dcaecfd53282238c6a457a5c...</td>\n",
       "      <td>1161c077d04c02902341ddd6f20f322d6fdaac2619ecf1...</td>\n",
       "      <td>f793de205ead5ac302c4a1627829dea41f176b1068b993...</td>\n",
       "      <td>110820d992b7649baca108cda049eff2fcf6804fd4c989...</td>\n",
       "      <td>0fedacb725c2c2128d2b42505880d91d238e616b926278...</td>\n",
       "      <td>SEMANA_02</td>\n",
       "      <td>0</td>\n",
       "      <td>2021-05-24</td>\n",
       "      <td>2021-05-30</td>\n",
       "    </tr>\n",
       "    <tr>\n",
       "      <th>1161c077d04c02902341ddd6f20f322d6fdaac2619ecf1079f498d53d42ff438|0fedacb725c2c2128d2b42505880d91d238e616b926278c41caff6da4c622e51|f793de205ead5ac302c4a1627829dea41f176b1068b993a32373fc869918374b|SEMANA_03</th>\n",
       "      <td>0855cd73c3a9dc2c31a7c4dcaecfd53282238c6a457a5c...</td>\n",
       "      <td>1161c077d04c02902341ddd6f20f322d6fdaac2619ecf1...</td>\n",
       "      <td>f793de205ead5ac302c4a1627829dea41f176b1068b993...</td>\n",
       "      <td>110820d992b7649baca108cda049eff2fcf6804fd4c989...</td>\n",
       "      <td>0fedacb725c2c2128d2b42505880d91d238e616b926278...</td>\n",
       "      <td>SEMANA_03</td>\n",
       "      <td>0</td>\n",
       "      <td>2021-05-31</td>\n",
       "      <td>2021-06-06</td>\n",
       "    </tr>\n",
       "    <tr>\n",
       "      <th>1161c077d04c02902341ddd6f20f322d6fdaac2619ecf1079f498d53d42ff438|0fedacb725c2c2128d2b42505880d91d238e616b926278c41caff6da4c622e51|f793de205ead5ac302c4a1627829dea41f176b1068b993a32373fc869918374b|SEMANA_04</th>\n",
       "      <td>0855cd73c3a9dc2c31a7c4dcaecfd53282238c6a457a5c...</td>\n",
       "      <td>1161c077d04c02902341ddd6f20f322d6fdaac2619ecf1...</td>\n",
       "      <td>f793de205ead5ac302c4a1627829dea41f176b1068b993...</td>\n",
       "      <td>110820d992b7649baca108cda049eff2fcf6804fd4c989...</td>\n",
       "      <td>0fedacb725c2c2128d2b42505880d91d238e616b926278...</td>\n",
       "      <td>SEMANA_04</td>\n",
       "      <td>0</td>\n",
       "      <td>2021-06-07</td>\n",
       "      <td>2021-06-13</td>\n",
       "    </tr>\n",
       "    <tr>\n",
       "      <th>1161c077d04c02902341ddd6f20f322d6fdaac2619ecf1079f498d53d42ff438|0fedacb725c2c2128d2b42505880d91d238e616b926278c41caff6da4c622e51|f793de205ead5ac302c4a1627829dea41f176b1068b993a32373fc869918374b|SEMANA_05</th>\n",
       "      <td>0855cd73c3a9dc2c31a7c4dcaecfd53282238c6a457a5c...</td>\n",
       "      <td>1161c077d04c02902341ddd6f20f322d6fdaac2619ecf1...</td>\n",
       "      <td>f793de205ead5ac302c4a1627829dea41f176b1068b993...</td>\n",
       "      <td>110820d992b7649baca108cda049eff2fcf6804fd4c989...</td>\n",
       "      <td>0fedacb725c2c2128d2b42505880d91d238e616b926278...</td>\n",
       "      <td>SEMANA_05</td>\n",
       "      <td>0</td>\n",
       "      <td>2021-06-14</td>\n",
       "      <td>2021-06-20</td>\n",
       "    </tr>\n",
       "    <tr>\n",
       "      <th>...</th>\n",
       "      <td>...</td>\n",
       "      <td>...</td>\n",
       "      <td>...</td>\n",
       "      <td>...</td>\n",
       "      <td>...</td>\n",
       "      <td>...</td>\n",
       "      <td>...</td>\n",
       "      <td>...</td>\n",
       "      <td>...</td>\n",
       "    </tr>\n",
       "    <tr>\n",
       "      <th>ddf2b5328dafe4a5863dc2463578ea789284d9519431204bcd0ab3cb17ac426d|ac45b56f385a5564f090e7afd47d721d3a491796bd3a1230f7c8caa84c5fbc5c|f793de205ead5ac302c4a1627829dea41f176b1068b993a32373fc869918374b|SEMANA_56</th>\n",
       "      <td>f4920dac3075feca0bd92a92f6691f50e9f815e5e398f8...</td>\n",
       "      <td>ddf2b5328dafe4a5863dc2463578ea789284d951943120...</td>\n",
       "      <td>f793de205ead5ac302c4a1627829dea41f176b1068b993...</td>\n",
       "      <td>ee5949f8b5ff823b330c243762295ce7ede1a751f35b94...</td>\n",
       "      <td>ac45b56f385a5564f090e7afd47d721d3a491796bd3a12...</td>\n",
       "      <td>SEMANA_56</td>\n",
       "      <td>-1</td>\n",
       "      <td>2022-06-06</td>\n",
       "      <td>2022-06-12</td>\n",
       "    </tr>\n",
       "    <tr>\n",
       "      <th>ddf2b5328dafe4a5863dc2463578ea789284d9519431204bcd0ab3cb17ac426d|ac45b56f385a5564f090e7afd47d721d3a491796bd3a1230f7c8caa84c5fbc5c|f793de205ead5ac302c4a1627829dea41f176b1068b993a32373fc869918374b|SEMANA_57</th>\n",
       "      <td>f4920dac3075feca0bd92a92f6691f50e9f815e5e398f8...</td>\n",
       "      <td>ddf2b5328dafe4a5863dc2463578ea789284d951943120...</td>\n",
       "      <td>f793de205ead5ac302c4a1627829dea41f176b1068b993...</td>\n",
       "      <td>ee5949f8b5ff823b330c243762295ce7ede1a751f35b94...</td>\n",
       "      <td>ac45b56f385a5564f090e7afd47d721d3a491796bd3a12...</td>\n",
       "      <td>SEMANA_57</td>\n",
       "      <td>-1</td>\n",
       "      <td>2022-06-13</td>\n",
       "      <td>2022-06-19</td>\n",
       "    </tr>\n",
       "    <tr>\n",
       "      <th>ddf2b5328dafe4a5863dc2463578ea789284d9519431204bcd0ab3cb17ac426d|ac45b56f385a5564f090e7afd47d721d3a491796bd3a1230f7c8caa84c5fbc5c|f793de205ead5ac302c4a1627829dea41f176b1068b993a32373fc869918374b|SEMANA_58</th>\n",
       "      <td>f4920dac3075feca0bd92a92f6691f50e9f815e5e398f8...</td>\n",
       "      <td>ddf2b5328dafe4a5863dc2463578ea789284d951943120...</td>\n",
       "      <td>f793de205ead5ac302c4a1627829dea41f176b1068b993...</td>\n",
       "      <td>ee5949f8b5ff823b330c243762295ce7ede1a751f35b94...</td>\n",
       "      <td>ac45b56f385a5564f090e7afd47d721d3a491796bd3a12...</td>\n",
       "      <td>SEMANA_58</td>\n",
       "      <td>-1</td>\n",
       "      <td>2022-06-20</td>\n",
       "      <td>2022-06-26</td>\n",
       "    </tr>\n",
       "    <tr>\n",
       "      <th>ddf2b5328dafe4a5863dc2463578ea789284d9519431204bcd0ab3cb17ac426d|ac45b56f385a5564f090e7afd47d721d3a491796bd3a1230f7c8caa84c5fbc5c|f793de205ead5ac302c4a1627829dea41f176b1068b993a32373fc869918374b|SEMANA_59</th>\n",
       "      <td>f4920dac3075feca0bd92a92f6691f50e9f815e5e398f8...</td>\n",
       "      <td>ddf2b5328dafe4a5863dc2463578ea789284d951943120...</td>\n",
       "      <td>f793de205ead5ac302c4a1627829dea41f176b1068b993...</td>\n",
       "      <td>ee5949f8b5ff823b330c243762295ce7ede1a751f35b94...</td>\n",
       "      <td>ac45b56f385a5564f090e7afd47d721d3a491796bd3a12...</td>\n",
       "      <td>SEMANA_59</td>\n",
       "      <td>-1</td>\n",
       "      <td>2022-06-27</td>\n",
       "      <td>2022-07-03</td>\n",
       "    </tr>\n",
       "    <tr>\n",
       "      <th>ddf2b5328dafe4a5863dc2463578ea789284d9519431204bcd0ab3cb17ac426d|ac45b56f385a5564f090e7afd47d721d3a491796bd3a1230f7c8caa84c5fbc5c|f793de205ead5ac302c4a1627829dea41f176b1068b993a32373fc869918374b|SEMANA_60</th>\n",
       "      <td>f4920dac3075feca0bd92a92f6691f50e9f815e5e398f8...</td>\n",
       "      <td>ddf2b5328dafe4a5863dc2463578ea789284d951943120...</td>\n",
       "      <td>f793de205ead5ac302c4a1627829dea41f176b1068b993...</td>\n",
       "      <td>ee5949f8b5ff823b330c243762295ce7ede1a751f35b94...</td>\n",
       "      <td>ac45b56f385a5564f090e7afd47d721d3a491796bd3a12...</td>\n",
       "      <td>SEMANA_60</td>\n",
       "      <td>-1</td>\n",
       "      <td>2022-07-04</td>\n",
       "      <td>2022-07-10</td>\n",
       "    </tr>\n",
       "  </tbody>\n",
       "</table>\n",
       "<p>2830380 rows × 9 columns</p>\n",
       "</div>"
      ],
      "text/plain": [
       "                                                                                              Z_MARCA  \\\n",
       "ID                                                                                                      \n",
       "1161c077d04c02902341ddd6f20f322d6fdaac2619ecf10...  0855cd73c3a9dc2c31a7c4dcaecfd53282238c6a457a5c...   \n",
       "1161c077d04c02902341ddd6f20f322d6fdaac2619ecf10...  0855cd73c3a9dc2c31a7c4dcaecfd53282238c6a457a5c...   \n",
       "1161c077d04c02902341ddd6f20f322d6fdaac2619ecf10...  0855cd73c3a9dc2c31a7c4dcaecfd53282238c6a457a5c...   \n",
       "1161c077d04c02902341ddd6f20f322d6fdaac2619ecf10...  0855cd73c3a9dc2c31a7c4dcaecfd53282238c6a457a5c...   \n",
       "1161c077d04c02902341ddd6f20f322d6fdaac2619ecf10...  0855cd73c3a9dc2c31a7c4dcaecfd53282238c6a457a5c...   \n",
       "...                                                                                               ...   \n",
       "ddf2b5328dafe4a5863dc2463578ea789284d9519431204...  f4920dac3075feca0bd92a92f6691f50e9f815e5e398f8...   \n",
       "ddf2b5328dafe4a5863dc2463578ea789284d9519431204...  f4920dac3075feca0bd92a92f6691f50e9f815e5e398f8...   \n",
       "ddf2b5328dafe4a5863dc2463578ea789284d9519431204...  f4920dac3075feca0bd92a92f6691f50e9f815e5e398f8...   \n",
       "ddf2b5328dafe4a5863dc2463578ea789284d9519431204...  f4920dac3075feca0bd92a92f6691f50e9f815e5e398f8...   \n",
       "ddf2b5328dafe4a5863dc2463578ea789284d9519431204...  f4920dac3075feca0bd92a92f6691f50e9f815e5e398f8...   \n",
       "\n",
       "                                                                                             Z_MODELO  \\\n",
       "ID                                                                                                      \n",
       "1161c077d04c02902341ddd6f20f322d6fdaac2619ecf10...  1161c077d04c02902341ddd6f20f322d6fdaac2619ecf1...   \n",
       "1161c077d04c02902341ddd6f20f322d6fdaac2619ecf10...  1161c077d04c02902341ddd6f20f322d6fdaac2619ecf1...   \n",
       "1161c077d04c02902341ddd6f20f322d6fdaac2619ecf10...  1161c077d04c02902341ddd6f20f322d6fdaac2619ecf1...   \n",
       "1161c077d04c02902341ddd6f20f322d6fdaac2619ecf10...  1161c077d04c02902341ddd6f20f322d6fdaac2619ecf1...   \n",
       "1161c077d04c02902341ddd6f20f322d6fdaac2619ecf10...  1161c077d04c02902341ddd6f20f322d6fdaac2619ecf1...   \n",
       "...                                                                                               ...   \n",
       "ddf2b5328dafe4a5863dc2463578ea789284d9519431204...  ddf2b5328dafe4a5863dc2463578ea789284d951943120...   \n",
       "ddf2b5328dafe4a5863dc2463578ea789284d9519431204...  ddf2b5328dafe4a5863dc2463578ea789284d951943120...   \n",
       "ddf2b5328dafe4a5863dc2463578ea789284d9519431204...  ddf2b5328dafe4a5863dc2463578ea789284d951943120...   \n",
       "ddf2b5328dafe4a5863dc2463578ea789284d9519431204...  ddf2b5328dafe4a5863dc2463578ea789284d951943120...   \n",
       "ddf2b5328dafe4a5863dc2463578ea789284d9519431204...  ddf2b5328dafe4a5863dc2463578ea789284d951943120...   \n",
       "\n",
       "                                                                                               Z_GAMA  \\\n",
       "ID                                                                                                      \n",
       "1161c077d04c02902341ddd6f20f322d6fdaac2619ecf10...  f793de205ead5ac302c4a1627829dea41f176b1068b993...   \n",
       "1161c077d04c02902341ddd6f20f322d6fdaac2619ecf10...  f793de205ead5ac302c4a1627829dea41f176b1068b993...   \n",
       "1161c077d04c02902341ddd6f20f322d6fdaac2619ecf10...  f793de205ead5ac302c4a1627829dea41f176b1068b993...   \n",
       "1161c077d04c02902341ddd6f20f322d6fdaac2619ecf10...  f793de205ead5ac302c4a1627829dea41f176b1068b993...   \n",
       "1161c077d04c02902341ddd6f20f322d6fdaac2619ecf10...  f793de205ead5ac302c4a1627829dea41f176b1068b993...   \n",
       "...                                                                                               ...   \n",
       "ddf2b5328dafe4a5863dc2463578ea789284d9519431204...  f793de205ead5ac302c4a1627829dea41f176b1068b993...   \n",
       "ddf2b5328dafe4a5863dc2463578ea789284d9519431204...  f793de205ead5ac302c4a1627829dea41f176b1068b993...   \n",
       "ddf2b5328dafe4a5863dc2463578ea789284d9519431204...  f793de205ead5ac302c4a1627829dea41f176b1068b993...   \n",
       "ddf2b5328dafe4a5863dc2463578ea789284d9519431204...  f793de205ead5ac302c4a1627829dea41f176b1068b993...   \n",
       "ddf2b5328dafe4a5863dc2463578ea789284d9519431204...  f793de205ead5ac302c4a1627829dea41f176b1068b993...   \n",
       "\n",
       "                                                                                       Z_DEPARTAMENTO  \\\n",
       "ID                                                                                                      \n",
       "1161c077d04c02902341ddd6f20f322d6fdaac2619ecf10...  110820d992b7649baca108cda049eff2fcf6804fd4c989...   \n",
       "1161c077d04c02902341ddd6f20f322d6fdaac2619ecf10...  110820d992b7649baca108cda049eff2fcf6804fd4c989...   \n",
       "1161c077d04c02902341ddd6f20f322d6fdaac2619ecf10...  110820d992b7649baca108cda049eff2fcf6804fd4c989...   \n",
       "1161c077d04c02902341ddd6f20f322d6fdaac2619ecf10...  110820d992b7649baca108cda049eff2fcf6804fd4c989...   \n",
       "1161c077d04c02902341ddd6f20f322d6fdaac2619ecf10...  110820d992b7649baca108cda049eff2fcf6804fd4c989...   \n",
       "...                                                                                               ...   \n",
       "ddf2b5328dafe4a5863dc2463578ea789284d9519431204...  ee5949f8b5ff823b330c243762295ce7ede1a751f35b94...   \n",
       "ddf2b5328dafe4a5863dc2463578ea789284d9519431204...  ee5949f8b5ff823b330c243762295ce7ede1a751f35b94...   \n",
       "ddf2b5328dafe4a5863dc2463578ea789284d9519431204...  ee5949f8b5ff823b330c243762295ce7ede1a751f35b94...   \n",
       "ddf2b5328dafe4a5863dc2463578ea789284d9519431204...  ee5949f8b5ff823b330c243762295ce7ede1a751f35b94...   \n",
       "ddf2b5328dafe4a5863dc2463578ea789284d9519431204...  ee5949f8b5ff823b330c243762295ce7ede1a751f35b94...   \n",
       "\n",
       "                                                                                        Z_PUNTO_VENTA  \\\n",
       "ID                                                                                                      \n",
       "1161c077d04c02902341ddd6f20f322d6fdaac2619ecf10...  0fedacb725c2c2128d2b42505880d91d238e616b926278...   \n",
       "1161c077d04c02902341ddd6f20f322d6fdaac2619ecf10...  0fedacb725c2c2128d2b42505880d91d238e616b926278...   \n",
       "1161c077d04c02902341ddd6f20f322d6fdaac2619ecf10...  0fedacb725c2c2128d2b42505880d91d238e616b926278...   \n",
       "1161c077d04c02902341ddd6f20f322d6fdaac2619ecf10...  0fedacb725c2c2128d2b42505880d91d238e616b926278...   \n",
       "1161c077d04c02902341ddd6f20f322d6fdaac2619ecf10...  0fedacb725c2c2128d2b42505880d91d238e616b926278...   \n",
       "...                                                                                               ...   \n",
       "ddf2b5328dafe4a5863dc2463578ea789284d9519431204...  ac45b56f385a5564f090e7afd47d721d3a491796bd3a12...   \n",
       "ddf2b5328dafe4a5863dc2463578ea789284d9519431204...  ac45b56f385a5564f090e7afd47d721d3a491796bd3a12...   \n",
       "ddf2b5328dafe4a5863dc2463578ea789284d9519431204...  ac45b56f385a5564f090e7afd47d721d3a491796bd3a12...   \n",
       "ddf2b5328dafe4a5863dc2463578ea789284d9519431204...  ac45b56f385a5564f090e7afd47d721d3a491796bd3a12...   \n",
       "ddf2b5328dafe4a5863dc2463578ea789284d9519431204...  ac45b56f385a5564f090e7afd47d721d3a491796bd3a12...   \n",
       "\n",
       "                                                    SEMANA_XX  TARGET  \\\n",
       "ID                                                                      \n",
       "1161c077d04c02902341ddd6f20f322d6fdaac2619ecf10...  SEMANA_01       0   \n",
       "1161c077d04c02902341ddd6f20f322d6fdaac2619ecf10...  SEMANA_02       0   \n",
       "1161c077d04c02902341ddd6f20f322d6fdaac2619ecf10...  SEMANA_03       0   \n",
       "1161c077d04c02902341ddd6f20f322d6fdaac2619ecf10...  SEMANA_04       0   \n",
       "1161c077d04c02902341ddd6f20f322d6fdaac2619ecf10...  SEMANA_05       0   \n",
       "...                                                       ...     ...   \n",
       "ddf2b5328dafe4a5863dc2463578ea789284d9519431204...  SEMANA_56      -1   \n",
       "ddf2b5328dafe4a5863dc2463578ea789284d9519431204...  SEMANA_57      -1   \n",
       "ddf2b5328dafe4a5863dc2463578ea789284d9519431204...  SEMANA_58      -1   \n",
       "ddf2b5328dafe4a5863dc2463578ea789284d9519431204...  SEMANA_59      -1   \n",
       "ddf2b5328dafe4a5863dc2463578ea789284d9519431204...  SEMANA_60      -1   \n",
       "\n",
       "                                                   FECHA_INICIO  FECHA_FIN  \n",
       "ID                                                                          \n",
       "1161c077d04c02902341ddd6f20f322d6fdaac2619ecf10...   2021-05-17 2021-05-23  \n",
       "1161c077d04c02902341ddd6f20f322d6fdaac2619ecf10...   2021-05-24 2021-05-30  \n",
       "1161c077d04c02902341ddd6f20f322d6fdaac2619ecf10...   2021-05-31 2021-06-06  \n",
       "1161c077d04c02902341ddd6f20f322d6fdaac2619ecf10...   2021-06-07 2021-06-13  \n",
       "1161c077d04c02902341ddd6f20f322d6fdaac2619ecf10...   2021-06-14 2021-06-20  \n",
       "...                                                         ...        ...  \n",
       "ddf2b5328dafe4a5863dc2463578ea789284d9519431204...   2022-06-06 2022-06-12  \n",
       "ddf2b5328dafe4a5863dc2463578ea789284d9519431204...   2022-06-13 2022-06-19  \n",
       "ddf2b5328dafe4a5863dc2463578ea789284d9519431204...   2022-06-20 2022-06-26  \n",
       "ddf2b5328dafe4a5863dc2463578ea789284d9519431204...   2022-06-27 2022-07-03  \n",
       "ddf2b5328dafe4a5863dc2463578ea789284d9519431204...   2022-07-04 2022-07-10  \n",
       "\n",
       "[2830380 rows x 9 columns]"
      ]
     },
     "execution_count": 160,
     "metadata": {},
     "output_type": "execute_result"
    }
   ],
   "source": [
    "## concat\n",
    "demanda = pd.concat([train_transform, test_transform], axis=0)\n",
    "demanda['TARGET'] = demanda['TARGET'].astype('int32')\n",
    "demanda['ID'] = (demanda['Z_MODELO']+'|'+demanda['Z_PUNTO_VENTA']+'|'+ demanda['Z_GAMA']+'|'+demanda['SEMANA_XX'])\n",
    "demanda.set_index('ID', inplace=True)\n",
    "demanda.sort_values(['Z_MARCA', 'Z_MODELO', 'Z_GAMA', 'Z_DEPARTAMENTO','Z_PUNTO_VENTA','SEMANA_XX'], inplace=True)\n",
    "demanda"
   ]
  },
  {
   "cell_type": "code",
   "execution_count": 161,
   "metadata": {
    "scrolled": true
   },
   "outputs": [
    {
     "data": {
      "text/html": [
       "<div>\n",
       "<style scoped>\n",
       "    .dataframe tbody tr th:only-of-type {\n",
       "        vertical-align: middle;\n",
       "    }\n",
       "\n",
       "    .dataframe tbody tr th {\n",
       "        vertical-align: top;\n",
       "    }\n",
       "\n",
       "    .dataframe thead th {\n",
       "        text-align: right;\n",
       "    }\n",
       "</style>\n",
       "<table border=\"1\" class=\"dataframe\">\n",
       "  <thead>\n",
       "    <tr style=\"text-align: right;\">\n",
       "      <th></th>\n",
       "      <th>Z_MARCA</th>\n",
       "      <th>Z_MODELO</th>\n",
       "      <th>Z_GAMA</th>\n",
       "      <th>Z_DEPARTAMENTO</th>\n",
       "      <th>Z_PUNTO_VENTA</th>\n",
       "      <th>SEMANA_XX</th>\n",
       "      <th>FECHA_INICIO</th>\n",
       "      <th>FECHA_FIN</th>\n",
       "      <th>TARGET</th>\n",
       "    </tr>\n",
       "    <tr>\n",
       "      <th>ID</th>\n",
       "      <th></th>\n",
       "      <th></th>\n",
       "      <th></th>\n",
       "      <th></th>\n",
       "      <th></th>\n",
       "      <th></th>\n",
       "      <th></th>\n",
       "      <th></th>\n",
       "      <th></th>\n",
       "    </tr>\n",
       "  </thead>\n",
       "  <tbody>\n",
       "    <tr>\n",
       "      <th>1161c077d04c02902341ddd6f20f322d6fdaac2619ecf1079f498d53d42ff438|0fedacb725c2c2128d2b42505880d91d238e616b926278c41caff6da4c622e51|f793de205ead5ac302c4a1627829dea41f176b1068b993a32373fc869918374b|SEMANA_01</th>\n",
       "      <td>1</td>\n",
       "      <td>1</td>\n",
       "      <td>1</td>\n",
       "      <td>1</td>\n",
       "      <td>1</td>\n",
       "      <td>SEMANA_01</td>\n",
       "      <td>2021-05-17</td>\n",
       "      <td>2021-05-23</td>\n",
       "      <td>0</td>\n",
       "    </tr>\n",
       "    <tr>\n",
       "      <th>1161c077d04c02902341ddd6f20f322d6fdaac2619ecf1079f498d53d42ff438|0fedacb725c2c2128d2b42505880d91d238e616b926278c41caff6da4c622e51|f793de205ead5ac302c4a1627829dea41f176b1068b993a32373fc869918374b|SEMANA_02</th>\n",
       "      <td>1</td>\n",
       "      <td>1</td>\n",
       "      <td>1</td>\n",
       "      <td>1</td>\n",
       "      <td>1</td>\n",
       "      <td>SEMANA_02</td>\n",
       "      <td>2021-05-24</td>\n",
       "      <td>2021-05-30</td>\n",
       "      <td>0</td>\n",
       "    </tr>\n",
       "    <tr>\n",
       "      <th>1161c077d04c02902341ddd6f20f322d6fdaac2619ecf1079f498d53d42ff438|0fedacb725c2c2128d2b42505880d91d238e616b926278c41caff6da4c622e51|f793de205ead5ac302c4a1627829dea41f176b1068b993a32373fc869918374b|SEMANA_03</th>\n",
       "      <td>1</td>\n",
       "      <td>1</td>\n",
       "      <td>1</td>\n",
       "      <td>1</td>\n",
       "      <td>1</td>\n",
       "      <td>SEMANA_03</td>\n",
       "      <td>2021-05-31</td>\n",
       "      <td>2021-06-06</td>\n",
       "      <td>0</td>\n",
       "    </tr>\n",
       "    <tr>\n",
       "      <th>1161c077d04c02902341ddd6f20f322d6fdaac2619ecf1079f498d53d42ff438|0fedacb725c2c2128d2b42505880d91d238e616b926278c41caff6da4c622e51|f793de205ead5ac302c4a1627829dea41f176b1068b993a32373fc869918374b|SEMANA_04</th>\n",
       "      <td>1</td>\n",
       "      <td>1</td>\n",
       "      <td>1</td>\n",
       "      <td>1</td>\n",
       "      <td>1</td>\n",
       "      <td>SEMANA_04</td>\n",
       "      <td>2021-06-07</td>\n",
       "      <td>2021-06-13</td>\n",
       "      <td>0</td>\n",
       "    </tr>\n",
       "    <tr>\n",
       "      <th>1161c077d04c02902341ddd6f20f322d6fdaac2619ecf1079f498d53d42ff438|0fedacb725c2c2128d2b42505880d91d238e616b926278c41caff6da4c622e51|f793de205ead5ac302c4a1627829dea41f176b1068b993a32373fc869918374b|SEMANA_05</th>\n",
       "      <td>1</td>\n",
       "      <td>1</td>\n",
       "      <td>1</td>\n",
       "      <td>1</td>\n",
       "      <td>1</td>\n",
       "      <td>SEMANA_05</td>\n",
       "      <td>2021-06-14</td>\n",
       "      <td>2021-06-20</td>\n",
       "      <td>0</td>\n",
       "    </tr>\n",
       "    <tr>\n",
       "      <th>...</th>\n",
       "      <td>...</td>\n",
       "      <td>...</td>\n",
       "      <td>...</td>\n",
       "      <td>...</td>\n",
       "      <td>...</td>\n",
       "      <td>...</td>\n",
       "      <td>...</td>\n",
       "      <td>...</td>\n",
       "      <td>...</td>\n",
       "    </tr>\n",
       "    <tr>\n",
       "      <th>ddf2b5328dafe4a5863dc2463578ea789284d9519431204bcd0ab3cb17ac426d|ac45b56f385a5564f090e7afd47d721d3a491796bd3a1230f7c8caa84c5fbc5c|f793de205ead5ac302c4a1627829dea41f176b1068b993a32373fc869918374b|SEMANA_56</th>\n",
       "      <td>17</td>\n",
       "      <td>318</td>\n",
       "      <td>1</td>\n",
       "      <td>24</td>\n",
       "      <td>414</td>\n",
       "      <td>SEMANA_56</td>\n",
       "      <td>2022-06-06</td>\n",
       "      <td>2022-06-12</td>\n",
       "      <td>-1</td>\n",
       "    </tr>\n",
       "    <tr>\n",
       "      <th>ddf2b5328dafe4a5863dc2463578ea789284d9519431204bcd0ab3cb17ac426d|ac45b56f385a5564f090e7afd47d721d3a491796bd3a1230f7c8caa84c5fbc5c|f793de205ead5ac302c4a1627829dea41f176b1068b993a32373fc869918374b|SEMANA_57</th>\n",
       "      <td>17</td>\n",
       "      <td>318</td>\n",
       "      <td>1</td>\n",
       "      <td>24</td>\n",
       "      <td>414</td>\n",
       "      <td>SEMANA_57</td>\n",
       "      <td>2022-06-13</td>\n",
       "      <td>2022-06-19</td>\n",
       "      <td>-1</td>\n",
       "    </tr>\n",
       "    <tr>\n",
       "      <th>ddf2b5328dafe4a5863dc2463578ea789284d9519431204bcd0ab3cb17ac426d|ac45b56f385a5564f090e7afd47d721d3a491796bd3a1230f7c8caa84c5fbc5c|f793de205ead5ac302c4a1627829dea41f176b1068b993a32373fc869918374b|SEMANA_58</th>\n",
       "      <td>17</td>\n",
       "      <td>318</td>\n",
       "      <td>1</td>\n",
       "      <td>24</td>\n",
       "      <td>414</td>\n",
       "      <td>SEMANA_58</td>\n",
       "      <td>2022-06-20</td>\n",
       "      <td>2022-06-26</td>\n",
       "      <td>-1</td>\n",
       "    </tr>\n",
       "    <tr>\n",
       "      <th>ddf2b5328dafe4a5863dc2463578ea789284d9519431204bcd0ab3cb17ac426d|ac45b56f385a5564f090e7afd47d721d3a491796bd3a1230f7c8caa84c5fbc5c|f793de205ead5ac302c4a1627829dea41f176b1068b993a32373fc869918374b|SEMANA_59</th>\n",
       "      <td>17</td>\n",
       "      <td>318</td>\n",
       "      <td>1</td>\n",
       "      <td>24</td>\n",
       "      <td>414</td>\n",
       "      <td>SEMANA_59</td>\n",
       "      <td>2022-06-27</td>\n",
       "      <td>2022-07-03</td>\n",
       "      <td>-1</td>\n",
       "    </tr>\n",
       "    <tr>\n",
       "      <th>ddf2b5328dafe4a5863dc2463578ea789284d9519431204bcd0ab3cb17ac426d|ac45b56f385a5564f090e7afd47d721d3a491796bd3a1230f7c8caa84c5fbc5c|f793de205ead5ac302c4a1627829dea41f176b1068b993a32373fc869918374b|SEMANA_60</th>\n",
       "      <td>17</td>\n",
       "      <td>318</td>\n",
       "      <td>1</td>\n",
       "      <td>24</td>\n",
       "      <td>414</td>\n",
       "      <td>SEMANA_60</td>\n",
       "      <td>2022-07-04</td>\n",
       "      <td>2022-07-10</td>\n",
       "      <td>-1</td>\n",
       "    </tr>\n",
       "  </tbody>\n",
       "</table>\n",
       "<p>2830380 rows × 9 columns</p>\n",
       "</div>"
      ],
      "text/plain": [
       "                                                   Z_MARCA Z_MODELO Z_GAMA  \\\n",
       "ID                                                                           \n",
       "1161c077d04c02902341ddd6f20f322d6fdaac2619ecf10...       1        1      1   \n",
       "1161c077d04c02902341ddd6f20f322d6fdaac2619ecf10...       1        1      1   \n",
       "1161c077d04c02902341ddd6f20f322d6fdaac2619ecf10...       1        1      1   \n",
       "1161c077d04c02902341ddd6f20f322d6fdaac2619ecf10...       1        1      1   \n",
       "1161c077d04c02902341ddd6f20f322d6fdaac2619ecf10...       1        1      1   \n",
       "...                                                    ...      ...    ...   \n",
       "ddf2b5328dafe4a5863dc2463578ea789284d9519431204...      17      318      1   \n",
       "ddf2b5328dafe4a5863dc2463578ea789284d9519431204...      17      318      1   \n",
       "ddf2b5328dafe4a5863dc2463578ea789284d9519431204...      17      318      1   \n",
       "ddf2b5328dafe4a5863dc2463578ea789284d9519431204...      17      318      1   \n",
       "ddf2b5328dafe4a5863dc2463578ea789284d9519431204...      17      318      1   \n",
       "\n",
       "                                                   Z_DEPARTAMENTO  \\\n",
       "ID                                                                  \n",
       "1161c077d04c02902341ddd6f20f322d6fdaac2619ecf10...              1   \n",
       "1161c077d04c02902341ddd6f20f322d6fdaac2619ecf10...              1   \n",
       "1161c077d04c02902341ddd6f20f322d6fdaac2619ecf10...              1   \n",
       "1161c077d04c02902341ddd6f20f322d6fdaac2619ecf10...              1   \n",
       "1161c077d04c02902341ddd6f20f322d6fdaac2619ecf10...              1   \n",
       "...                                                           ...   \n",
       "ddf2b5328dafe4a5863dc2463578ea789284d9519431204...             24   \n",
       "ddf2b5328dafe4a5863dc2463578ea789284d9519431204...             24   \n",
       "ddf2b5328dafe4a5863dc2463578ea789284d9519431204...             24   \n",
       "ddf2b5328dafe4a5863dc2463578ea789284d9519431204...             24   \n",
       "ddf2b5328dafe4a5863dc2463578ea789284d9519431204...             24   \n",
       "\n",
       "                                                   Z_PUNTO_VENTA  SEMANA_XX  \\\n",
       "ID                                                                            \n",
       "1161c077d04c02902341ddd6f20f322d6fdaac2619ecf10...             1  SEMANA_01   \n",
       "1161c077d04c02902341ddd6f20f322d6fdaac2619ecf10...             1  SEMANA_02   \n",
       "1161c077d04c02902341ddd6f20f322d6fdaac2619ecf10...             1  SEMANA_03   \n",
       "1161c077d04c02902341ddd6f20f322d6fdaac2619ecf10...             1  SEMANA_04   \n",
       "1161c077d04c02902341ddd6f20f322d6fdaac2619ecf10...             1  SEMANA_05   \n",
       "...                                                          ...        ...   \n",
       "ddf2b5328dafe4a5863dc2463578ea789284d9519431204...           414  SEMANA_56   \n",
       "ddf2b5328dafe4a5863dc2463578ea789284d9519431204...           414  SEMANA_57   \n",
       "ddf2b5328dafe4a5863dc2463578ea789284d9519431204...           414  SEMANA_58   \n",
       "ddf2b5328dafe4a5863dc2463578ea789284d9519431204...           414  SEMANA_59   \n",
       "ddf2b5328dafe4a5863dc2463578ea789284d9519431204...           414  SEMANA_60   \n",
       "\n",
       "                                                   FECHA_INICIO  FECHA_FIN  \\\n",
       "ID                                                                           \n",
       "1161c077d04c02902341ddd6f20f322d6fdaac2619ecf10...   2021-05-17 2021-05-23   \n",
       "1161c077d04c02902341ddd6f20f322d6fdaac2619ecf10...   2021-05-24 2021-05-30   \n",
       "1161c077d04c02902341ddd6f20f322d6fdaac2619ecf10...   2021-05-31 2021-06-06   \n",
       "1161c077d04c02902341ddd6f20f322d6fdaac2619ecf10...   2021-06-07 2021-06-13   \n",
       "1161c077d04c02902341ddd6f20f322d6fdaac2619ecf10...   2021-06-14 2021-06-20   \n",
       "...                                                         ...        ...   \n",
       "ddf2b5328dafe4a5863dc2463578ea789284d9519431204...   2022-06-06 2022-06-12   \n",
       "ddf2b5328dafe4a5863dc2463578ea789284d9519431204...   2022-06-13 2022-06-19   \n",
       "ddf2b5328dafe4a5863dc2463578ea789284d9519431204...   2022-06-20 2022-06-26   \n",
       "ddf2b5328dafe4a5863dc2463578ea789284d9519431204...   2022-06-27 2022-07-03   \n",
       "ddf2b5328dafe4a5863dc2463578ea789284d9519431204...   2022-07-04 2022-07-10   \n",
       "\n",
       "                                                    TARGET  \n",
       "ID                                                          \n",
       "1161c077d04c02902341ddd6f20f322d6fdaac2619ecf10...       0  \n",
       "1161c077d04c02902341ddd6f20f322d6fdaac2619ecf10...       0  \n",
       "1161c077d04c02902341ddd6f20f322d6fdaac2619ecf10...       0  \n",
       "1161c077d04c02902341ddd6f20f322d6fdaac2619ecf10...       0  \n",
       "1161c077d04c02902341ddd6f20f322d6fdaac2619ecf10...       0  \n",
       "...                                                    ...  \n",
       "ddf2b5328dafe4a5863dc2463578ea789284d9519431204...      -1  \n",
       "ddf2b5328dafe4a5863dc2463578ea789284d9519431204...      -1  \n",
       "ddf2b5328dafe4a5863dc2463578ea789284d9519431204...      -1  \n",
       "ddf2b5328dafe4a5863dc2463578ea789284d9519431204...      -1  \n",
       "ddf2b5328dafe4a5863dc2463578ea789284d9519431204...      -1  \n",
       "\n",
       "[2830380 rows x 9 columns]"
      ]
     },
     "execution_count": 161,
     "metadata": {},
     "output_type": "execute_result"
    }
   ],
   "source": [
    "### label_encoding variables categoricas\n",
    "dict_marca = get_dict_categ(demanda, 'Z_MARCA')\n",
    "dict_modelo = get_dict_categ(demanda, 'Z_MODELO')\n",
    "dict_departamento = get_dict_categ(demanda, 'Z_DEPARTAMENTO')\n",
    "dict_ptoventa = get_dict_categ(demanda, 'Z_PUNTO_VENTA')\n",
    "dict_gama = get_dict_categ(demanda, 'Z_GAMA')\n",
    "demanda = map_valores_categ(demanda)\n",
    "demanda[['Z_MARCA', 'Z_MODELO', 'Z_GAMA', 'Z_DEPARTAMENTO','Z_PUNTO_VENTA','SEMANA_XX','FECHA_INICIO','FECHA_FIN','TARGET']]"
   ]
  },
  {
   "cell_type": "markdown",
   "metadata": {
    "jp-MarkdownHeadingCollapsed": true,
    "tags": []
   },
   "source": [
    "## EDA"
   ]
  },
  {
   "cell_type": "code",
   "execution_count": 15,
   "metadata": {},
   "outputs": [],
   "source": [
    "demanda_train = demanda[demanda['TARGET']>=0].copy()\n",
    "demanda_test = demanda[demanda['TARGET']<0].copy()"
   ]
  },
  {
   "cell_type": "code",
   "execution_count": 16,
   "metadata": {},
   "outputs": [
    {
     "data": {
      "image/png": "[encoded data removed]",
      "text/plain": [
       "<Figure size 432x576 with 1 Axes>"
      ]
     },
     "metadata": {},
     "output_type": "display_data"
    }
   ],
   "source": [
    "demanda_train['TARGET_BINARIO'] = demanda_train['TARGET'].apply(lambda x:  0 if x<1 else 1)\n",
    "demanda_train['TARGET_BINARIO'].value_counts().plot.pie(autopct='%.1f%%', figsize=(6,8));"
   ]
  },
  {
   "cell_type": "code",
   "execution_count": 17,
   "metadata": {},
   "outputs": [
    {
     "data": {
      "text/html": [
       "<div>\n",
       "<style scoped>\n",
       "    .dataframe tbody tr th:only-of-type {\n",
       "        vertical-align: middle;\n",
       "    }\n",
       "\n",
       "    .dataframe tbody tr th {\n",
       "        vertical-align: top;\n",
       "    }\n",
       "\n",
       "    .dataframe thead th {\n",
       "        text-align: right;\n",
       "    }\n",
       "</style>\n",
       "<table border=\"1\" class=\"dataframe\">\n",
       "  <thead>\n",
       "    <tr style=\"text-align: right;\">\n",
       "      <th></th>\n",
       "      <th>Z_MARCA</th>\n",
       "      <th>Z_MODELO</th>\n",
       "      <th>Z_GAMA</th>\n",
       "      <th>Z_DEPARTAMENTO</th>\n",
       "      <th>Z_PUNTO_VENTA</th>\n",
       "      <th>SEMANA_XX</th>\n",
       "      <th>FECHA_INICIO</th>\n",
       "      <th>FECHA_FIN</th>\n",
       "      <th>TARGET</th>\n",
       "    </tr>\n",
       "    <tr>\n",
       "      <th>ID</th>\n",
       "      <th></th>\n",
       "      <th></th>\n",
       "      <th></th>\n",
       "      <th></th>\n",
       "      <th></th>\n",
       "      <th></th>\n",
       "      <th></th>\n",
       "      <th></th>\n",
       "      <th></th>\n",
       "    </tr>\n",
       "  </thead>\n",
       "  <tbody>\n",
       "    <tr>\n",
       "      <th>ddf2b5328dafe4a5863dc2463578ea789284d9519431204bcd0ab3cb17ac426d|ac45b56f385a5564f090e7afd47d721d3a491796bd3a1230f7c8caa84c5fbc5c|f793de205ead5ac302c4a1627829dea41f176b1068b993a32373fc869918374b|SEMANA_01</th>\n",
       "      <td>17</td>\n",
       "      <td>318</td>\n",
       "      <td>1</td>\n",
       "      <td>24</td>\n",
       "      <td>414</td>\n",
       "      <td>SEMANA_01</td>\n",
       "      <td>2021-05-17</td>\n",
       "      <td>2021-05-23</td>\n",
       "      <td>0</td>\n",
       "    </tr>\n",
       "    <tr>\n",
       "      <th>ddf2b5328dafe4a5863dc2463578ea789284d9519431204bcd0ab3cb17ac426d|ac45b56f385a5564f090e7afd47d721d3a491796bd3a1230f7c8caa84c5fbc5c|f793de205ead5ac302c4a1627829dea41f176b1068b993a32373fc869918374b|SEMANA_02</th>\n",
       "      <td>17</td>\n",
       "      <td>318</td>\n",
       "      <td>1</td>\n",
       "      <td>24</td>\n",
       "      <td>414</td>\n",
       "      <td>SEMANA_02</td>\n",
       "      <td>2021-05-24</td>\n",
       "      <td>2021-05-30</td>\n",
       "      <td>0</td>\n",
       "    </tr>\n",
       "    <tr>\n",
       "      <th>ddf2b5328dafe4a5863dc2463578ea789284d9519431204bcd0ab3cb17ac426d|ac45b56f385a5564f090e7afd47d721d3a491796bd3a1230f7c8caa84c5fbc5c|f793de205ead5ac302c4a1627829dea41f176b1068b993a32373fc869918374b|SEMANA_03</th>\n",
       "      <td>17</td>\n",
       "      <td>318</td>\n",
       "      <td>1</td>\n",
       "      <td>24</td>\n",
       "      <td>414</td>\n",
       "      <td>SEMANA_03</td>\n",
       "      <td>2021-05-31</td>\n",
       "      <td>2021-06-06</td>\n",
       "      <td>0</td>\n",
       "    </tr>\n",
       "    <tr>\n",
       "      <th>ddf2b5328dafe4a5863dc2463578ea789284d9519431204bcd0ab3cb17ac426d|ac45b56f385a5564f090e7afd47d721d3a491796bd3a1230f7c8caa84c5fbc5c|f793de205ead5ac302c4a1627829dea41f176b1068b993a32373fc869918374b|SEMANA_04</th>\n",
       "      <td>17</td>\n",
       "      <td>318</td>\n",
       "      <td>1</td>\n",
       "      <td>24</td>\n",
       "      <td>414</td>\n",
       "      <td>SEMANA_04</td>\n",
       "      <td>2021-06-07</td>\n",
       "      <td>2021-06-13</td>\n",
       "      <td>0</td>\n",
       "    </tr>\n",
       "    <tr>\n",
       "      <th>ddf2b5328dafe4a5863dc2463578ea789284d9519431204bcd0ab3cb17ac426d|ac45b56f385a5564f090e7afd47d721d3a491796bd3a1230f7c8caa84c5fbc5c|f793de205ead5ac302c4a1627829dea41f176b1068b993a32373fc869918374b|SEMANA_05</th>\n",
       "      <td>17</td>\n",
       "      <td>318</td>\n",
       "      <td>1</td>\n",
       "      <td>24</td>\n",
       "      <td>414</td>\n",
       "      <td>SEMANA_05</td>\n",
       "      <td>2021-06-14</td>\n",
       "      <td>2021-06-20</td>\n",
       "      <td>0</td>\n",
       "    </tr>\n",
       "    <tr>\n",
       "      <th>ddf2b5328dafe4a5863dc2463578ea789284d9519431204bcd0ab3cb17ac426d|ac45b56f385a5564f090e7afd47d721d3a491796bd3a1230f7c8caa84c5fbc5c|f793de205ead5ac302c4a1627829dea41f176b1068b993a32373fc869918374b|SEMANA_06</th>\n",
       "      <td>17</td>\n",
       "      <td>318</td>\n",
       "      <td>1</td>\n",
       "      <td>24</td>\n",
       "      <td>414</td>\n",
       "      <td>SEMANA_06</td>\n",
       "      <td>2021-06-21</td>\n",
       "      <td>2021-06-27</td>\n",
       "      <td>0</td>\n",
       "    </tr>\n",
       "    <tr>\n",
       "      <th>ddf2b5328dafe4a5863dc2463578ea789284d9519431204bcd0ab3cb17ac426d|ac45b56f385a5564f090e7afd47d721d3a491796bd3a1230f7c8caa84c5fbc5c|f793de205ead5ac302c4a1627829dea41f176b1068b993a32373fc869918374b|SEMANA_07</th>\n",
       "      <td>17</td>\n",
       "      <td>318</td>\n",
       "      <td>1</td>\n",
       "      <td>24</td>\n",
       "      <td>414</td>\n",
       "      <td>SEMANA_07</td>\n",
       "      <td>2021-06-28</td>\n",
       "      <td>2021-07-04</td>\n",
       "      <td>0</td>\n",
       "    </tr>\n",
       "    <tr>\n",
       "      <th>ddf2b5328dafe4a5863dc2463578ea789284d9519431204bcd0ab3cb17ac426d|ac45b56f385a5564f090e7afd47d721d3a491796bd3a1230f7c8caa84c5fbc5c|f793de205ead5ac302c4a1627829dea41f176b1068b993a32373fc869918374b|SEMANA_08</th>\n",
       "      <td>17</td>\n",
       "      <td>318</td>\n",
       "      <td>1</td>\n",
       "      <td>24</td>\n",
       "      <td>414</td>\n",
       "      <td>SEMANA_08</td>\n",
       "      <td>2021-07-05</td>\n",
       "      <td>2021-07-11</td>\n",
       "      <td>0</td>\n",
       "    </tr>\n",
       "    <tr>\n",
       "      <th>ddf2b5328dafe4a5863dc2463578ea789284d9519431204bcd0ab3cb17ac426d|ac45b56f385a5564f090e7afd47d721d3a491796bd3a1230f7c8caa84c5fbc5c|f793de205ead5ac302c4a1627829dea41f176b1068b993a32373fc869918374b|SEMANA_09</th>\n",
       "      <td>17</td>\n",
       "      <td>318</td>\n",
       "      <td>1</td>\n",
       "      <td>24</td>\n",
       "      <td>414</td>\n",
       "      <td>SEMANA_09</td>\n",
       "      <td>2021-07-12</td>\n",
       "      <td>2021-07-18</td>\n",
       "      <td>0</td>\n",
       "    </tr>\n",
       "    <tr>\n",
       "      <th>ddf2b5328dafe4a5863dc2463578ea789284d9519431204bcd0ab3cb17ac426d|ac45b56f385a5564f090e7afd47d721d3a491796bd3a1230f7c8caa84c5fbc5c|f793de205ead5ac302c4a1627829dea41f176b1068b993a32373fc869918374b|SEMANA_10</th>\n",
       "      <td>17</td>\n",
       "      <td>318</td>\n",
       "      <td>1</td>\n",
       "      <td>24</td>\n",
       "      <td>414</td>\n",
       "      <td>SEMANA_10</td>\n",
       "      <td>2021-07-19</td>\n",
       "      <td>2021-07-25</td>\n",
       "      <td>0</td>\n",
       "    </tr>\n",
       "    <tr>\n",
       "      <th>ddf2b5328dafe4a5863dc2463578ea789284d9519431204bcd0ab3cb17ac426d|ac45b56f385a5564f090e7afd47d721d3a491796bd3a1230f7c8caa84c5fbc5c|f793de205ead5ac302c4a1627829dea41f176b1068b993a32373fc869918374b|SEMANA_11</th>\n",
       "      <td>17</td>\n",
       "      <td>318</td>\n",
       "      <td>1</td>\n",
       "      <td>24</td>\n",
       "      <td>414</td>\n",
       "      <td>SEMANA_11</td>\n",
       "      <td>2021-07-26</td>\n",
       "      <td>2021-08-01</td>\n",
       "      <td>0</td>\n",
       "    </tr>\n",
       "    <tr>\n",
       "      <th>ddf2b5328dafe4a5863dc2463578ea789284d9519431204bcd0ab3cb17ac426d|ac45b56f385a5564f090e7afd47d721d3a491796bd3a1230f7c8caa84c5fbc5c|f793de205ead5ac302c4a1627829dea41f176b1068b993a32373fc869918374b|SEMANA_12</th>\n",
       "      <td>17</td>\n",
       "      <td>318</td>\n",
       "      <td>1</td>\n",
       "      <td>24</td>\n",
       "      <td>414</td>\n",
       "      <td>SEMANA_12</td>\n",
       "      <td>2021-08-02</td>\n",
       "      <td>2021-08-08</td>\n",
       "      <td>1</td>\n",
       "    </tr>\n",
       "    <tr>\n",
       "      <th>ddf2b5328dafe4a5863dc2463578ea789284d9519431204bcd0ab3cb17ac426d|ac45b56f385a5564f090e7afd47d721d3a491796bd3a1230f7c8caa84c5fbc5c|f793de205ead5ac302c4a1627829dea41f176b1068b993a32373fc869918374b|SEMANA_13</th>\n",
       "      <td>17</td>\n",
       "      <td>318</td>\n",
       "      <td>1</td>\n",
       "      <td>24</td>\n",
       "      <td>414</td>\n",
       "      <td>SEMANA_13</td>\n",
       "      <td>2021-08-09</td>\n",
       "      <td>2021-08-15</td>\n",
       "      <td>0</td>\n",
       "    </tr>\n",
       "    <tr>\n",
       "      <th>ddf2b5328dafe4a5863dc2463578ea789284d9519431204bcd0ab3cb17ac426d|ac45b56f385a5564f090e7afd47d721d3a491796bd3a1230f7c8caa84c5fbc5c|f793de205ead5ac302c4a1627829dea41f176b1068b993a32373fc869918374b|SEMANA_14</th>\n",
       "      <td>17</td>\n",
       "      <td>318</td>\n",
       "      <td>1</td>\n",
       "      <td>24</td>\n",
       "      <td>414</td>\n",
       "      <td>SEMANA_14</td>\n",
       "      <td>2021-08-16</td>\n",
       "      <td>2021-08-22</td>\n",
       "      <td>0</td>\n",
       "    </tr>\n",
       "    <tr>\n",
       "      <th>ddf2b5328dafe4a5863dc2463578ea789284d9519431204bcd0ab3cb17ac426d|ac45b56f385a5564f090e7afd47d721d3a491796bd3a1230f7c8caa84c5fbc5c|f793de205ead5ac302c4a1627829dea41f176b1068b993a32373fc869918374b|SEMANA_15</th>\n",
       "      <td>17</td>\n",
       "      <td>318</td>\n",
       "      <td>1</td>\n",
       "      <td>24</td>\n",
       "      <td>414</td>\n",
       "      <td>SEMANA_15</td>\n",
       "      <td>2021-08-23</td>\n",
       "      <td>2021-08-29</td>\n",
       "      <td>1</td>\n",
       "    </tr>\n",
       "    <tr>\n",
       "      <th>ddf2b5328dafe4a5863dc2463578ea789284d9519431204bcd0ab3cb17ac426d|ac45b56f385a5564f090e7afd47d721d3a491796bd3a1230f7c8caa84c5fbc5c|f793de205ead5ac302c4a1627829dea41f176b1068b993a32373fc869918374b|SEMANA_16</th>\n",
       "      <td>17</td>\n",
       "      <td>318</td>\n",
       "      <td>1</td>\n",
       "      <td>24</td>\n",
       "      <td>414</td>\n",
       "      <td>SEMANA_16</td>\n",
       "      <td>2021-08-30</td>\n",
       "      <td>2021-09-05</td>\n",
       "      <td>0</td>\n",
       "    </tr>\n",
       "    <tr>\n",
       "      <th>ddf2b5328dafe4a5863dc2463578ea789284d9519431204bcd0ab3cb17ac426d|ac45b56f385a5564f090e7afd47d721d3a491796bd3a1230f7c8caa84c5fbc5c|f793de205ead5ac302c4a1627829dea41f176b1068b993a32373fc869918374b|SEMANA_17</th>\n",
       "      <td>17</td>\n",
       "      <td>318</td>\n",
       "      <td>1</td>\n",
       "      <td>24</td>\n",
       "      <td>414</td>\n",
       "      <td>SEMANA_17</td>\n",
       "      <td>2021-09-06</td>\n",
       "      <td>2021-09-12</td>\n",
       "      <td>0</td>\n",
       "    </tr>\n",
       "    <tr>\n",
       "      <th>ddf2b5328dafe4a5863dc2463578ea789284d9519431204bcd0ab3cb17ac426d|ac45b56f385a5564f090e7afd47d721d3a491796bd3a1230f7c8caa84c5fbc5c|f793de205ead5ac302c4a1627829dea41f176b1068b993a32373fc869918374b|SEMANA_18</th>\n",
       "      <td>17</td>\n",
       "      <td>318</td>\n",
       "      <td>1</td>\n",
       "      <td>24</td>\n",
       "      <td>414</td>\n",
       "      <td>SEMANA_18</td>\n",
       "      <td>2021-09-13</td>\n",
       "      <td>2021-09-19</td>\n",
       "      <td>0</td>\n",
       "    </tr>\n",
       "    <tr>\n",
       "      <th>ddf2b5328dafe4a5863dc2463578ea789284d9519431204bcd0ab3cb17ac426d|ac45b56f385a5564f090e7afd47d721d3a491796bd3a1230f7c8caa84c5fbc5c|f793de205ead5ac302c4a1627829dea41f176b1068b993a32373fc869918374b|SEMANA_19</th>\n",
       "      <td>17</td>\n",
       "      <td>318</td>\n",
       "      <td>1</td>\n",
       "      <td>24</td>\n",
       "      <td>414</td>\n",
       "      <td>SEMANA_19</td>\n",
       "      <td>2021-09-20</td>\n",
       "      <td>2021-09-26</td>\n",
       "      <td>0</td>\n",
       "    </tr>\n",
       "    <tr>\n",
       "      <th>ddf2b5328dafe4a5863dc2463578ea789284d9519431204bcd0ab3cb17ac426d|ac45b56f385a5564f090e7afd47d721d3a491796bd3a1230f7c8caa84c5fbc5c|f793de205ead5ac302c4a1627829dea41f176b1068b993a32373fc869918374b|SEMANA_20</th>\n",
       "      <td>17</td>\n",
       "      <td>318</td>\n",
       "      <td>1</td>\n",
       "      <td>24</td>\n",
       "      <td>414</td>\n",
       "      <td>SEMANA_20</td>\n",
       "      <td>2021-09-27</td>\n",
       "      <td>2021-10-03</td>\n",
       "      <td>0</td>\n",
       "    </tr>\n",
       "    <tr>\n",
       "      <th>ddf2b5328dafe4a5863dc2463578ea789284d9519431204bcd0ab3cb17ac426d|ac45b56f385a5564f090e7afd47d721d3a491796bd3a1230f7c8caa84c5fbc5c|f793de205ead5ac302c4a1627829dea41f176b1068b993a32373fc869918374b|SEMANA_21</th>\n",
       "      <td>17</td>\n",
       "      <td>318</td>\n",
       "      <td>1</td>\n",
       "      <td>24</td>\n",
       "      <td>414</td>\n",
       "      <td>SEMANA_21</td>\n",
       "      <td>2021-10-04</td>\n",
       "      <td>2021-10-10</td>\n",
       "      <td>0</td>\n",
       "    </tr>\n",
       "    <tr>\n",
       "      <th>ddf2b5328dafe4a5863dc2463578ea789284d9519431204bcd0ab3cb17ac426d|ac45b56f385a5564f090e7afd47d721d3a491796bd3a1230f7c8caa84c5fbc5c|f793de205ead5ac302c4a1627829dea41f176b1068b993a32373fc869918374b|SEMANA_22</th>\n",
       "      <td>17</td>\n",
       "      <td>318</td>\n",
       "      <td>1</td>\n",
       "      <td>24</td>\n",
       "      <td>414</td>\n",
       "      <td>SEMANA_22</td>\n",
       "      <td>2021-10-11</td>\n",
       "      <td>2021-10-17</td>\n",
       "      <td>0</td>\n",
       "    </tr>\n",
       "    <tr>\n",
       "      <th>ddf2b5328dafe4a5863dc2463578ea789284d9519431204bcd0ab3cb17ac426d|ac45b56f385a5564f090e7afd47d721d3a491796bd3a1230f7c8caa84c5fbc5c|f793de205ead5ac302c4a1627829dea41f176b1068b993a32373fc869918374b|SEMANA_23</th>\n",
       "      <td>17</td>\n",
       "      <td>318</td>\n",
       "      <td>1</td>\n",
       "      <td>24</td>\n",
       "      <td>414</td>\n",
       "      <td>SEMANA_23</td>\n",
       "      <td>2021-10-18</td>\n",
       "      <td>2021-10-24</td>\n",
       "      <td>0</td>\n",
       "    </tr>\n",
       "    <tr>\n",
       "      <th>ddf2b5328dafe4a5863dc2463578ea789284d9519431204bcd0ab3cb17ac426d|ac45b56f385a5564f090e7afd47d721d3a491796bd3a1230f7c8caa84c5fbc5c|f793de205ead5ac302c4a1627829dea41f176b1068b993a32373fc869918374b|SEMANA_24</th>\n",
       "      <td>17</td>\n",
       "      <td>318</td>\n",
       "      <td>1</td>\n",
       "      <td>24</td>\n",
       "      <td>414</td>\n",
       "      <td>SEMANA_24</td>\n",
       "      <td>2021-10-25</td>\n",
       "      <td>2021-10-31</td>\n",
       "      <td>0</td>\n",
       "    </tr>\n",
       "    <tr>\n",
       "      <th>ddf2b5328dafe4a5863dc2463578ea789284d9519431204bcd0ab3cb17ac426d|ac45b56f385a5564f090e7afd47d721d3a491796bd3a1230f7c8caa84c5fbc5c|f793de205ead5ac302c4a1627829dea41f176b1068b993a32373fc869918374b|SEMANA_25</th>\n",
       "      <td>17</td>\n",
       "      <td>318</td>\n",
       "      <td>1</td>\n",
       "      <td>24</td>\n",
       "      <td>414</td>\n",
       "      <td>SEMANA_25</td>\n",
       "      <td>2021-11-01</td>\n",
       "      <td>2021-11-07</td>\n",
       "      <td>0</td>\n",
       "    </tr>\n",
       "    <tr>\n",
       "      <th>ddf2b5328dafe4a5863dc2463578ea789284d9519431204bcd0ab3cb17ac426d|ac45b56f385a5564f090e7afd47d721d3a491796bd3a1230f7c8caa84c5fbc5c|f793de205ead5ac302c4a1627829dea41f176b1068b993a32373fc869918374b|SEMANA_26</th>\n",
       "      <td>17</td>\n",
       "      <td>318</td>\n",
       "      <td>1</td>\n",
       "      <td>24</td>\n",
       "      <td>414</td>\n",
       "      <td>SEMANA_26</td>\n",
       "      <td>2021-11-08</td>\n",
       "      <td>2021-11-14</td>\n",
       "      <td>0</td>\n",
       "    </tr>\n",
       "    <tr>\n",
       "      <th>ddf2b5328dafe4a5863dc2463578ea789284d9519431204bcd0ab3cb17ac426d|ac45b56f385a5564f090e7afd47d721d3a491796bd3a1230f7c8caa84c5fbc5c|f793de205ead5ac302c4a1627829dea41f176b1068b993a32373fc869918374b|SEMANA_27</th>\n",
       "      <td>17</td>\n",
       "      <td>318</td>\n",
       "      <td>1</td>\n",
       "      <td>24</td>\n",
       "      <td>414</td>\n",
       "      <td>SEMANA_27</td>\n",
       "      <td>2021-11-15</td>\n",
       "      <td>2021-11-21</td>\n",
       "      <td>0</td>\n",
       "    </tr>\n",
       "    <tr>\n",
       "      <th>ddf2b5328dafe4a5863dc2463578ea789284d9519431204bcd0ab3cb17ac426d|ac45b56f385a5564f090e7afd47d721d3a491796bd3a1230f7c8caa84c5fbc5c|f793de205ead5ac302c4a1627829dea41f176b1068b993a32373fc869918374b|SEMANA_28</th>\n",
       "      <td>17</td>\n",
       "      <td>318</td>\n",
       "      <td>1</td>\n",
       "      <td>24</td>\n",
       "      <td>414</td>\n",
       "      <td>SEMANA_28</td>\n",
       "      <td>2021-11-22</td>\n",
       "      <td>2021-11-28</td>\n",
       "      <td>0</td>\n",
       "    </tr>\n",
       "    <tr>\n",
       "      <th>ddf2b5328dafe4a5863dc2463578ea789284d9519431204bcd0ab3cb17ac426d|ac45b56f385a5564f090e7afd47d721d3a491796bd3a1230f7c8caa84c5fbc5c|f793de205ead5ac302c4a1627829dea41f176b1068b993a32373fc869918374b|SEMANA_29</th>\n",
       "      <td>17</td>\n",
       "      <td>318</td>\n",
       "      <td>1</td>\n",
       "      <td>24</td>\n",
       "      <td>414</td>\n",
       "      <td>SEMANA_29</td>\n",
       "      <td>2021-11-29</td>\n",
       "      <td>2021-12-05</td>\n",
       "      <td>0</td>\n",
       "    </tr>\n",
       "    <tr>\n",
       "      <th>ddf2b5328dafe4a5863dc2463578ea789284d9519431204bcd0ab3cb17ac426d|ac45b56f385a5564f090e7afd47d721d3a491796bd3a1230f7c8caa84c5fbc5c|f793de205ead5ac302c4a1627829dea41f176b1068b993a32373fc869918374b|SEMANA_30</th>\n",
       "      <td>17</td>\n",
       "      <td>318</td>\n",
       "      <td>1</td>\n",
       "      <td>24</td>\n",
       "      <td>414</td>\n",
       "      <td>SEMANA_30</td>\n",
       "      <td>2021-12-06</td>\n",
       "      <td>2021-12-12</td>\n",
       "      <td>0</td>\n",
       "    </tr>\n",
       "    <tr>\n",
       "      <th>ddf2b5328dafe4a5863dc2463578ea789284d9519431204bcd0ab3cb17ac426d|ac45b56f385a5564f090e7afd47d721d3a491796bd3a1230f7c8caa84c5fbc5c|f793de205ead5ac302c4a1627829dea41f176b1068b993a32373fc869918374b|SEMANA_31</th>\n",
       "      <td>17</td>\n",
       "      <td>318</td>\n",
       "      <td>1</td>\n",
       "      <td>24</td>\n",
       "      <td>414</td>\n",
       "      <td>SEMANA_31</td>\n",
       "      <td>2021-12-13</td>\n",
       "      <td>2021-12-19</td>\n",
       "      <td>0</td>\n",
       "    </tr>\n",
       "    <tr>\n",
       "      <th>ddf2b5328dafe4a5863dc2463578ea789284d9519431204bcd0ab3cb17ac426d|ac45b56f385a5564f090e7afd47d721d3a491796bd3a1230f7c8caa84c5fbc5c|f793de205ead5ac302c4a1627829dea41f176b1068b993a32373fc869918374b|SEMANA_32</th>\n",
       "      <td>17</td>\n",
       "      <td>318</td>\n",
       "      <td>1</td>\n",
       "      <td>24</td>\n",
       "      <td>414</td>\n",
       "      <td>SEMANA_32</td>\n",
       "      <td>2021-12-20</td>\n",
       "      <td>2021-12-26</td>\n",
       "      <td>0</td>\n",
       "    </tr>\n",
       "    <tr>\n",
       "      <th>ddf2b5328dafe4a5863dc2463578ea789284d9519431204bcd0ab3cb17ac426d|ac45b56f385a5564f090e7afd47d721d3a491796bd3a1230f7c8caa84c5fbc5c|f793de205ead5ac302c4a1627829dea41f176b1068b993a32373fc869918374b|SEMANA_33</th>\n",
       "      <td>17</td>\n",
       "      <td>318</td>\n",
       "      <td>1</td>\n",
       "      <td>24</td>\n",
       "      <td>414</td>\n",
       "      <td>SEMANA_33</td>\n",
       "      <td>2021-12-27</td>\n",
       "      <td>2022-01-02</td>\n",
       "      <td>0</td>\n",
       "    </tr>\n",
       "    <tr>\n",
       "      <th>ddf2b5328dafe4a5863dc2463578ea789284d9519431204bcd0ab3cb17ac426d|ac45b56f385a5564f090e7afd47d721d3a491796bd3a1230f7c8caa84c5fbc5c|f793de205ead5ac302c4a1627829dea41f176b1068b993a32373fc869918374b|SEMANA_34</th>\n",
       "      <td>17</td>\n",
       "      <td>318</td>\n",
       "      <td>1</td>\n",
       "      <td>24</td>\n",
       "      <td>414</td>\n",
       "      <td>SEMANA_34</td>\n",
       "      <td>2022-01-03</td>\n",
       "      <td>2022-01-09</td>\n",
       "      <td>0</td>\n",
       "    </tr>\n",
       "    <tr>\n",
       "      <th>ddf2b5328dafe4a5863dc2463578ea789284d9519431204bcd0ab3cb17ac426d|ac45b56f385a5564f090e7afd47d721d3a491796bd3a1230f7c8caa84c5fbc5c|f793de205ead5ac302c4a1627829dea41f176b1068b993a32373fc869918374b|SEMANA_35</th>\n",
       "      <td>17</td>\n",
       "      <td>318</td>\n",
       "      <td>1</td>\n",
       "      <td>24</td>\n",
       "      <td>414</td>\n",
       "      <td>SEMANA_35</td>\n",
       "      <td>2022-01-10</td>\n",
       "      <td>2022-01-16</td>\n",
       "      <td>0</td>\n",
       "    </tr>\n",
       "    <tr>\n",
       "      <th>ddf2b5328dafe4a5863dc2463578ea789284d9519431204bcd0ab3cb17ac426d|ac45b56f385a5564f090e7afd47d721d3a491796bd3a1230f7c8caa84c5fbc5c|f793de205ead5ac302c4a1627829dea41f176b1068b993a32373fc869918374b|SEMANA_36</th>\n",
       "      <td>17</td>\n",
       "      <td>318</td>\n",
       "      <td>1</td>\n",
       "      <td>24</td>\n",
       "      <td>414</td>\n",
       "      <td>SEMANA_36</td>\n",
       "      <td>2022-01-17</td>\n",
       "      <td>2022-01-23</td>\n",
       "      <td>0</td>\n",
       "    </tr>\n",
       "    <tr>\n",
       "      <th>ddf2b5328dafe4a5863dc2463578ea789284d9519431204bcd0ab3cb17ac426d|ac45b56f385a5564f090e7afd47d721d3a491796bd3a1230f7c8caa84c5fbc5c|f793de205ead5ac302c4a1627829dea41f176b1068b993a32373fc869918374b|SEMANA_37</th>\n",
       "      <td>17</td>\n",
       "      <td>318</td>\n",
       "      <td>1</td>\n",
       "      <td>24</td>\n",
       "      <td>414</td>\n",
       "      <td>SEMANA_37</td>\n",
       "      <td>2022-01-24</td>\n",
       "      <td>2022-01-30</td>\n",
       "      <td>0</td>\n",
       "    </tr>\n",
       "    <tr>\n",
       "      <th>ddf2b5328dafe4a5863dc2463578ea789284d9519431204bcd0ab3cb17ac426d|ac45b56f385a5564f090e7afd47d721d3a491796bd3a1230f7c8caa84c5fbc5c|f793de205ead5ac302c4a1627829dea41f176b1068b993a32373fc869918374b|SEMANA_38</th>\n",
       "      <td>17</td>\n",
       "      <td>318</td>\n",
       "      <td>1</td>\n",
       "      <td>24</td>\n",
       "      <td>414</td>\n",
       "      <td>SEMANA_38</td>\n",
       "      <td>2022-01-31</td>\n",
       "      <td>2022-02-06</td>\n",
       "      <td>0</td>\n",
       "    </tr>\n",
       "    <tr>\n",
       "      <th>ddf2b5328dafe4a5863dc2463578ea789284d9519431204bcd0ab3cb17ac426d|ac45b56f385a5564f090e7afd47d721d3a491796bd3a1230f7c8caa84c5fbc5c|f793de205ead5ac302c4a1627829dea41f176b1068b993a32373fc869918374b|SEMANA_39</th>\n",
       "      <td>17</td>\n",
       "      <td>318</td>\n",
       "      <td>1</td>\n",
       "      <td>24</td>\n",
       "      <td>414</td>\n",
       "      <td>SEMANA_39</td>\n",
       "      <td>2022-02-07</td>\n",
       "      <td>2022-02-13</td>\n",
       "      <td>0</td>\n",
       "    </tr>\n",
       "    <tr>\n",
       "      <th>ddf2b5328dafe4a5863dc2463578ea789284d9519431204bcd0ab3cb17ac426d|ac45b56f385a5564f090e7afd47d721d3a491796bd3a1230f7c8caa84c5fbc5c|f793de205ead5ac302c4a1627829dea41f176b1068b993a32373fc869918374b|SEMANA_40</th>\n",
       "      <td>17</td>\n",
       "      <td>318</td>\n",
       "      <td>1</td>\n",
       "      <td>24</td>\n",
       "      <td>414</td>\n",
       "      <td>SEMANA_40</td>\n",
       "      <td>2022-02-14</td>\n",
       "      <td>2022-02-20</td>\n",
       "      <td>0</td>\n",
       "    </tr>\n",
       "    <tr>\n",
       "      <th>ddf2b5328dafe4a5863dc2463578ea789284d9519431204bcd0ab3cb17ac426d|ac45b56f385a5564f090e7afd47d721d3a491796bd3a1230f7c8caa84c5fbc5c|f793de205ead5ac302c4a1627829dea41f176b1068b993a32373fc869918374b|SEMANA_41</th>\n",
       "      <td>17</td>\n",
       "      <td>318</td>\n",
       "      <td>1</td>\n",
       "      <td>24</td>\n",
       "      <td>414</td>\n",
       "      <td>SEMANA_41</td>\n",
       "      <td>2022-02-21</td>\n",
       "      <td>2022-02-27</td>\n",
       "      <td>0</td>\n",
       "    </tr>\n",
       "    <tr>\n",
       "      <th>ddf2b5328dafe4a5863dc2463578ea789284d9519431204bcd0ab3cb17ac426d|ac45b56f385a5564f090e7afd47d721d3a491796bd3a1230f7c8caa84c5fbc5c|f793de205ead5ac302c4a1627829dea41f176b1068b993a32373fc869918374b|SEMANA_42</th>\n",
       "      <td>17</td>\n",
       "      <td>318</td>\n",
       "      <td>1</td>\n",
       "      <td>24</td>\n",
       "      <td>414</td>\n",
       "      <td>SEMANA_42</td>\n",
       "      <td>2022-02-28</td>\n",
       "      <td>2022-03-06</td>\n",
       "      <td>0</td>\n",
       "    </tr>\n",
       "    <tr>\n",
       "      <th>ddf2b5328dafe4a5863dc2463578ea789284d9519431204bcd0ab3cb17ac426d|ac45b56f385a5564f090e7afd47d721d3a491796bd3a1230f7c8caa84c5fbc5c|f793de205ead5ac302c4a1627829dea41f176b1068b993a32373fc869918374b|SEMANA_43</th>\n",
       "      <td>17</td>\n",
       "      <td>318</td>\n",
       "      <td>1</td>\n",
       "      <td>24</td>\n",
       "      <td>414</td>\n",
       "      <td>SEMANA_43</td>\n",
       "      <td>2022-03-07</td>\n",
       "      <td>2022-03-13</td>\n",
       "      <td>0</td>\n",
       "    </tr>\n",
       "    <tr>\n",
       "      <th>ddf2b5328dafe4a5863dc2463578ea789284d9519431204bcd0ab3cb17ac426d|ac45b56f385a5564f090e7afd47d721d3a491796bd3a1230f7c8caa84c5fbc5c|f793de205ead5ac302c4a1627829dea41f176b1068b993a32373fc869918374b|SEMANA_44</th>\n",
       "      <td>17</td>\n",
       "      <td>318</td>\n",
       "      <td>1</td>\n",
       "      <td>24</td>\n",
       "      <td>414</td>\n",
       "      <td>SEMANA_44</td>\n",
       "      <td>2022-03-14</td>\n",
       "      <td>2022-03-20</td>\n",
       "      <td>0</td>\n",
       "    </tr>\n",
       "    <tr>\n",
       "      <th>ddf2b5328dafe4a5863dc2463578ea789284d9519431204bcd0ab3cb17ac426d|ac45b56f385a5564f090e7afd47d721d3a491796bd3a1230f7c8caa84c5fbc5c|f793de205ead5ac302c4a1627829dea41f176b1068b993a32373fc869918374b|SEMANA_45</th>\n",
       "      <td>17</td>\n",
       "      <td>318</td>\n",
       "      <td>1</td>\n",
       "      <td>24</td>\n",
       "      <td>414</td>\n",
       "      <td>SEMANA_45</td>\n",
       "      <td>2022-03-21</td>\n",
       "      <td>2022-03-27</td>\n",
       "      <td>0</td>\n",
       "    </tr>\n",
       "    <tr>\n",
       "      <th>ddf2b5328dafe4a5863dc2463578ea789284d9519431204bcd0ab3cb17ac426d|ac45b56f385a5564f090e7afd47d721d3a491796bd3a1230f7c8caa84c5fbc5c|f793de205ead5ac302c4a1627829dea41f176b1068b993a32373fc869918374b|SEMANA_46</th>\n",
       "      <td>17</td>\n",
       "      <td>318</td>\n",
       "      <td>1</td>\n",
       "      <td>24</td>\n",
       "      <td>414</td>\n",
       "      <td>SEMANA_46</td>\n",
       "      <td>2022-03-28</td>\n",
       "      <td>2022-04-03</td>\n",
       "      <td>0</td>\n",
       "    </tr>\n",
       "    <tr>\n",
       "      <th>ddf2b5328dafe4a5863dc2463578ea789284d9519431204bcd0ab3cb17ac426d|ac45b56f385a5564f090e7afd47d721d3a491796bd3a1230f7c8caa84c5fbc5c|f793de205ead5ac302c4a1627829dea41f176b1068b993a32373fc869918374b|SEMANA_47</th>\n",
       "      <td>17</td>\n",
       "      <td>318</td>\n",
       "      <td>1</td>\n",
       "      <td>24</td>\n",
       "      <td>414</td>\n",
       "      <td>SEMANA_47</td>\n",
       "      <td>2022-04-04</td>\n",
       "      <td>2022-04-10</td>\n",
       "      <td>0</td>\n",
       "    </tr>\n",
       "    <tr>\n",
       "      <th>ddf2b5328dafe4a5863dc2463578ea789284d9519431204bcd0ab3cb17ac426d|ac45b56f385a5564f090e7afd47d721d3a491796bd3a1230f7c8caa84c5fbc5c|f793de205ead5ac302c4a1627829dea41f176b1068b993a32373fc869918374b|SEMANA_48</th>\n",
       "      <td>17</td>\n",
       "      <td>318</td>\n",
       "      <td>1</td>\n",
       "      <td>24</td>\n",
       "      <td>414</td>\n",
       "      <td>SEMANA_48</td>\n",
       "      <td>2022-04-11</td>\n",
       "      <td>2022-04-17</td>\n",
       "      <td>0</td>\n",
       "    </tr>\n",
       "    <tr>\n",
       "      <th>ddf2b5328dafe4a5863dc2463578ea789284d9519431204bcd0ab3cb17ac426d|ac45b56f385a5564f090e7afd47d721d3a491796bd3a1230f7c8caa84c5fbc5c|f793de205ead5ac302c4a1627829dea41f176b1068b993a32373fc869918374b|SEMANA_49</th>\n",
       "      <td>17</td>\n",
       "      <td>318</td>\n",
       "      <td>1</td>\n",
       "      <td>24</td>\n",
       "      <td>414</td>\n",
       "      <td>SEMANA_49</td>\n",
       "      <td>2022-04-18</td>\n",
       "      <td>2022-04-24</td>\n",
       "      <td>0</td>\n",
       "    </tr>\n",
       "    <tr>\n",
       "      <th>ddf2b5328dafe4a5863dc2463578ea789284d9519431204bcd0ab3cb17ac426d|ac45b56f385a5564f090e7afd47d721d3a491796bd3a1230f7c8caa84c5fbc5c|f793de205ead5ac302c4a1627829dea41f176b1068b993a32373fc869918374b|SEMANA_50</th>\n",
       "      <td>17</td>\n",
       "      <td>318</td>\n",
       "      <td>1</td>\n",
       "      <td>24</td>\n",
       "      <td>414</td>\n",
       "      <td>SEMANA_50</td>\n",
       "      <td>2022-04-25</td>\n",
       "      <td>2022-05-01</td>\n",
       "      <td>0</td>\n",
       "    </tr>\n",
       "  </tbody>\n",
       "</table>\n",
       "</div>"
      ],
      "text/plain": [
       "                                                   Z_MARCA Z_MODELO Z_GAMA  \\\n",
       "ID                                                                           \n",
       "ddf2b5328dafe4a5863dc2463578ea789284d9519431204...      17      318      1   \n",
       "ddf2b5328dafe4a5863dc2463578ea789284d9519431204...      17      318      1   \n",
       "ddf2b5328dafe4a5863dc2463578ea789284d9519431204...      17      318      1   \n",
       "ddf2b5328dafe4a5863dc2463578ea789284d9519431204...      17      318      1   \n",
       "ddf2b5328dafe4a5863dc2463578ea789284d9519431204...      17      318      1   \n",
       "ddf2b5328dafe4a5863dc2463578ea789284d9519431204...      17      318      1   \n",
       "ddf2b5328dafe4a5863dc2463578ea789284d9519431204...      17      318      1   \n",
       "ddf2b5328dafe4a5863dc2463578ea789284d9519431204...      17      318      1   \n",
       "ddf2b5328dafe4a5863dc2463578ea789284d9519431204...      17      318      1   \n",
       "ddf2b5328dafe4a5863dc2463578ea789284d9519431204...      17      318      1   \n",
       "ddf2b5328dafe4a5863dc2463578ea789284d9519431204...      17      318      1   \n",
       "ddf2b5328dafe4a5863dc2463578ea789284d9519431204...      17      318      1   \n",
       "ddf2b5328dafe4a5863dc2463578ea789284d9519431204...      17      318      1   \n",
       "ddf2b5328dafe4a5863dc2463578ea789284d9519431204...      17      318      1   \n",
       "ddf2b5328dafe4a5863dc2463578ea789284d9519431204...      17      318      1   \n",
       "ddf2b5328dafe4a5863dc2463578ea789284d9519431204...      17      318      1   \n",
       "ddf2b5328dafe4a5863dc2463578ea789284d9519431204...      17      318      1   \n",
       "ddf2b5328dafe4a5863dc2463578ea789284d9519431204...      17      318      1   \n",
       "ddf2b5328dafe4a5863dc2463578ea789284d9519431204...      17      318      1   \n",
       "ddf2b5328dafe4a5863dc2463578ea789284d9519431204...      17      318      1   \n",
       "ddf2b5328dafe4a5863dc2463578ea789284d9519431204...      17      318      1   \n",
       "ddf2b5328dafe4a5863dc2463578ea789284d9519431204...      17      318      1   \n",
       "ddf2b5328dafe4a5863dc2463578ea789284d9519431204...      17      318      1   \n",
       "ddf2b5328dafe4a5863dc2463578ea789284d9519431204...      17      318      1   \n",
       "ddf2b5328dafe4a5863dc2463578ea789284d9519431204...      17      318      1   \n",
       "ddf2b5328dafe4a5863dc2463578ea789284d9519431204...      17      318      1   \n",
       "ddf2b5328dafe4a5863dc2463578ea789284d9519431204...      17      318      1   \n",
       "ddf2b5328dafe4a5863dc2463578ea789284d9519431204...      17      318      1   \n",
       "ddf2b5328dafe4a5863dc2463578ea789284d9519431204...      17      318      1   \n",
       "ddf2b5328dafe4a5863dc2463578ea789284d9519431204...      17      318      1   \n",
       "ddf2b5328dafe4a5863dc2463578ea789284d9519431204...      17      318      1   \n",
       "ddf2b5328dafe4a5863dc2463578ea789284d9519431204...      17      318      1   \n",
       "ddf2b5328dafe4a5863dc2463578ea789284d9519431204...      17      318      1   \n",
       "ddf2b5328dafe4a5863dc2463578ea789284d9519431204...      17      318      1   \n",
       "ddf2b5328dafe4a5863dc2463578ea789284d9519431204...      17      318      1   \n",
       "ddf2b5328dafe4a5863dc2463578ea789284d9519431204...      17      318      1   \n",
       "ddf2b5328dafe4a5863dc2463578ea789284d9519431204...      17      318      1   \n",
       "ddf2b5328dafe4a5863dc2463578ea789284d9519431204...      17      318      1   \n",
       "ddf2b5328dafe4a5863dc2463578ea789284d9519431204...      17      318      1   \n",
       "ddf2b5328dafe4a5863dc2463578ea789284d9519431204...      17      318      1   \n",
       "ddf2b5328dafe4a5863dc2463578ea789284d9519431204...      17      318      1   \n",
       "ddf2b5328dafe4a5863dc2463578ea789284d9519431204...      17      318      1   \n",
       "ddf2b5328dafe4a5863dc2463578ea789284d9519431204...      17      318      1   \n",
       "ddf2b5328dafe4a5863dc2463578ea789284d9519431204...      17      318      1   \n",
       "ddf2b5328dafe4a5863dc2463578ea789284d9519431204...      17      318      1   \n",
       "ddf2b5328dafe4a5863dc2463578ea789284d9519431204...      17      318      1   \n",
       "ddf2b5328dafe4a5863dc2463578ea789284d9519431204...      17      318      1   \n",
       "ddf2b5328dafe4a5863dc2463578ea789284d9519431204...      17      318      1   \n",
       "ddf2b5328dafe4a5863dc2463578ea789284d9519431204...      17      318      1   \n",
       "ddf2b5328dafe4a5863dc2463578ea789284d9519431204...      17      318      1   \n",
       "\n",
       "                                                   Z_DEPARTAMENTO  \\\n",
       "ID                                                                  \n",
       "ddf2b5328dafe4a5863dc2463578ea789284d9519431204...             24   \n",
       "ddf2b5328dafe4a5863dc2463578ea789284d9519431204...             24   \n",
       "ddf2b5328dafe4a5863dc2463578ea789284d9519431204...             24   \n",
       "ddf2b5328dafe4a5863dc2463578ea789284d9519431204...             24   \n",
       "ddf2b5328dafe4a5863dc2463578ea789284d9519431204...             24   \n",
       "ddf2b5328dafe4a5863dc2463578ea789284d9519431204...             24   \n",
       "ddf2b5328dafe4a5863dc2463578ea789284d9519431204...             24   \n",
       "ddf2b5328dafe4a5863dc2463578ea789284d9519431204...             24   \n",
       "ddf2b5328dafe4a5863dc2463578ea789284d9519431204...             24   \n",
       "ddf2b5328dafe4a5863dc2463578ea789284d9519431204...             24   \n",
       "ddf2b5328dafe4a5863dc2463578ea789284d9519431204...             24   \n",
       "ddf2b5328dafe4a5863dc2463578ea789284d9519431204...             24   \n",
       "ddf2b5328dafe4a5863dc2463578ea789284d9519431204...             24   \n",
       "ddf2b5328dafe4a5863dc2463578ea789284d9519431204...             24   \n",
       "ddf2b5328dafe4a5863dc2463578ea789284d9519431204...             24   \n",
       "ddf2b5328dafe4a5863dc2463578ea789284d9519431204...             24   \n",
       "ddf2b5328dafe4a5863dc2463578ea789284d9519431204...             24   \n",
       "ddf2b5328dafe4a5863dc2463578ea789284d9519431204...             24   \n",
       "ddf2b5328dafe4a5863dc2463578ea789284d9519431204...             24   \n",
       "ddf2b5328dafe4a5863dc2463578ea789284d9519431204...             24   \n",
       "ddf2b5328dafe4a5863dc2463578ea789284d9519431204...             24   \n",
       "ddf2b5328dafe4a5863dc2463578ea789284d9519431204...             24   \n",
       "ddf2b5328dafe4a5863dc2463578ea789284d9519431204...             24   \n",
       "ddf2b5328dafe4a5863dc2463578ea789284d9519431204...             24   \n",
       "ddf2b5328dafe4a5863dc2463578ea789284d9519431204...             24   \n",
       "ddf2b5328dafe4a5863dc2463578ea789284d9519431204...             24   \n",
       "ddf2b5328dafe4a5863dc2463578ea789284d9519431204...             24   \n",
       "ddf2b5328dafe4a5863dc2463578ea789284d9519431204...             24   \n",
       "ddf2b5328dafe4a5863dc2463578ea789284d9519431204...             24   \n",
       "ddf2b5328dafe4a5863dc2463578ea789284d9519431204...             24   \n",
       "ddf2b5328dafe4a5863dc2463578ea789284d9519431204...             24   \n",
       "ddf2b5328dafe4a5863dc2463578ea789284d9519431204...             24   \n",
       "ddf2b5328dafe4a5863dc2463578ea789284d9519431204...             24   \n",
       "ddf2b5328dafe4a5863dc2463578ea789284d9519431204...             24   \n",
       "ddf2b5328dafe4a5863dc2463578ea789284d9519431204...             24   \n",
       "ddf2b5328dafe4a5863dc2463578ea789284d9519431204...             24   \n",
       "ddf2b5328dafe4a5863dc2463578ea789284d9519431204...             24   \n",
       "ddf2b5328dafe4a5863dc2463578ea789284d9519431204...             24   \n",
       "ddf2b5328dafe4a5863dc2463578ea789284d9519431204...             24   \n",
       "ddf2b5328dafe4a5863dc2463578ea789284d9519431204...             24   \n",
       "ddf2b5328dafe4a5863dc2463578ea789284d9519431204...             24   \n",
       "ddf2b5328dafe4a5863dc2463578ea789284d9519431204...             24   \n",
       "ddf2b5328dafe4a5863dc2463578ea789284d9519431204...             24   \n",
       "ddf2b5328dafe4a5863dc2463578ea789284d9519431204...             24   \n",
       "ddf2b5328dafe4a5863dc2463578ea789284d9519431204...             24   \n",
       "ddf2b5328dafe4a5863dc2463578ea789284d9519431204...             24   \n",
       "ddf2b5328dafe4a5863dc2463578ea789284d9519431204...             24   \n",
       "ddf2b5328dafe4a5863dc2463578ea789284d9519431204...             24   \n",
       "ddf2b5328dafe4a5863dc2463578ea789284d9519431204...             24   \n",
       "ddf2b5328dafe4a5863dc2463578ea789284d9519431204...             24   \n",
       "\n",
       "                                                   Z_PUNTO_VENTA  SEMANA_XX  \\\n",
       "ID                                                                            \n",
       "ddf2b5328dafe4a5863dc2463578ea789284d9519431204...           414  SEMANA_01   \n",
       "ddf2b5328dafe4a5863dc2463578ea789284d9519431204...           414  SEMANA_02   \n",
       "ddf2b5328dafe4a5863dc2463578ea789284d9519431204...           414  SEMANA_03   \n",
       "ddf2b5328dafe4a5863dc2463578ea789284d9519431204...           414  SEMANA_04   \n",
       "ddf2b5328dafe4a5863dc2463578ea789284d9519431204...           414  SEMANA_05   \n",
       "ddf2b5328dafe4a5863dc2463578ea789284d9519431204...           414  SEMANA_06   \n",
       "ddf2b5328dafe4a5863dc2463578ea789284d9519431204...           414  SEMANA_07   \n",
       "ddf2b5328dafe4a5863dc2463578ea789284d9519431204...           414  SEMANA_08   \n",
       "ddf2b5328dafe4a5863dc2463578ea789284d9519431204...           414  SEMANA_09   \n",
       "ddf2b5328dafe4a5863dc2463578ea789284d9519431204...           414  SEMANA_10   \n",
       "ddf2b5328dafe4a5863dc2463578ea789284d9519431204...           414  SEMANA_11   \n",
       "ddf2b5328dafe4a5863dc2463578ea789284d9519431204...           414  SEMANA_12   \n",
       "ddf2b5328dafe4a5863dc2463578ea789284d9519431204...           414  SEMANA_13   \n",
       "ddf2b5328dafe4a5863dc2463578ea789284d9519431204...           414  SEMANA_14   \n",
       "ddf2b5328dafe4a5863dc2463578ea789284d9519431204...           414  SEMANA_15   \n",
       "ddf2b5328dafe4a5863dc2463578ea789284d9519431204...           414  SEMANA_16   \n",
       "ddf2b5328dafe4a5863dc2463578ea789284d9519431204...           414  SEMANA_17   \n",
       "ddf2b5328dafe4a5863dc2463578ea789284d9519431204...           414  SEMANA_18   \n",
       "ddf2b5328dafe4a5863dc2463578ea789284d9519431204...           414  SEMANA_19   \n",
       "ddf2b5328dafe4a5863dc2463578ea789284d9519431204...           414  SEMANA_20   \n",
       "ddf2b5328dafe4a5863dc2463578ea789284d9519431204...           414  SEMANA_21   \n",
       "ddf2b5328dafe4a5863dc2463578ea789284d9519431204...           414  SEMANA_22   \n",
       "ddf2b5328dafe4a5863dc2463578ea789284d9519431204...           414  SEMANA_23   \n",
       "ddf2b5328dafe4a5863dc2463578ea789284d9519431204...           414  SEMANA_24   \n",
       "ddf2b5328dafe4a5863dc2463578ea789284d9519431204...           414  SEMANA_25   \n",
       "ddf2b5328dafe4a5863dc2463578ea789284d9519431204...           414  SEMANA_26   \n",
       "ddf2b5328dafe4a5863dc2463578ea789284d9519431204...           414  SEMANA_27   \n",
       "ddf2b5328dafe4a5863dc2463578ea789284d9519431204...           414  SEMANA_28   \n",
       "ddf2b5328dafe4a5863dc2463578ea789284d9519431204...           414  SEMANA_29   \n",
       "ddf2b5328dafe4a5863dc2463578ea789284d9519431204...           414  SEMANA_30   \n",
       "ddf2b5328dafe4a5863dc2463578ea789284d9519431204...           414  SEMANA_31   \n",
       "ddf2b5328dafe4a5863dc2463578ea789284d9519431204...           414  SEMANA_32   \n",
       "ddf2b5328dafe4a5863dc2463578ea789284d9519431204...           414  SEMANA_33   \n",
       "ddf2b5328dafe4a5863dc2463578ea789284d9519431204...           414  SEMANA_34   \n",
       "ddf2b5328dafe4a5863dc2463578ea789284d9519431204...           414  SEMANA_35   \n",
       "ddf2b5328dafe4a5863dc2463578ea789284d9519431204...           414  SEMANA_36   \n",
       "ddf2b5328dafe4a5863dc2463578ea789284d9519431204...           414  SEMANA_37   \n",
       "ddf2b5328dafe4a5863dc2463578ea789284d9519431204...           414  SEMANA_38   \n",
       "ddf2b5328dafe4a5863dc2463578ea789284d9519431204...           414  SEMANA_39   \n",
       "ddf2b5328dafe4a5863dc2463578ea789284d9519431204...           414  SEMANA_40   \n",
       "ddf2b5328dafe4a5863dc2463578ea789284d9519431204...           414  SEMANA_41   \n",
       "ddf2b5328dafe4a5863dc2463578ea789284d9519431204...           414  SEMANA_42   \n",
       "ddf2b5328dafe4a5863dc2463578ea789284d9519431204...           414  SEMANA_43   \n",
       "ddf2b5328dafe4a5863dc2463578ea789284d9519431204...           414  SEMANA_44   \n",
       "ddf2b5328dafe4a5863dc2463578ea789284d9519431204...           414  SEMANA_45   \n",
       "ddf2b5328dafe4a5863dc2463578ea789284d9519431204...           414  SEMANA_46   \n",
       "ddf2b5328dafe4a5863dc2463578ea789284d9519431204...           414  SEMANA_47   \n",
       "ddf2b5328dafe4a5863dc2463578ea789284d9519431204...           414  SEMANA_48   \n",
       "ddf2b5328dafe4a5863dc2463578ea789284d9519431204...           414  SEMANA_49   \n",
       "ddf2b5328dafe4a5863dc2463578ea789284d9519431204...           414  SEMANA_50   \n",
       "\n",
       "                                                   FECHA_INICIO  FECHA_FIN  \\\n",
       "ID                                                                           \n",
       "ddf2b5328dafe4a5863dc2463578ea789284d9519431204...   2021-05-17 2021-05-23   \n",
       "ddf2b5328dafe4a5863dc2463578ea789284d9519431204...   2021-05-24 2021-05-30   \n",
       "ddf2b5328dafe4a5863dc2463578ea789284d9519431204...   2021-05-31 2021-06-06   \n",
       "ddf2b5328dafe4a5863dc2463578ea789284d9519431204...   2021-06-07 2021-06-13   \n",
       "ddf2b5328dafe4a5863dc2463578ea789284d9519431204...   2021-06-14 2021-06-20   \n",
       "ddf2b5328dafe4a5863dc2463578ea789284d9519431204...   2021-06-21 2021-06-27   \n",
       "ddf2b5328dafe4a5863dc2463578ea789284d9519431204...   2021-06-28 2021-07-04   \n",
       "ddf2b5328dafe4a5863dc2463578ea789284d9519431204...   2021-07-05 2021-07-11   \n",
       "ddf2b5328dafe4a5863dc2463578ea789284d9519431204...   2021-07-12 2021-07-18   \n",
       "ddf2b5328dafe4a5863dc2463578ea789284d9519431204...   2021-07-19 2021-07-25   \n",
       "ddf2b5328dafe4a5863dc2463578ea789284d9519431204...   2021-07-26 2021-08-01   \n",
       "ddf2b5328dafe4a5863dc2463578ea789284d9519431204...   2021-08-02 2021-08-08   \n",
       "ddf2b5328dafe4a5863dc2463578ea789284d9519431204...   2021-08-09 2021-08-15   \n",
       "ddf2b5328dafe4a5863dc2463578ea789284d9519431204...   2021-08-16 2021-08-22   \n",
       "ddf2b5328dafe4a5863dc2463578ea789284d9519431204...   2021-08-23 2021-08-29   \n",
       "ddf2b5328dafe4a5863dc2463578ea789284d9519431204...   2021-08-30 2021-09-05   \n",
       "ddf2b5328dafe4a5863dc2463578ea789284d9519431204...   2021-09-06 2021-09-12   \n",
       "ddf2b5328dafe4a5863dc2463578ea789284d9519431204...   2021-09-13 2021-09-19   \n",
       "ddf2b5328dafe4a5863dc2463578ea789284d9519431204...   2021-09-20 2021-09-26   \n",
       "ddf2b5328dafe4a5863dc2463578ea789284d9519431204...   2021-09-27 2021-10-03   \n",
       "ddf2b5328dafe4a5863dc2463578ea789284d9519431204...   2021-10-04 2021-10-10   \n",
       "ddf2b5328dafe4a5863dc2463578ea789284d9519431204...   2021-10-11 2021-10-17   \n",
       "ddf2b5328dafe4a5863dc2463578ea789284d9519431204...   2021-10-18 2021-10-24   \n",
       "ddf2b5328dafe4a5863dc2463578ea789284d9519431204...   2021-10-25 2021-10-31   \n",
       "ddf2b5328dafe4a5863dc2463578ea789284d9519431204...   2021-11-01 2021-11-07   \n",
       "ddf2b5328dafe4a5863dc2463578ea789284d9519431204...   2021-11-08 2021-11-14   \n",
       "ddf2b5328dafe4a5863dc2463578ea789284d9519431204...   2021-11-15 2021-11-21   \n",
       "ddf2b5328dafe4a5863dc2463578ea789284d9519431204...   2021-11-22 2021-11-28   \n",
       "ddf2b5328dafe4a5863dc2463578ea789284d9519431204...   2021-11-29 2021-12-05   \n",
       "ddf2b5328dafe4a5863dc2463578ea789284d9519431204...   2021-12-06 2021-12-12   \n",
       "ddf2b5328dafe4a5863dc2463578ea789284d9519431204...   2021-12-13 2021-12-19   \n",
       "ddf2b5328dafe4a5863dc2463578ea789284d9519431204...   2021-12-20 2021-12-26   \n",
       "ddf2b5328dafe4a5863dc2463578ea789284d9519431204...   2021-12-27 2022-01-02   \n",
       "ddf2b5328dafe4a5863dc2463578ea789284d9519431204...   2022-01-03 2022-01-09   \n",
       "ddf2b5328dafe4a5863dc2463578ea789284d9519431204...   2022-01-10 2022-01-16   \n",
       "ddf2b5328dafe4a5863dc2463578ea789284d9519431204...   2022-01-17 2022-01-23   \n",
       "ddf2b5328dafe4a5863dc2463578ea789284d9519431204...   2022-01-24 2022-01-30   \n",
       "ddf2b5328dafe4a5863dc2463578ea789284d9519431204...   2022-01-31 2022-02-06   \n",
       "ddf2b5328dafe4a5863dc2463578ea789284d9519431204...   2022-02-07 2022-02-13   \n",
       "ddf2b5328dafe4a5863dc2463578ea789284d9519431204...   2022-02-14 2022-02-20   \n",
       "ddf2b5328dafe4a5863dc2463578ea789284d9519431204...   2022-02-21 2022-02-27   \n",
       "ddf2b5328dafe4a5863dc2463578ea789284d9519431204...   2022-02-28 2022-03-06   \n",
       "ddf2b5328dafe4a5863dc2463578ea789284d9519431204...   2022-03-07 2022-03-13   \n",
       "ddf2b5328dafe4a5863dc2463578ea789284d9519431204...   2022-03-14 2022-03-20   \n",
       "ddf2b5328dafe4a5863dc2463578ea789284d9519431204...   2022-03-21 2022-03-27   \n",
       "ddf2b5328dafe4a5863dc2463578ea789284d9519431204...   2022-03-28 2022-04-03   \n",
       "ddf2b5328dafe4a5863dc2463578ea789284d9519431204...   2022-04-04 2022-04-10   \n",
       "ddf2b5328dafe4a5863dc2463578ea789284d9519431204...   2022-04-11 2022-04-17   \n",
       "ddf2b5328dafe4a5863dc2463578ea789284d9519431204...   2022-04-18 2022-04-24   \n",
       "ddf2b5328dafe4a5863dc2463578ea789284d9519431204...   2022-04-25 2022-05-01   \n",
       "\n",
       "                                                    TARGET  \n",
       "ID                                                          \n",
       "ddf2b5328dafe4a5863dc2463578ea789284d9519431204...       0  \n",
       "ddf2b5328dafe4a5863dc2463578ea789284d9519431204...       0  \n",
       "ddf2b5328dafe4a5863dc2463578ea789284d9519431204...       0  \n",
       "ddf2b5328dafe4a5863dc2463578ea789284d9519431204...       0  \n",
       "ddf2b5328dafe4a5863dc2463578ea789284d9519431204...       0  \n",
       "ddf2b5328dafe4a5863dc2463578ea789284d9519431204...       0  \n",
       "ddf2b5328dafe4a5863dc2463578ea789284d9519431204...       0  \n",
       "ddf2b5328dafe4a5863dc2463578ea789284d9519431204...       0  \n",
       "ddf2b5328dafe4a5863dc2463578ea789284d9519431204...       0  \n",
       "ddf2b5328dafe4a5863dc2463578ea789284d9519431204...       0  \n",
       "ddf2b5328dafe4a5863dc2463578ea789284d9519431204...       0  \n",
       "ddf2b5328dafe4a5863dc2463578ea789284d9519431204...       1  \n",
       "ddf2b5328dafe4a5863dc2463578ea789284d9519431204...       0  \n",
       "ddf2b5328dafe4a5863dc2463578ea789284d9519431204...       0  \n",
       "ddf2b5328dafe4a5863dc2463578ea789284d9519431204...       1  \n",
       "ddf2b5328dafe4a5863dc2463578ea789284d9519431204...       0  \n",
       "ddf2b5328dafe4a5863dc2463578ea789284d9519431204...       0  \n",
       "ddf2b5328dafe4a5863dc2463578ea789284d9519431204...       0  \n",
       "ddf2b5328dafe4a5863dc2463578ea789284d9519431204...       0  \n",
       "ddf2b5328dafe4a5863dc2463578ea789284d9519431204...       0  \n",
       "ddf2b5328dafe4a5863dc2463578ea789284d9519431204...       0  \n",
       "ddf2b5328dafe4a5863dc2463578ea789284d9519431204...       0  \n",
       "ddf2b5328dafe4a5863dc2463578ea789284d9519431204...       0  \n",
       "ddf2b5328dafe4a5863dc2463578ea789284d9519431204...       0  \n",
       "ddf2b5328dafe4a5863dc2463578ea789284d9519431204...       0  \n",
       "ddf2b5328dafe4a5863dc2463578ea789284d9519431204...       0  \n",
       "ddf2b5328dafe4a5863dc2463578ea789284d9519431204...       0  \n",
       "ddf2b5328dafe4a5863dc2463578ea789284d9519431204...       0  \n",
       "ddf2b5328dafe4a5863dc2463578ea789284d9519431204...       0  \n",
       "ddf2b5328dafe4a5863dc2463578ea789284d9519431204...       0  \n",
       "ddf2b5328dafe4a5863dc2463578ea789284d9519431204...       0  \n",
       "ddf2b5328dafe4a5863dc2463578ea789284d9519431204...       0  \n",
       "ddf2b5328dafe4a5863dc2463578ea789284d9519431204...       0  \n",
       "ddf2b5328dafe4a5863dc2463578ea789284d9519431204...       0  \n",
       "ddf2b5328dafe4a5863dc2463578ea789284d9519431204...       0  \n",
       "ddf2b5328dafe4a5863dc2463578ea789284d9519431204...       0  \n",
       "ddf2b5328dafe4a5863dc2463578ea789284d9519431204...       0  \n",
       "ddf2b5328dafe4a5863dc2463578ea789284d9519431204...       0  \n",
       "ddf2b5328dafe4a5863dc2463578ea789284d9519431204...       0  \n",
       "ddf2b5328dafe4a5863dc2463578ea789284d9519431204...       0  \n",
       "ddf2b5328dafe4a5863dc2463578ea789284d9519431204...       0  \n",
       "ddf2b5328dafe4a5863dc2463578ea789284d9519431204...       0  \n",
       "ddf2b5328dafe4a5863dc2463578ea789284d9519431204...       0  \n",
       "ddf2b5328dafe4a5863dc2463578ea789284d9519431204...       0  \n",
       "ddf2b5328dafe4a5863dc2463578ea789284d9519431204...       0  \n",
       "ddf2b5328dafe4a5863dc2463578ea789284d9519431204...       0  \n",
       "ddf2b5328dafe4a5863dc2463578ea789284d9519431204...       0  \n",
       "ddf2b5328dafe4a5863dc2463578ea789284d9519431204...       0  \n",
       "ddf2b5328dafe4a5863dc2463578ea789284d9519431204...       0  \n",
       "ddf2b5328dafe4a5863dc2463578ea789284d9519431204...       0  "
      ]
     },
     "execution_count": 17,
     "metadata": {},
     "output_type": "execute_result"
    }
   ],
   "source": [
    "demanda_train[['Z_MARCA', 'Z_MODELO', 'Z_GAMA', 'Z_DEPARTAMENTO','Z_PUNTO_VENTA',\n",
    "               'SEMANA_XX','FECHA_INICIO','FECHA_FIN','TARGET']].tail(50)"
   ]
  },
  {
   "cell_type": "markdown",
   "metadata": {},
   "source": [
    "### Departamento"
   ]
  },
  {
   "cell_type": "code",
   "execution_count": 18,
   "metadata": {},
   "outputs": [
    {
     "data": {
      "image/png": "[encoded data removed]",
      "text/plain": [
       "<Figure size 1152x432 with 2 Axes>"
      ]
     },
     "metadata": {
      "needs_background": "light"
     },
     "output_type": "display_data"
    }
   ],
   "source": [
    "_, axes = plt.subplots(nrows=2, ncols=1, figsize=(16, 6))\n",
    "sns.countplot(data=demanda_train, x='Z_DEPARTAMENTO', ax=axes[0]);\n",
    "sns.countplot(data=demanda_test, x='Z_DEPARTAMENTO', ax=axes[1]);"
   ]
  },
  {
   "cell_type": "code",
   "execution_count": 19,
   "metadata": {},
   "outputs": [
    {
     "data": {
      "image/png": "[encoded data removed]",
      "text/plain": [
       "<Figure size 1440x576 with 1 Axes>"
      ]
     },
     "metadata": {
      "needs_background": "light"
     },
     "output_type": "display_data"
    }
   ],
   "source": [
    "plt.figure(figsize=(20,8))\n",
    "axs = sns.barplot(x='Z_DEPARTAMENTO', y='TARGET', data=demanda_train, estimator=np.sum, ci='sd');\n",
    "show_values_on_bars(axs, h_v=\"v\", space=0.8)\n",
    "plt.show()"
   ]
  },
  {
   "cell_type": "code",
   "execution_count": 20,
   "metadata": {},
   "outputs": [
    {
     "data": {
      "image/png": "[encoded data removed]",
      "text/plain": [
       "<Figure size 1440x576 with 1 Axes>"
      ]
     },
     "metadata": {
      "needs_background": "light"
     },
     "output_type": "display_data"
    }
   ],
   "source": [
    "plt.figure(figsize=(20,8))\n",
    "axs = sns.barplot(x='Z_DEPARTAMENTO', y='TARGET', data=demanda_train, estimator=np.mean, ci='sd');\n",
    "show_values_on_bars(axs, h_v=\"v\", space=0.8)\n",
    "plt.show()"
   ]
  },
  {
   "cell_type": "code",
   "execution_count": 21,
   "metadata": {},
   "outputs": [
    {
     "data": {
      "image/png": "[encoded data removed]",
      "text/plain": [
       "<Figure size 1440x576 with 1 Axes>"
      ]
     },
     "metadata": {
      "needs_background": "light"
     },
     "output_type": "display_data"
    }
   ],
   "source": [
    "plt.figure(figsize=(20,8))\n",
    "axs = sns.barplot(x='Z_DEPARTAMENTO', y='TARGET', data=demanda_train, estimator=np.std, ci='sd');\n",
    "show_values_on_bars(axs, h_v=\"v\", space=0.8)\n",
    "plt.show()"
   ]
  },
  {
   "cell_type": "code",
   "execution_count": 22,
   "metadata": {},
   "outputs": [
    {
     "data": {
      "image/png": "[encoded data removed]",
      "text/plain": [
       "<Figure size 1440x576 with 1 Axes>"
      ]
     },
     "metadata": {
      "needs_background": "light"
     },
     "output_type": "display_data"
    }
   ],
   "source": [
    "plt.figure(figsize=(20,8))\n",
    "axs = sns.barplot(x='Z_DEPARTAMENTO', y='TARGET', data=demanda_train, estimator=np.max, ci='sd');\n",
    "show_values_on_bars(axs, h_v=\"v\", space=0.8)\n",
    "plt.show()"
   ]
  },
  {
   "cell_type": "markdown",
   "metadata": {},
   "source": [
    "### Marca"
   ]
  },
  {
   "cell_type": "code",
   "execution_count": 23,
   "metadata": {},
   "outputs": [
    {
     "data": {
      "image/png": "[encoded data removed]",
      "text/plain": [
       "<Figure size 1152x432 with 2 Axes>"
      ]
     },
     "metadata": {
      "needs_background": "light"
     },
     "output_type": "display_data"
    }
   ],
   "source": [
    "_, axes = plt.subplots(nrows=2, ncols=1, figsize=(16, 6))\n",
    "sns.countplot(data=demanda_train, x='Z_MARCA', ax=axes[0]);\n",
    "sns.countplot(data=demanda_test, x='Z_MARCA', ax=axes[1]);"
   ]
  },
  {
   "cell_type": "code",
   "execution_count": 24,
   "metadata": {},
   "outputs": [
    {
     "data": {
      "image/png": "[encoded data removed]",
      "text/plain": [
       "<Figure size 1440x576 with 1 Axes>"
      ]
     },
     "metadata": {
      "needs_background": "light"
     },
     "output_type": "display_data"
    }
   ],
   "source": [
    "plt.figure(figsize=(20,8))\n",
    "axs = sns.barplot(x='Z_MARCA', y='TARGET', data=demanda_train, estimator=np.sum, ci='sd');\n",
    "show_values_on_bars(axs, h_v=\"v\", space=0.8)\n",
    "plt.show()"
   ]
  },
  {
   "cell_type": "code",
   "execution_count": 25,
   "metadata": {},
   "outputs": [
    {
     "data": {
      "image/png": "[encoded data removed]",
      "text/plain": [
       "<Figure size 1440x576 with 1 Axes>"
      ]
     },
     "metadata": {
      "needs_background": "light"
     },
     "output_type": "display_data"
    }
   ],
   "source": [
    "plt.figure(figsize=(20,8))\n",
    "axs = sns.barplot(x='Z_MARCA', y='TARGET', data=demanda_train, estimator=np.mean, ci='sd');\n",
    "show_values_on_bars(axs, h_v=\"v\", space=0.8)\n",
    "plt.show()"
   ]
  },
  {
   "cell_type": "code",
   "execution_count": 26,
   "metadata": {},
   "outputs": [
    {
     "data": {
      "image/png": "[encoded data removed]",
      "text/plain": [
       "<Figure size 1440x576 with 1 Axes>"
      ]
     },
     "metadata": {
      "needs_background": "light"
     },
     "output_type": "display_data"
    }
   ],
   "source": [
    "plt.figure(figsize=(20,8))\n",
    "axs = sns.barplot(x='Z_MARCA', y='TARGET', data=demanda_train, estimator=np.std, ci='sd');\n",
    "show_values_on_bars(axs, h_v=\"v\", space=0.8)\n",
    "plt.show()"
   ]
  },
  {
   "cell_type": "code",
   "execution_count": 27,
   "metadata": {},
   "outputs": [
    {
     "data": {
      "image/png": "[encoded data removed]",
      "text/plain": [
       "<Figure size 1440x576 with 1 Axes>"
      ]
     },
     "metadata": {
      "needs_background": "light"
     },
     "output_type": "display_data"
    }
   ],
   "source": [
    "plt.figure(figsize=(20,8))\n",
    "axs = sns.barplot(x='Z_MARCA', y='TARGET', data=demanda_train, estimator=np.max, ci='sd');\n",
    "show_values_on_bars(axs, h_v=\"v\", space=0.8)\n",
    "plt.show()"
   ]
  },
  {
   "cell_type": "markdown",
   "metadata": {},
   "source": [
    "### Gama"
   ]
  },
  {
   "cell_type": "code",
   "execution_count": 28,
   "metadata": {
    "scrolled": true
   },
   "outputs": [
    {
     "data": {
      "image/png": "[encoded data removed]",
      "text/plain": [
       "<Figure size 1152x360 with 2 Axes>"
      ]
     },
     "metadata": {
      "needs_background": "light"
     },
     "output_type": "display_data"
    }
   ],
   "source": [
    "_, axes = plt.subplots(nrows=2, ncols=1, figsize=(16, 5))\n",
    "sns.countplot(data=demanda_train, x='Z_GAMA', ax=axes[0]);\n",
    "sns.countplot(data=demanda_test, x='Z_GAMA', ax=axes[1]);"
   ]
  },
  {
   "cell_type": "code",
   "execution_count": 29,
   "metadata": {},
   "outputs": [
    {
     "data": {
      "image/png": "[encoded data removed]",
      "text/plain": [
       "<Figure size 1440x576 with 1 Axes>"
      ]
     },
     "metadata": {
      "needs_background": "light"
     },
     "output_type": "display_data"
    }
   ],
   "source": [
    "plt.figure(figsize=(20,8))\n",
    "axs = sns.barplot(x='Z_GAMA', y='TARGET', data=demanda_train, estimator=np.sum, ci='sd');\n",
    "show_values_on_bars(axs, h_v=\"v\", space=0.8)\n",
    "plt.show()"
   ]
  },
  {
   "cell_type": "code",
   "execution_count": 30,
   "metadata": {},
   "outputs": [
    {
     "data": {
      "image/png": "[encoded data removed]",
      "text/plain": [
       "<Figure size 1440x576 with 1 Axes>"
      ]
     },
     "metadata": {
      "needs_background": "light"
     },
     "output_type": "display_data"
    }
   ],
   "source": [
    "plt.figure(figsize=(20,8))\n",
    "axs = sns.barplot(x='Z_GAMA', y='TARGET', data=demanda_train, estimator=np.mean, ci='sd');\n",
    "show_values_on_bars(axs, h_v=\"v\", space=0.8)\n",
    "plt.show()"
   ]
  },
  {
   "cell_type": "code",
   "execution_count": 31,
   "metadata": {},
   "outputs": [
    {
     "data": {
      "image/png": "[encoded data removed]",
      "text/plain": [
       "<Figure size 1440x576 with 1 Axes>"
      ]
     },
     "metadata": {
      "needs_background": "light"
     },
     "output_type": "display_data"
    }
   ],
   "source": [
    "plt.figure(figsize=(20,8))\n",
    "axs = sns.barplot(x='Z_GAMA', y='TARGET', data=demanda_train, estimator=np.std, ci='sd');\n",
    "show_values_on_bars(axs, h_v=\"v\", space=0.8)\n",
    "plt.show()"
   ]
  },
  {
   "cell_type": "code",
   "execution_count": 32,
   "metadata": {},
   "outputs": [
    {
     "data": {
      "image/png": "[encoded data removed]",
      "text/plain": [
       "<Figure size 1440x576 with 1 Axes>"
      ]
     },
     "metadata": {
      "needs_background": "light"
     },
     "output_type": "display_data"
    }
   ],
   "source": [
    "plt.figure(figsize=(20,8))\n",
    "axs = sns.barplot(x='Z_GAMA', y='TARGET', data=demanda_train, estimator=np.max, ci='sd');\n",
    "show_values_on_bars(axs, h_v=\"v\", space=0.8)\n",
    "plt.show()"
   ]
  },
  {
   "cell_type": "markdown",
   "metadata": {},
   "source": [
    "### Semana_XX"
   ]
  },
  {
   "cell_type": "code",
   "execution_count": 33,
   "metadata": {},
   "outputs": [
    {
     "data": {
      "text/html": [
       "<div>\n",
       "<style scoped>\n",
       "    .dataframe tbody tr th:only-of-type {\n",
       "        vertical-align: middle;\n",
       "    }\n",
       "\n",
       "    .dataframe tbody tr th {\n",
       "        vertical-align: top;\n",
       "    }\n",
       "\n",
       "    .dataframe thead th {\n",
       "        text-align: right;\n",
       "    }\n",
       "</style>\n",
       "<table border=\"1\" class=\"dataframe\">\n",
       "  <thead>\n",
       "    <tr style=\"text-align: right;\">\n",
       "      <th></th>\n",
       "      <th>Z_MARCA</th>\n",
       "      <th>Z_MODELO</th>\n",
       "      <th>Z_GAMA</th>\n",
       "      <th>Z_DEPARTAMENTO</th>\n",
       "      <th>Z_PUNTO_VENTA</th>\n",
       "      <th>SEMANA_XX</th>\n",
       "      <th>TARGET</th>\n",
       "      <th>FECHA_INICIO</th>\n",
       "      <th>FECHA_FIN</th>\n",
       "      <th>TARGET_BINARIO</th>\n",
       "      <th>MES_INICIO</th>\n",
       "      <th>ANNIO_INICIO</th>\n",
       "      <th>DIA_INICIO</th>\n",
       "    </tr>\n",
       "    <tr>\n",
       "      <th>ID</th>\n",
       "      <th></th>\n",
       "      <th></th>\n",
       "      <th></th>\n",
       "      <th></th>\n",
       "      <th></th>\n",
       "      <th></th>\n",
       "      <th></th>\n",
       "      <th></th>\n",
       "      <th></th>\n",
       "      <th></th>\n",
       "      <th></th>\n",
       "      <th></th>\n",
       "      <th></th>\n",
       "    </tr>\n",
       "  </thead>\n",
       "  <tbody>\n",
       "    <tr>\n",
       "      <th>1161c077d04c02902341ddd6f20f322d6fdaac2619ecf1079f498d53d42ff438|0fedacb725c2c2128d2b42505880d91d238e616b926278c41caff6da4c622e51|f793de205ead5ac302c4a1627829dea41f176b1068b993a32373fc869918374b|SEMANA_01</th>\n",
       "      <td>1</td>\n",
       "      <td>1</td>\n",
       "      <td>1</td>\n",
       "      <td>1</td>\n",
       "      <td>1</td>\n",
       "      <td>SEMANA_01</td>\n",
       "      <td>0</td>\n",
       "      <td>2021-05-17</td>\n",
       "      <td>2021-05-23</td>\n",
       "      <td>0</td>\n",
       "      <td>May</td>\n",
       "      <td>2021</td>\n",
       "      <td>17</td>\n",
       "    </tr>\n",
       "    <tr>\n",
       "      <th>1161c077d04c02902341ddd6f20f322d6fdaac2619ecf1079f498d53d42ff438|0fedacb725c2c2128d2b42505880d91d238e616b926278c41caff6da4c622e51|f793de205ead5ac302c4a1627829dea41f176b1068b993a32373fc869918374b|SEMANA_02</th>\n",
       "      <td>1</td>\n",
       "      <td>1</td>\n",
       "      <td>1</td>\n",
       "      <td>1</td>\n",
       "      <td>1</td>\n",
       "      <td>SEMANA_02</td>\n",
       "      <td>0</td>\n",
       "      <td>2021-05-24</td>\n",
       "      <td>2021-05-30</td>\n",
       "      <td>0</td>\n",
       "      <td>May</td>\n",
       "      <td>2021</td>\n",
       "      <td>24</td>\n",
       "    </tr>\n",
       "    <tr>\n",
       "      <th>1161c077d04c02902341ddd6f20f322d6fdaac2619ecf1079f498d53d42ff438|0fedacb725c2c2128d2b42505880d91d238e616b926278c41caff6da4c622e51|f793de205ead5ac302c4a1627829dea41f176b1068b993a32373fc869918374b|SEMANA_03</th>\n",
       "      <td>1</td>\n",
       "      <td>1</td>\n",
       "      <td>1</td>\n",
       "      <td>1</td>\n",
       "      <td>1</td>\n",
       "      <td>SEMANA_03</td>\n",
       "      <td>0</td>\n",
       "      <td>2021-05-31</td>\n",
       "      <td>2021-06-06</td>\n",
       "      <td>0</td>\n",
       "      <td>May</td>\n",
       "      <td>2021</td>\n",
       "      <td>31</td>\n",
       "    </tr>\n",
       "    <tr>\n",
       "      <th>1161c077d04c02902341ddd6f20f322d6fdaac2619ecf1079f498d53d42ff438|0fedacb725c2c2128d2b42505880d91d238e616b926278c41caff6da4c622e51|f793de205ead5ac302c4a1627829dea41f176b1068b993a32373fc869918374b|SEMANA_04</th>\n",
       "      <td>1</td>\n",
       "      <td>1</td>\n",
       "      <td>1</td>\n",
       "      <td>1</td>\n",
       "      <td>1</td>\n",
       "      <td>SEMANA_04</td>\n",
       "      <td>0</td>\n",
       "      <td>2021-06-07</td>\n",
       "      <td>2021-06-13</td>\n",
       "      <td>0</td>\n",
       "      <td>Jun</td>\n",
       "      <td>2021</td>\n",
       "      <td>7</td>\n",
       "    </tr>\n",
       "    <tr>\n",
       "      <th>1161c077d04c02902341ddd6f20f322d6fdaac2619ecf1079f498d53d42ff438|0fedacb725c2c2128d2b42505880d91d238e616b926278c41caff6da4c622e51|f793de205ead5ac302c4a1627829dea41f176b1068b993a32373fc869918374b|SEMANA_05</th>\n",
       "      <td>1</td>\n",
       "      <td>1</td>\n",
       "      <td>1</td>\n",
       "      <td>1</td>\n",
       "      <td>1</td>\n",
       "      <td>SEMANA_05</td>\n",
       "      <td>0</td>\n",
       "      <td>2021-06-14</td>\n",
       "      <td>2021-06-20</td>\n",
       "      <td>0</td>\n",
       "      <td>Jun</td>\n",
       "      <td>2021</td>\n",
       "      <td>14</td>\n",
       "    </tr>\n",
       "    <tr>\n",
       "      <th>...</th>\n",
       "      <td>...</td>\n",
       "      <td>...</td>\n",
       "      <td>...</td>\n",
       "      <td>...</td>\n",
       "      <td>...</td>\n",
       "      <td>...</td>\n",
       "      <td>...</td>\n",
       "      <td>...</td>\n",
       "      <td>...</td>\n",
       "      <td>...</td>\n",
       "      <td>...</td>\n",
       "      <td>...</td>\n",
       "      <td>...</td>\n",
       "    </tr>\n",
       "    <tr>\n",
       "      <th>ddf2b5328dafe4a5863dc2463578ea789284d9519431204bcd0ab3cb17ac426d|ac45b56f385a5564f090e7afd47d721d3a491796bd3a1230f7c8caa84c5fbc5c|f793de205ead5ac302c4a1627829dea41f176b1068b993a32373fc869918374b|SEMANA_46</th>\n",
       "      <td>17</td>\n",
       "      <td>318</td>\n",
       "      <td>1</td>\n",
       "      <td>24</td>\n",
       "      <td>414</td>\n",
       "      <td>SEMANA_46</td>\n",
       "      <td>0</td>\n",
       "      <td>2022-03-28</td>\n",
       "      <td>2022-04-03</td>\n",
       "      <td>0</td>\n",
       "      <td>Mar</td>\n",
       "      <td>2022</td>\n",
       "      <td>28</td>\n",
       "    </tr>\n",
       "    <tr>\n",
       "      <th>ddf2b5328dafe4a5863dc2463578ea789284d9519431204bcd0ab3cb17ac426d|ac45b56f385a5564f090e7afd47d721d3a491796bd3a1230f7c8caa84c5fbc5c|f793de205ead5ac302c4a1627829dea41f176b1068b993a32373fc869918374b|SEMANA_47</th>\n",
       "      <td>17</td>\n",
       "      <td>318</td>\n",
       "      <td>1</td>\n",
       "      <td>24</td>\n",
       "      <td>414</td>\n",
       "      <td>SEMANA_47</td>\n",
       "      <td>0</td>\n",
       "      <td>2022-04-04</td>\n",
       "      <td>2022-04-10</td>\n",
       "      <td>0</td>\n",
       "      <td>Apr</td>\n",
       "      <td>2022</td>\n",
       "      <td>4</td>\n",
       "    </tr>\n",
       "    <tr>\n",
       "      <th>ddf2b5328dafe4a5863dc2463578ea789284d9519431204bcd0ab3cb17ac426d|ac45b56f385a5564f090e7afd47d721d3a491796bd3a1230f7c8caa84c5fbc5c|f793de205ead5ac302c4a1627829dea41f176b1068b993a32373fc869918374b|SEMANA_48</th>\n",
       "      <td>17</td>\n",
       "      <td>318</td>\n",
       "      <td>1</td>\n",
       "      <td>24</td>\n",
       "      <td>414</td>\n",
       "      <td>SEMANA_48</td>\n",
       "      <td>0</td>\n",
       "      <td>2022-04-11</td>\n",
       "      <td>2022-04-17</td>\n",
       "      <td>0</td>\n",
       "      <td>Apr</td>\n",
       "      <td>2022</td>\n",
       "      <td>11</td>\n",
       "    </tr>\n",
       "    <tr>\n",
       "      <th>ddf2b5328dafe4a5863dc2463578ea789284d9519431204bcd0ab3cb17ac426d|ac45b56f385a5564f090e7afd47d721d3a491796bd3a1230f7c8caa84c5fbc5c|f793de205ead5ac302c4a1627829dea41f176b1068b993a32373fc869918374b|SEMANA_49</th>\n",
       "      <td>17</td>\n",
       "      <td>318</td>\n",
       "      <td>1</td>\n",
       "      <td>24</td>\n",
       "      <td>414</td>\n",
       "      <td>SEMANA_49</td>\n",
       "      <td>0</td>\n",
       "      <td>2022-04-18</td>\n",
       "      <td>2022-04-24</td>\n",
       "      <td>0</td>\n",
       "      <td>Apr</td>\n",
       "      <td>2022</td>\n",
       "      <td>18</td>\n",
       "    </tr>\n",
       "    <tr>\n",
       "      <th>ddf2b5328dafe4a5863dc2463578ea789284d9519431204bcd0ab3cb17ac426d|ac45b56f385a5564f090e7afd47d721d3a491796bd3a1230f7c8caa84c5fbc5c|f793de205ead5ac302c4a1627829dea41f176b1068b993a32373fc869918374b|SEMANA_50</th>\n",
       "      <td>17</td>\n",
       "      <td>318</td>\n",
       "      <td>1</td>\n",
       "      <td>24</td>\n",
       "      <td>414</td>\n",
       "      <td>SEMANA_50</td>\n",
       "      <td>0</td>\n",
       "      <td>2022-04-25</td>\n",
       "      <td>2022-05-01</td>\n",
       "      <td>0</td>\n",
       "      <td>Apr</td>\n",
       "      <td>2022</td>\n",
       "      <td>25</td>\n",
       "    </tr>\n",
       "  </tbody>\n",
       "</table>\n",
       "<p>2358650 rows × 13 columns</p>\n",
       "</div>"
      ],
      "text/plain": [
       "                                                   Z_MARCA Z_MODELO Z_GAMA  \\\n",
       "ID                                                                           \n",
       "1161c077d04c02902341ddd6f20f322d6fdaac2619ecf10...       1        1      1   \n",
       "1161c077d04c02902341ddd6f20f322d6fdaac2619ecf10...       1        1      1   \n",
       "1161c077d04c02902341ddd6f20f322d6fdaac2619ecf10...       1        1      1   \n",
       "1161c077d04c02902341ddd6f20f322d6fdaac2619ecf10...       1        1      1   \n",
       "1161c077d04c02902341ddd6f20f322d6fdaac2619ecf10...       1        1      1   \n",
       "...                                                    ...      ...    ...   \n",
       "ddf2b5328dafe4a5863dc2463578ea789284d9519431204...      17      318      1   \n",
       "ddf2b5328dafe4a5863dc2463578ea789284d9519431204...      17      318      1   \n",
       "ddf2b5328dafe4a5863dc2463578ea789284d9519431204...      17      318      1   \n",
       "ddf2b5328dafe4a5863dc2463578ea789284d9519431204...      17      318      1   \n",
       "ddf2b5328dafe4a5863dc2463578ea789284d9519431204...      17      318      1   \n",
       "\n",
       "                                                   Z_DEPARTAMENTO  \\\n",
       "ID                                                                  \n",
       "1161c077d04c02902341ddd6f20f322d6fdaac2619ecf10...              1   \n",
       "1161c077d04c02902341ddd6f20f322d6fdaac2619ecf10...              1   \n",
       "1161c077d04c02902341ddd6f20f322d6fdaac2619ecf10...              1   \n",
       "1161c077d04c02902341ddd6f20f322d6fdaac2619ecf10...              1   \n",
       "1161c077d04c02902341ddd6f20f322d6fdaac2619ecf10...              1   \n",
       "...                                                           ...   \n",
       "ddf2b5328dafe4a5863dc2463578ea789284d9519431204...             24   \n",
       "ddf2b5328dafe4a5863dc2463578ea789284d9519431204...             24   \n",
       "ddf2b5328dafe4a5863dc2463578ea789284d9519431204...             24   \n",
       "ddf2b5328dafe4a5863dc2463578ea789284d9519431204...             24   \n",
       "ddf2b5328dafe4a5863dc2463578ea789284d9519431204...             24   \n",
       "\n",
       "                                                   Z_PUNTO_VENTA  SEMANA_XX  \\\n",
       "ID                                                                            \n",
       "1161c077d04c02902341ddd6f20f322d6fdaac2619ecf10...             1  SEMANA_01   \n",
       "1161c077d04c02902341ddd6f20f322d6fdaac2619ecf10...             1  SEMANA_02   \n",
       "1161c077d04c02902341ddd6f20f322d6fdaac2619ecf10...             1  SEMANA_03   \n",
       "1161c077d04c02902341ddd6f20f322d6fdaac2619ecf10...             1  SEMANA_04   \n",
       "1161c077d04c02902341ddd6f20f322d6fdaac2619ecf10...             1  SEMANA_05   \n",
       "...                                                          ...        ...   \n",
       "ddf2b5328dafe4a5863dc2463578ea789284d9519431204...           414  SEMANA_46   \n",
       "ddf2b5328dafe4a5863dc2463578ea789284d9519431204...           414  SEMANA_47   \n",
       "ddf2b5328dafe4a5863dc2463578ea789284d9519431204...           414  SEMANA_48   \n",
       "ddf2b5328dafe4a5863dc2463578ea789284d9519431204...           414  SEMANA_49   \n",
       "ddf2b5328dafe4a5863dc2463578ea789284d9519431204...           414  SEMANA_50   \n",
       "\n",
       "                                                    TARGET FECHA_INICIO  \\\n",
       "ID                                                                        \n",
       "1161c077d04c02902341ddd6f20f322d6fdaac2619ecf10...       0   2021-05-17   \n",
       "1161c077d04c02902341ddd6f20f322d6fdaac2619ecf10...       0   2021-05-24   \n",
       "1161c077d04c02902341ddd6f20f322d6fdaac2619ecf10...       0   2021-05-31   \n",
       "1161c077d04c02902341ddd6f20f322d6fdaac2619ecf10...       0   2021-06-07   \n",
       "1161c077d04c02902341ddd6f20f322d6fdaac2619ecf10...       0   2021-06-14   \n",
       "...                                                    ...          ...   \n",
       "ddf2b5328dafe4a5863dc2463578ea789284d9519431204...       0   2022-03-28   \n",
       "ddf2b5328dafe4a5863dc2463578ea789284d9519431204...       0   2022-04-04   \n",
       "ddf2b5328dafe4a5863dc2463578ea789284d9519431204...       0   2022-04-11   \n",
       "ddf2b5328dafe4a5863dc2463578ea789284d9519431204...       0   2022-04-18   \n",
       "ddf2b5328dafe4a5863dc2463578ea789284d9519431204...       0   2022-04-25   \n",
       "\n",
       "                                                    FECHA_FIN  TARGET_BINARIO  \\\n",
       "ID                                                                              \n",
       "1161c077d04c02902341ddd6f20f322d6fdaac2619ecf10... 2021-05-23               0   \n",
       "1161c077d04c02902341ddd6f20f322d6fdaac2619ecf10... 2021-05-30               0   \n",
       "1161c077d04c02902341ddd6f20f322d6fdaac2619ecf10... 2021-06-06               0   \n",
       "1161c077d04c02902341ddd6f20f322d6fdaac2619ecf10... 2021-06-13               0   \n",
       "1161c077d04c02902341ddd6f20f322d6fdaac2619ecf10... 2021-06-20               0   \n",
       "...                                                       ...             ...   \n",
       "ddf2b5328dafe4a5863dc2463578ea789284d9519431204... 2022-04-03               0   \n",
       "ddf2b5328dafe4a5863dc2463578ea789284d9519431204... 2022-04-10               0   \n",
       "ddf2b5328dafe4a5863dc2463578ea789284d9519431204... 2022-04-17               0   \n",
       "ddf2b5328dafe4a5863dc2463578ea789284d9519431204... 2022-04-24               0   \n",
       "ddf2b5328dafe4a5863dc2463578ea789284d9519431204... 2022-05-01               0   \n",
       "\n",
       "                                                   MES_INICIO  ANNIO_INICIO  \\\n",
       "ID                                                                            \n",
       "1161c077d04c02902341ddd6f20f322d6fdaac2619ecf10...        May          2021   \n",
       "1161c077d04c02902341ddd6f20f322d6fdaac2619ecf10...        May          2021   \n",
       "1161c077d04c02902341ddd6f20f322d6fdaac2619ecf10...        May          2021   \n",
       "1161c077d04c02902341ddd6f20f322d6fdaac2619ecf10...        Jun          2021   \n",
       "1161c077d04c02902341ddd6f20f322d6fdaac2619ecf10...        Jun          2021   \n",
       "...                                                       ...           ...   \n",
       "ddf2b5328dafe4a5863dc2463578ea789284d9519431204...        Mar          2022   \n",
       "ddf2b5328dafe4a5863dc2463578ea789284d9519431204...        Apr          2022   \n",
       "ddf2b5328dafe4a5863dc2463578ea789284d9519431204...        Apr          2022   \n",
       "ddf2b5328dafe4a5863dc2463578ea789284d9519431204...        Apr          2022   \n",
       "ddf2b5328dafe4a5863dc2463578ea789284d9519431204...        Apr          2022   \n",
       "\n",
       "                                                    DIA_INICIO  \n",
       "ID                                                              \n",
       "1161c077d04c02902341ddd6f20f322d6fdaac2619ecf10...          17  \n",
       "1161c077d04c02902341ddd6f20f322d6fdaac2619ecf10...          24  \n",
       "1161c077d04c02902341ddd6f20f322d6fdaac2619ecf10...          31  \n",
       "1161c077d04c02902341ddd6f20f322d6fdaac2619ecf10...           7  \n",
       "1161c077d04c02902341ddd6f20f322d6fdaac2619ecf10...          14  \n",
       "...                                                        ...  \n",
       "ddf2b5328dafe4a5863dc2463578ea789284d9519431204...          28  \n",
       "ddf2b5328dafe4a5863dc2463578ea789284d9519431204...           4  \n",
       "ddf2b5328dafe4a5863dc2463578ea789284d9519431204...          11  \n",
       "ddf2b5328dafe4a5863dc2463578ea789284d9519431204...          18  \n",
       "ddf2b5328dafe4a5863dc2463578ea789284d9519431204...          25  \n",
       "\n",
       "[2358650 rows x 13 columns]"
      ]
     },
     "execution_count": 33,
     "metadata": {},
     "output_type": "execute_result"
    }
   ],
   "source": [
    "demanda_train['MES_INICIO'] = demanda_train['FECHA_INICIO'].apply(lambda x: x.strftime('%b'))\n",
    "demanda_train['ANNIO_INICIO'] = demanda_train['FECHA_INICIO'].apply(lambda x: x.year)\n",
    "demanda_train['DIA_INICIO'] = demanda_train['FECHA_INICIO'].apply(lambda x: x.day)\n",
    "demanda_train['FECHA_INICIO'] = demanda_train['FECHA_INICIO'].apply(lambda x: x.strftime('%Y-%m-%d'))\n",
    "demanda_train"
   ]
  },
  {
   "cell_type": "code",
   "execution_count": 34,
   "metadata": {},
   "outputs": [
    {
     "data": {
      "image/png": "[encoded data removed]",
      "text/plain": [
       "<Figure size 1440x576 with 1 Axes>"
      ]
     },
     "metadata": {
      "needs_background": "light"
     },
     "output_type": "display_data"
    }
   ],
   "source": [
    "plt.figure(figsize=(20,8))\n",
    "axs = sns.barplot(x='MES_INICIO', y='TARGET', data=demanda_train, estimator=np.sum, ci='sd');\n",
    "show_values_on_bars(axs, h_v=\"v\", space=0.8)\n",
    "plt.show()"
   ]
  },
  {
   "cell_type": "code",
   "execution_count": 35,
   "metadata": {},
   "outputs": [
    {
     "data": {
      "image/png": "[encoded data removed]",
      "text/plain": [
       "<Figure size 1440x576 with 1 Axes>"
      ]
     },
     "metadata": {
      "needs_background": "light"
     },
     "output_type": "display_data"
    }
   ],
   "source": [
    "plt.figure(figsize=(20,8))\n",
    "axs = sns.barplot(x='DIA_INICIO', y='TARGET', data=demanda_train, estimator=np.sum, ci='sd');\n",
    "show_values_on_bars(axs, h_v=\"v\", space=0.8)\n",
    "plt.show()"
   ]
  },
  {
   "cell_type": "code",
   "execution_count": 36,
   "metadata": {},
   "outputs": [
    {
     "data": {
      "image/png": "[encoded data removed]",
      "text/plain": [
       "<Figure size 1440x576 with 1 Axes>"
      ]
     },
     "metadata": {
      "needs_background": "light"
     },
     "output_type": "display_data"
    }
   ],
   "source": [
    "plt.figure(figsize=(20,8))\n",
    "axs = sns.barplot(x='FECHA_INICIO', y='TARGET', data=demanda_train, estimator=np.sum, ci='sd');\n",
    "show_values_on_bars(axs, h_v=\"v\", space=0.8)\n",
    "axs.tick_params(rotation=90)\n",
    "plt.show()"
   ]
  },
  {
   "cell_type": "code",
   "execution_count": 37,
   "metadata": {},
   "outputs": [
    {
     "data": {
      "image/png": "[encoded data removed]",
      "text/plain": [
       "<Figure size 1440x576 with 1 Axes>"
      ]
     },
     "metadata": {
      "needs_background": "light"
     },
     "output_type": "display_data"
    }
   ],
   "source": [
    "plt.figure(figsize=(20,8))\n",
    "axs = sns.barplot(x='SEMANA_XX', y='TARGET', data=demanda_train, estimator=np.sum, ci='sd');\n",
    "show_values_on_bars(axs, h_v=\"v\", space=0.8)\n",
    "axs.tick_params(rotation=90)\n",
    "plt.show()"
   ]
  },
  {
   "cell_type": "code",
   "execution_count": 38,
   "metadata": {},
   "outputs": [
    {
     "data": {
      "image/png": "[encoded data removed]",
      "text/plain": [
       "<Figure size 1440x576 with 1 Axes>"
      ]
     },
     "metadata": {
      "needs_background": "light"
     },
     "output_type": "display_data"
    }
   ],
   "source": [
    "plt.figure(figsize=(20,8))\n",
    "axs = sns.barplot(x='SEMANA_XX', y='TARGET', data=demanda_train, estimator=np.mean, ci='sd');\n",
    "show_values_on_bars(axs, h_v=\"v\", space=0.8, precision=2)\n",
    "axs.tick_params(rotation=90)\n",
    "plt.show()"
   ]
  },
  {
   "cell_type": "code",
   "execution_count": 39,
   "metadata": {},
   "outputs": [
    {
     "data": {
      "image/png": "[encoded data removed]",
      "text/plain": [
       "<Figure size 1440x576 with 1 Axes>"
      ]
     },
     "metadata": {
      "needs_background": "light"
     },
     "output_type": "display_data"
    }
   ],
   "source": [
    "plt.figure(figsize=(20,8))\n",
    "axs = sns.barplot(x='SEMANA_XX', y='TARGET', data=demanda_train, estimator=np.max, ci='sd');\n",
    "show_values_on_bars(axs, h_v=\"v\", space=0.8, precision=2)\n",
    "axs.tick_params(rotation=90)\n",
    "plt.show()"
   ]
  },
  {
   "cell_type": "code",
   "execution_count": 40,
   "metadata": {},
   "outputs": [
    {
     "data": {
      "image/png": "[encoded data removed]",
      "text/plain": [
       "<Figure size 1440x576 with 1 Axes>"
      ]
     },
     "metadata": {
      "needs_background": "light"
     },
     "output_type": "display_data"
    }
   ],
   "source": [
    "plt.figure(figsize=(20,8))\n",
    "axs = sns.barplot(x='SEMANA_XX', y='TARGET', data=demanda_train, estimator=np.median, ci='sd');\n",
    "show_values_on_bars(axs, h_v=\"v\", space=0.8, precision=2)\n",
    "axs.tick_params(rotation=90)\n",
    "plt.show()"
   ]
  },
  {
   "cell_type": "markdown",
   "metadata": {
    "tags": []
   },
   "source": [
    "## FEATURE ENGINEERING"
   ]
  },
  {
   "cell_type": "code",
   "execution_count": 162,
   "metadata": {},
   "outputs": [
    {
     "data": {
      "text/html": [
       "<div>\n",
       "<style scoped>\n",
       "    .dataframe tbody tr th:only-of-type {\n",
       "        vertical-align: middle;\n",
       "    }\n",
       "\n",
       "    .dataframe tbody tr th {\n",
       "        vertical-align: top;\n",
       "    }\n",
       "\n",
       "    .dataframe thead th {\n",
       "        text-align: right;\n",
       "    }\n",
       "</style>\n",
       "<table border=\"1\" class=\"dataframe\">\n",
       "  <thead>\n",
       "    <tr style=\"text-align: right;\">\n",
       "      <th></th>\n",
       "      <th>Z_MARCA</th>\n",
       "      <th>Z_MODELO</th>\n",
       "      <th>Z_GAMA</th>\n",
       "      <th>Z_DEPARTAMENTO</th>\n",
       "      <th>Z_PUNTO_VENTA</th>\n",
       "      <th>SEMANA_XX</th>\n",
       "      <th>TARGET</th>\n",
       "      <th>FECHA_INICIO</th>\n",
       "      <th>FECHA_FIN</th>\n",
       "      <th>MES_INICIO</th>\n",
       "      <th>DIA_INICIO</th>\n",
       "      <th>ANNIO_INICIO</th>\n",
       "      <th>MES_FIN</th>\n",
       "      <th>DIA_FIN</th>\n",
       "      <th>ANNIO_FIN</th>\n",
       "      <th>ANNIO_SEMANA_FIN</th>\n",
       "    </tr>\n",
       "    <tr>\n",
       "      <th>ID</th>\n",
       "      <th></th>\n",
       "      <th></th>\n",
       "      <th></th>\n",
       "      <th></th>\n",
       "      <th></th>\n",
       "      <th></th>\n",
       "      <th></th>\n",
       "      <th></th>\n",
       "      <th></th>\n",
       "      <th></th>\n",
       "      <th></th>\n",
       "      <th></th>\n",
       "      <th></th>\n",
       "      <th></th>\n",
       "      <th></th>\n",
       "      <th></th>\n",
       "    </tr>\n",
       "  </thead>\n",
       "  <tbody>\n",
       "    <tr>\n",
       "      <th>1161c077d04c02902341ddd6f20f322d6fdaac2619ecf1079f498d53d42ff438|0fedacb725c2c2128d2b42505880d91d238e616b926278c41caff6da4c622e51|f793de205ead5ac302c4a1627829dea41f176b1068b993a32373fc869918374b|SEMANA_01</th>\n",
       "      <td>1</td>\n",
       "      <td>1</td>\n",
       "      <td>1</td>\n",
       "      <td>1</td>\n",
       "      <td>1</td>\n",
       "      <td>SEMANA_01</td>\n",
       "      <td>0</td>\n",
       "      <td>2021-05-17</td>\n",
       "      <td>2021-05-23</td>\n",
       "      <td>5</td>\n",
       "      <td>17</td>\n",
       "      <td>2021</td>\n",
       "      <td>5</td>\n",
       "      <td>23</td>\n",
       "      <td>2021</td>\n",
       "      <td>202101</td>\n",
       "    </tr>\n",
       "    <tr>\n",
       "      <th>1161c077d04c02902341ddd6f20f322d6fdaac2619ecf1079f498d53d42ff438|0fedacb725c2c2128d2b42505880d91d238e616b926278c41caff6da4c622e51|f793de205ead5ac302c4a1627829dea41f176b1068b993a32373fc869918374b|SEMANA_02</th>\n",
       "      <td>1</td>\n",
       "      <td>1</td>\n",
       "      <td>1</td>\n",
       "      <td>1</td>\n",
       "      <td>1</td>\n",
       "      <td>SEMANA_02</td>\n",
       "      <td>0</td>\n",
       "      <td>2021-05-24</td>\n",
       "      <td>2021-05-30</td>\n",
       "      <td>5</td>\n",
       "      <td>24</td>\n",
       "      <td>2021</td>\n",
       "      <td>5</td>\n",
       "      <td>30</td>\n",
       "      <td>2021</td>\n",
       "      <td>202102</td>\n",
       "    </tr>\n",
       "    <tr>\n",
       "      <th>1161c077d04c02902341ddd6f20f322d6fdaac2619ecf1079f498d53d42ff438|0fedacb725c2c2128d2b42505880d91d238e616b926278c41caff6da4c622e51|f793de205ead5ac302c4a1627829dea41f176b1068b993a32373fc869918374b|SEMANA_03</th>\n",
       "      <td>1</td>\n",
       "      <td>1</td>\n",
       "      <td>1</td>\n",
       "      <td>1</td>\n",
       "      <td>1</td>\n",
       "      <td>SEMANA_03</td>\n",
       "      <td>0</td>\n",
       "      <td>2021-05-31</td>\n",
       "      <td>2021-06-06</td>\n",
       "      <td>5</td>\n",
       "      <td>31</td>\n",
       "      <td>2021</td>\n",
       "      <td>6</td>\n",
       "      <td>6</td>\n",
       "      <td>2021</td>\n",
       "      <td>202103</td>\n",
       "    </tr>\n",
       "    <tr>\n",
       "      <th>1161c077d04c02902341ddd6f20f322d6fdaac2619ecf1079f498d53d42ff438|0fedacb725c2c2128d2b42505880d91d238e616b926278c41caff6da4c622e51|f793de205ead5ac302c4a1627829dea41f176b1068b993a32373fc869918374b|SEMANA_04</th>\n",
       "      <td>1</td>\n",
       "      <td>1</td>\n",
       "      <td>1</td>\n",
       "      <td>1</td>\n",
       "      <td>1</td>\n",
       "      <td>SEMANA_04</td>\n",
       "      <td>0</td>\n",
       "      <td>2021-06-07</td>\n",
       "      <td>2021-06-13</td>\n",
       "      <td>6</td>\n",
       "      <td>7</td>\n",
       "      <td>2021</td>\n",
       "      <td>6</td>\n",
       "      <td>13</td>\n",
       "      <td>2021</td>\n",
       "      <td>202104</td>\n",
       "    </tr>\n",
       "    <tr>\n",
       "      <th>1161c077d04c02902341ddd6f20f322d6fdaac2619ecf1079f498d53d42ff438|0fedacb725c2c2128d2b42505880d91d238e616b926278c41caff6da4c622e51|f793de205ead5ac302c4a1627829dea41f176b1068b993a32373fc869918374b|SEMANA_05</th>\n",
       "      <td>1</td>\n",
       "      <td>1</td>\n",
       "      <td>1</td>\n",
       "      <td>1</td>\n",
       "      <td>1</td>\n",
       "      <td>SEMANA_05</td>\n",
       "      <td>0</td>\n",
       "      <td>2021-06-14</td>\n",
       "      <td>2021-06-20</td>\n",
       "      <td>6</td>\n",
       "      <td>14</td>\n",
       "      <td>2021</td>\n",
       "      <td>6</td>\n",
       "      <td>20</td>\n",
       "      <td>2021</td>\n",
       "      <td>202105</td>\n",
       "    </tr>\n",
       "    <tr>\n",
       "      <th>...</th>\n",
       "      <td>...</td>\n",
       "      <td>...</td>\n",
       "      <td>...</td>\n",
       "      <td>...</td>\n",
       "      <td>...</td>\n",
       "      <td>...</td>\n",
       "      <td>...</td>\n",
       "      <td>...</td>\n",
       "      <td>...</td>\n",
       "      <td>...</td>\n",
       "      <td>...</td>\n",
       "      <td>...</td>\n",
       "      <td>...</td>\n",
       "      <td>...</td>\n",
       "      <td>...</td>\n",
       "      <td>...</td>\n",
       "    </tr>\n",
       "    <tr>\n",
       "      <th>ddf2b5328dafe4a5863dc2463578ea789284d9519431204bcd0ab3cb17ac426d|ac45b56f385a5564f090e7afd47d721d3a491796bd3a1230f7c8caa84c5fbc5c|f793de205ead5ac302c4a1627829dea41f176b1068b993a32373fc869918374b|SEMANA_56</th>\n",
       "      <td>17</td>\n",
       "      <td>318</td>\n",
       "      <td>1</td>\n",
       "      <td>24</td>\n",
       "      <td>414</td>\n",
       "      <td>SEMANA_56</td>\n",
       "      <td>-1</td>\n",
       "      <td>2022-06-06</td>\n",
       "      <td>2022-06-12</td>\n",
       "      <td>6</td>\n",
       "      <td>6</td>\n",
       "      <td>2022</td>\n",
       "      <td>6</td>\n",
       "      <td>12</td>\n",
       "      <td>2022</td>\n",
       "      <td>202256</td>\n",
       "    </tr>\n",
       "    <tr>\n",
       "      <th>ddf2b5328dafe4a5863dc2463578ea789284d9519431204bcd0ab3cb17ac426d|ac45b56f385a5564f090e7afd47d721d3a491796bd3a1230f7c8caa84c5fbc5c|f793de205ead5ac302c4a1627829dea41f176b1068b993a32373fc869918374b|SEMANA_57</th>\n",
       "      <td>17</td>\n",
       "      <td>318</td>\n",
       "      <td>1</td>\n",
       "      <td>24</td>\n",
       "      <td>414</td>\n",
       "      <td>SEMANA_57</td>\n",
       "      <td>-1</td>\n",
       "      <td>2022-06-13</td>\n",
       "      <td>2022-06-19</td>\n",
       "      <td>6</td>\n",
       "      <td>13</td>\n",
       "      <td>2022</td>\n",
       "      <td>6</td>\n",
       "      <td>19</td>\n",
       "      <td>2022</td>\n",
       "      <td>202257</td>\n",
       "    </tr>\n",
       "    <tr>\n",
       "      <th>ddf2b5328dafe4a5863dc2463578ea789284d9519431204bcd0ab3cb17ac426d|ac45b56f385a5564f090e7afd47d721d3a491796bd3a1230f7c8caa84c5fbc5c|f793de205ead5ac302c4a1627829dea41f176b1068b993a32373fc869918374b|SEMANA_58</th>\n",
       "      <td>17</td>\n",
       "      <td>318</td>\n",
       "      <td>1</td>\n",
       "      <td>24</td>\n",
       "      <td>414</td>\n",
       "      <td>SEMANA_58</td>\n",
       "      <td>-1</td>\n",
       "      <td>2022-06-20</td>\n",
       "      <td>2022-06-26</td>\n",
       "      <td>6</td>\n",
       "      <td>20</td>\n",
       "      <td>2022</td>\n",
       "      <td>6</td>\n",
       "      <td>26</td>\n",
       "      <td>2022</td>\n",
       "      <td>202258</td>\n",
       "    </tr>\n",
       "    <tr>\n",
       "      <th>ddf2b5328dafe4a5863dc2463578ea789284d9519431204bcd0ab3cb17ac426d|ac45b56f385a5564f090e7afd47d721d3a491796bd3a1230f7c8caa84c5fbc5c|f793de205ead5ac302c4a1627829dea41f176b1068b993a32373fc869918374b|SEMANA_59</th>\n",
       "      <td>17</td>\n",
       "      <td>318</td>\n",
       "      <td>1</td>\n",
       "      <td>24</td>\n",
       "      <td>414</td>\n",
       "      <td>SEMANA_59</td>\n",
       "      <td>-1</td>\n",
       "      <td>2022-06-27</td>\n",
       "      <td>2022-07-03</td>\n",
       "      <td>6</td>\n",
       "      <td>27</td>\n",
       "      <td>2022</td>\n",
       "      <td>7</td>\n",
       "      <td>3</td>\n",
       "      <td>2022</td>\n",
       "      <td>202259</td>\n",
       "    </tr>\n",
       "    <tr>\n",
       "      <th>ddf2b5328dafe4a5863dc2463578ea789284d9519431204bcd0ab3cb17ac426d|ac45b56f385a5564f090e7afd47d721d3a491796bd3a1230f7c8caa84c5fbc5c|f793de205ead5ac302c4a1627829dea41f176b1068b993a32373fc869918374b|SEMANA_60</th>\n",
       "      <td>17</td>\n",
       "      <td>318</td>\n",
       "      <td>1</td>\n",
       "      <td>24</td>\n",
       "      <td>414</td>\n",
       "      <td>SEMANA_60</td>\n",
       "      <td>-1</td>\n",
       "      <td>2022-07-04</td>\n",
       "      <td>2022-07-10</td>\n",
       "      <td>7</td>\n",
       "      <td>4</td>\n",
       "      <td>2022</td>\n",
       "      <td>7</td>\n",
       "      <td>10</td>\n",
       "      <td>2022</td>\n",
       "      <td>202260</td>\n",
       "    </tr>\n",
       "  </tbody>\n",
       "</table>\n",
       "<p>2830380 rows × 16 columns</p>\n",
       "</div>"
      ],
      "text/plain": [
       "                                                   Z_MARCA Z_MODELO Z_GAMA  \\\n",
       "ID                                                                           \n",
       "1161c077d04c02902341ddd6f20f322d6fdaac2619ecf10...       1        1      1   \n",
       "1161c077d04c02902341ddd6f20f322d6fdaac2619ecf10...       1        1      1   \n",
       "1161c077d04c02902341ddd6f20f322d6fdaac2619ecf10...       1        1      1   \n",
       "1161c077d04c02902341ddd6f20f322d6fdaac2619ecf10...       1        1      1   \n",
       "1161c077d04c02902341ddd6f20f322d6fdaac2619ecf10...       1        1      1   \n",
       "...                                                    ...      ...    ...   \n",
       "ddf2b5328dafe4a5863dc2463578ea789284d9519431204...      17      318      1   \n",
       "ddf2b5328dafe4a5863dc2463578ea789284d9519431204...      17      318      1   \n",
       "ddf2b5328dafe4a5863dc2463578ea789284d9519431204...      17      318      1   \n",
       "ddf2b5328dafe4a5863dc2463578ea789284d9519431204...      17      318      1   \n",
       "ddf2b5328dafe4a5863dc2463578ea789284d9519431204...      17      318      1   \n",
       "\n",
       "                                                   Z_DEPARTAMENTO  \\\n",
       "ID                                                                  \n",
       "1161c077d04c02902341ddd6f20f322d6fdaac2619ecf10...              1   \n",
       "1161c077d04c02902341ddd6f20f322d6fdaac2619ecf10...              1   \n",
       "1161c077d04c02902341ddd6f20f322d6fdaac2619ecf10...              1   \n",
       "1161c077d04c02902341ddd6f20f322d6fdaac2619ecf10...              1   \n",
       "1161c077d04c02902341ddd6f20f322d6fdaac2619ecf10...              1   \n",
       "...                                                           ...   \n",
       "ddf2b5328dafe4a5863dc2463578ea789284d9519431204...             24   \n",
       "ddf2b5328dafe4a5863dc2463578ea789284d9519431204...             24   \n",
       "ddf2b5328dafe4a5863dc2463578ea789284d9519431204...             24   \n",
       "ddf2b5328dafe4a5863dc2463578ea789284d9519431204...             24   \n",
       "ddf2b5328dafe4a5863dc2463578ea789284d9519431204...             24   \n",
       "\n",
       "                                                   Z_PUNTO_VENTA  SEMANA_XX  \\\n",
       "ID                                                                            \n",
       "1161c077d04c02902341ddd6f20f322d6fdaac2619ecf10...             1  SEMANA_01   \n",
       "1161c077d04c02902341ddd6f20f322d6fdaac2619ecf10...             1  SEMANA_02   \n",
       "1161c077d04c02902341ddd6f20f322d6fdaac2619ecf10...             1  SEMANA_03   \n",
       "1161c077d04c02902341ddd6f20f322d6fdaac2619ecf10...             1  SEMANA_04   \n",
       "1161c077d04c02902341ddd6f20f322d6fdaac2619ecf10...             1  SEMANA_05   \n",
       "...                                                          ...        ...   \n",
       "ddf2b5328dafe4a5863dc2463578ea789284d9519431204...           414  SEMANA_56   \n",
       "ddf2b5328dafe4a5863dc2463578ea789284d9519431204...           414  SEMANA_57   \n",
       "ddf2b5328dafe4a5863dc2463578ea789284d9519431204...           414  SEMANA_58   \n",
       "ddf2b5328dafe4a5863dc2463578ea789284d9519431204...           414  SEMANA_59   \n",
       "ddf2b5328dafe4a5863dc2463578ea789284d9519431204...           414  SEMANA_60   \n",
       "\n",
       "                                                    TARGET FECHA_INICIO  \\\n",
       "ID                                                                        \n",
       "1161c077d04c02902341ddd6f20f322d6fdaac2619ecf10...       0   2021-05-17   \n",
       "1161c077d04c02902341ddd6f20f322d6fdaac2619ecf10...       0   2021-05-24   \n",
       "1161c077d04c02902341ddd6f20f322d6fdaac2619ecf10...       0   2021-05-31   \n",
       "1161c077d04c02902341ddd6f20f322d6fdaac2619ecf10...       0   2021-06-07   \n",
       "1161c077d04c02902341ddd6f20f322d6fdaac2619ecf10...       0   2021-06-14   \n",
       "...                                                    ...          ...   \n",
       "ddf2b5328dafe4a5863dc2463578ea789284d9519431204...      -1   2022-06-06   \n",
       "ddf2b5328dafe4a5863dc2463578ea789284d9519431204...      -1   2022-06-13   \n",
       "ddf2b5328dafe4a5863dc2463578ea789284d9519431204...      -1   2022-06-20   \n",
       "ddf2b5328dafe4a5863dc2463578ea789284d9519431204...      -1   2022-06-27   \n",
       "ddf2b5328dafe4a5863dc2463578ea789284d9519431204...      -1   2022-07-04   \n",
       "\n",
       "                                                    FECHA_FIN  MES_INICIO  \\\n",
       "ID                                                                          \n",
       "1161c077d04c02902341ddd6f20f322d6fdaac2619ecf10... 2021-05-23           5   \n",
       "1161c077d04c02902341ddd6f20f322d6fdaac2619ecf10... 2021-05-30           5   \n",
       "1161c077d04c02902341ddd6f20f322d6fdaac2619ecf10... 2021-06-06           5   \n",
       "1161c077d04c02902341ddd6f20f322d6fdaac2619ecf10... 2021-06-13           6   \n",
       "1161c077d04c02902341ddd6f20f322d6fdaac2619ecf10... 2021-06-20           6   \n",
       "...                                                       ...         ...   \n",
       "ddf2b5328dafe4a5863dc2463578ea789284d9519431204... 2022-06-12           6   \n",
       "ddf2b5328dafe4a5863dc2463578ea789284d9519431204... 2022-06-19           6   \n",
       "ddf2b5328dafe4a5863dc2463578ea789284d9519431204... 2022-06-26           6   \n",
       "ddf2b5328dafe4a5863dc2463578ea789284d9519431204... 2022-07-03           6   \n",
       "ddf2b5328dafe4a5863dc2463578ea789284d9519431204... 2022-07-10           7   \n",
       "\n",
       "                                                    DIA_INICIO  ANNIO_INICIO  \\\n",
       "ID                                                                             \n",
       "1161c077d04c02902341ddd6f20f322d6fdaac2619ecf10...          17          2021   \n",
       "1161c077d04c02902341ddd6f20f322d6fdaac2619ecf10...          24          2021   \n",
       "1161c077d04c02902341ddd6f20f322d6fdaac2619ecf10...          31          2021   \n",
       "1161c077d04c02902341ddd6f20f322d6fdaac2619ecf10...           7          2021   \n",
       "1161c077d04c02902341ddd6f20f322d6fdaac2619ecf10...          14          2021   \n",
       "...                                                        ...           ...   \n",
       "ddf2b5328dafe4a5863dc2463578ea789284d9519431204...           6          2022   \n",
       "ddf2b5328dafe4a5863dc2463578ea789284d9519431204...          13          2022   \n",
       "ddf2b5328dafe4a5863dc2463578ea789284d9519431204...          20          2022   \n",
       "ddf2b5328dafe4a5863dc2463578ea789284d9519431204...          27          2022   \n",
       "ddf2b5328dafe4a5863dc2463578ea789284d9519431204...           4          2022   \n",
       "\n",
       "                                                    MES_FIN  DIA_FIN  \\\n",
       "ID                                                                     \n",
       "1161c077d04c02902341ddd6f20f322d6fdaac2619ecf10...        5       23   \n",
       "1161c077d04c02902341ddd6f20f322d6fdaac2619ecf10...        5       30   \n",
       "1161c077d04c02902341ddd6f20f322d6fdaac2619ecf10...        6        6   \n",
       "1161c077d04c02902341ddd6f20f322d6fdaac2619ecf10...        6       13   \n",
       "1161c077d04c02902341ddd6f20f322d6fdaac2619ecf10...        6       20   \n",
       "...                                                     ...      ...   \n",
       "ddf2b5328dafe4a5863dc2463578ea789284d9519431204...        6       12   \n",
       "ddf2b5328dafe4a5863dc2463578ea789284d9519431204...        6       19   \n",
       "ddf2b5328dafe4a5863dc2463578ea789284d9519431204...        6       26   \n",
       "ddf2b5328dafe4a5863dc2463578ea789284d9519431204...        7        3   \n",
       "ddf2b5328dafe4a5863dc2463578ea789284d9519431204...        7       10   \n",
       "\n",
       "                                                    ANNIO_FIN  \\\n",
       "ID                                                              \n",
       "1161c077d04c02902341ddd6f20f322d6fdaac2619ecf10...       2021   \n",
       "1161c077d04c02902341ddd6f20f322d6fdaac2619ecf10...       2021   \n",
       "1161c077d04c02902341ddd6f20f322d6fdaac2619ecf10...       2021   \n",
       "1161c077d04c02902341ddd6f20f322d6fdaac2619ecf10...       2021   \n",
       "1161c077d04c02902341ddd6f20f322d6fdaac2619ecf10...       2021   \n",
       "...                                                       ...   \n",
       "ddf2b5328dafe4a5863dc2463578ea789284d9519431204...       2022   \n",
       "ddf2b5328dafe4a5863dc2463578ea789284d9519431204...       2022   \n",
       "ddf2b5328dafe4a5863dc2463578ea789284d9519431204...       2022   \n",
       "ddf2b5328dafe4a5863dc2463578ea789284d9519431204...       2022   \n",
       "ddf2b5328dafe4a5863dc2463578ea789284d9519431204...       2022   \n",
       "\n",
       "                                                    ANNIO_SEMANA_FIN  \n",
       "ID                                                                    \n",
       "1161c077d04c02902341ddd6f20f322d6fdaac2619ecf10...            202101  \n",
       "1161c077d04c02902341ddd6f20f322d6fdaac2619ecf10...            202102  \n",
       "1161c077d04c02902341ddd6f20f322d6fdaac2619ecf10...            202103  \n",
       "1161c077d04c02902341ddd6f20f322d6fdaac2619ecf10...            202104  \n",
       "1161c077d04c02902341ddd6f20f322d6fdaac2619ecf10...            202105  \n",
       "...                                                              ...  \n",
       "ddf2b5328dafe4a5863dc2463578ea789284d9519431204...            202256  \n",
       "ddf2b5328dafe4a5863dc2463578ea789284d9519431204...            202257  \n",
       "ddf2b5328dafe4a5863dc2463578ea789284d9519431204...            202258  \n",
       "ddf2b5328dafe4a5863dc2463578ea789284d9519431204...            202259  \n",
       "ddf2b5328dafe4a5863dc2463578ea789284d9519431204...            202260  \n",
       "\n",
       "[2830380 rows x 16 columns]"
      ]
     },
     "execution_count": 162,
     "metadata": {},
     "output_type": "execute_result"
    }
   ],
   "source": [
    "demanda['MES_INICIO'] = demanda['FECHA_INICIO'].apply(lambda x: x.month).astype('int32')\n",
    "demanda['DIA_INICIO'] = demanda['FECHA_INICIO'].apply(lambda x: x.day).astype('int32')\n",
    "demanda['ANNIO_INICIO'] = demanda['FECHA_INICIO'].apply(lambda x: x.year).astype('int32')\n",
    "demanda['MES_FIN'] = demanda['FECHA_FIN'].apply(lambda x: x.month).astype('int32')\n",
    "demanda['DIA_FIN'] = demanda['FECHA_FIN'].apply(lambda x: x.day).astype('int32')\n",
    "demanda['ANNIO_FIN'] = demanda['FECHA_FIN'].apply(lambda x: x.year).astype('int32')\n",
    "demanda['ANNIO_SEMANA_FIN'] = (demanda['FECHA_FIN'].astype(str).str[:4] + demanda['SEMANA_XX'].str[-2:]).astype('int32')\n",
    "demanda"
   ]
  },
  {
   "cell_type": "code",
   "execution_count": 163,
   "metadata": {},
   "outputs": [],
   "source": [
    "demanda_train = demanda[demanda['TARGET']>=0].copy()"
   ]
  },
  {
   "cell_type": "code",
   "execution_count": 164,
   "metadata": {},
   "outputs": [],
   "source": [
    "### \n",
    "mean_encoding_modelo = demanda_train.groupby('Z_MODELO').TARGET.mean().to_dict()\n",
    "mean_encoding_ptoventa = demanda_train.groupby('Z_PUNTO_VENTA').TARGET.mean().to_dict()\n",
    "mean_encoding_marca = demanda_train.groupby('Z_MARCA').TARGET.mean().to_dict()\n",
    "mean_encoding_gama = demanda_train.groupby('Z_GAMA').TARGET.mean().to_dict()\n",
    "\n",
    "###\n",
    "std_encoding_modelo = demanda_train.groupby('Z_MODELO').TARGET.std().to_dict()\n",
    "std_encoding_ptoventa = demanda_train.groupby('Z_PUNTO_VENTA').TARGET.std().to_dict()\n",
    "std_encoding_marca = demanda_train.groupby('Z_MARCA').TARGET.std().to_dict()\n",
    "std_encoding_gama = demanda_train.groupby('Z_GAMA').TARGET.std().to_dict()\n",
    "\n",
    "###\n",
    "max_encoding_modelo = demanda_train.groupby('Z_MODELO').TARGET.max().to_dict()\n",
    "max_encoding_ptoventa = demanda_train.groupby('Z_PUNTO_VENTA').TARGET.max().to_dict()\n",
    "max_encoding_marca = demanda_train.groupby('Z_MARCA').TARGET.max().to_dict()\n",
    "max_encoding_gama = demanda_train.groupby('Z_GAMA').TARGET.max().to_dict()\n",
    "\n",
    "###\n",
    "sum_encoding_modelo = demanda_train.groupby('Z_MODELO').TARGET.sum().to_dict()\n",
    "sum_encoding_ptoventa = demanda_train.groupby('Z_PUNTO_VENTA').TARGET.sum().to_dict()\n",
    "sum_encoding_marca = demanda_train.groupby('Z_MARCA').TARGET.sum().to_dict()\n",
    "sum_encoding_gama = demanda_train.groupby('Z_GAMA').TARGET.sum().to_dict()"
   ]
  },
  {
   "cell_type": "code",
   "execution_count": 165,
   "metadata": {
    "tags": []
   },
   "outputs": [],
   "source": [
    "#####\n",
    "demanda['MODELO_mean_ENC'] = demanda['Z_MODELO'].map(mean_encoding_modelo)\n",
    "demanda['PTOVENTA_mean_ENC'] = demanda['Z_PUNTO_VENTA'].map(mean_encoding_ptoventa)\n",
    "demanda['MARCA_mean_ENC'] = demanda['Z_MARCA'].map(mean_encoding_marca)\n",
    "demanda['GAMA_mean_ENC'] = demanda['Z_GAMA'].map(mean_encoding_gama)\n",
    "\n",
    "#####\n",
    "demanda['MODELO_std_ENC'] = demanda['Z_MODELO'].map(std_encoding_modelo)\n",
    "demanda['PTOVENTA_std_ENC'] = demanda['Z_PUNTO_VENTA'].map(std_encoding_ptoventa)\n",
    "demanda['MARCA_std_ENC'] = demanda['Z_MARCA'].map(std_encoding_marca)\n",
    "demanda['GAMA_std_ENC'] = demanda['Z_GAMA'].map(std_encoding_gama)\n",
    "\n",
    "#####\n",
    "demanda['MODELO_max_ENC'] = demanda['Z_MODELO'].map(max_encoding_modelo)\n",
    "demanda['PTOVENTA_max_ENC'] = demanda['Z_PUNTO_VENTA'].map(max_encoding_ptoventa)\n",
    "demanda['MARCA_max_ENC'] = demanda['Z_MARCA'].map(max_encoding_marca)\n",
    "demanda['GAMA_max_ENC'] = demanda['Z_GAMA'].map(max_encoding_gama)\n",
    "\n",
    "#####\n",
    "demanda['MODELO_sum_ENC'] = demanda['Z_MODELO'].map(sum_encoding_modelo)\n",
    "demanda['PTOVENTA_sum_ENC'] = demanda['Z_PUNTO_VENTA'].map(sum_encoding_ptoventa)\n",
    "demanda['MARCA_sum_ENC'] = demanda['Z_MARCA'].map(sum_encoding_marca)\n",
    "demanda['GAMA_sum_ENC'] = demanda['Z_GAMA'].map(sum_encoding_gama)"
   ]
  },
  {
   "cell_type": "code",
   "execution_count": 166,
   "metadata": {},
   "outputs": [],
   "source": [
    "demanda['PORC_MODELO_mean_max_ENC'] = demanda['MODELO_mean_ENC']/demanda['MODELO_max_ENC'] \n",
    "demanda['PORC_PTOVENTA_mean_max_ENC'] = demanda['PTOVENTA_mean_ENC']/demanda['PTOVENTA_max_ENC'] \n",
    "demanda['PORC_MARCA_mean_max_ENC'] = demanda['MARCA_mean_ENC']/demanda['MARCA_max_ENC']\n",
    "demanda['PORC_GAMA_mean_max_ENC'] = demanda['GAMA_mean_ENC']/demanda['GAMA_max_ENC'] "
   ]
  },
  {
   "cell_type": "code",
   "execution_count": 167,
   "metadata": {},
   "outputs": [],
   "source": [
    "# demanda.drop(['PORC_MODELO_sum_mean_ENC',\n",
    "#        'PORC_PTOVENTA_sum_mean_ENC', 'PORC_MARCA_sum_mean_ENC',\n",
    "#        'PORC_GAMA_sum_mean_ENC'], axis=1, inplace=True)\n",
    "# demanda.shape\n",
    "# demanda.drop(['PORC_MODELO_max_sum_ENC',\n",
    "#        'PORC_PTOVENTA_max_sum_ENC', 'PORC_MARCA_max_sum_ENC',\n",
    "#        'PORC_GAMA_max_sum_ENC'], axis=1, inplace=True)\n",
    "# demanda.shape"
   ]
  },
  {
   "cell_type": "code",
   "execution_count": 168,
   "metadata": {},
   "outputs": [],
   "source": [
    "# demanda['PORC_MODELO_max_std_ENC'] = demanda['MODELO_max_ENC']/demanda['MODELO_std_ENC'] \n",
    "# demanda['PORC_PTOVENTA_max_std_ENC'] = demanda['PTOVENTA_max_ENC']/demanda['PTOVENTA_std_ENC'] \n",
    "# demanda['PORC_MARCA_max_std_ENC'] = demanda['MARCA_max_ENC']/demanda['MARCA_std_ENC']\n",
    "# demanda['PORC_GAMA_max_std_ENC'] = demanda['GAMA_max_ENC']/demanda['GAMA_std_ENC'] "
   ]
  },
  {
   "cell_type": "code",
   "execution_count": 169,
   "metadata": {},
   "outputs": [],
   "source": [
    "# def get_one_hot(df, feature):\n",
    "#     one_hot = pd.get_dummies(df[feature])\n",
    "#     one_hot.columns = [feature+'_'+str(i) for i in one_hot.columns]\n",
    "#     return one_hot\n",
    "# one_hot_departamento = get_one_hot(demanda, 'Z_DEPARTAMENTO')\n",
    "# demanda = pd.concat([demanda, one_hot_departamento], axis=1)"
   ]
  },
  {
   "cell_type": "code",
   "execution_count": 170,
   "metadata": {},
   "outputs": [],
   "source": [
    "# demanda.drop(['MODELO_sum_ENC','PTOVENTA_sum_ENC','MARCA_sum_ENC','GAMA_sum_ENC'], axis=1, inplace=True)"
   ]
  },
  {
   "cell_type": "code",
   "execution_count": 171,
   "metadata": {
    "tags": []
   },
   "outputs": [
    {
     "data": {
      "text/plain": [
       "Index(['SEMANA_XX', 'TARGET', 'MES_INICIO', 'DIA_INICIO', 'ANNIO_INICIO',\n",
       "       'MES_FIN', 'DIA_FIN', 'ANNIO_FIN', 'ANNIO_SEMANA_FIN',\n",
       "       'MODELO_mean_ENC', 'PTOVENTA_mean_ENC', 'MARCA_mean_ENC',\n",
       "       'GAMA_mean_ENC', 'MODELO_std_ENC', 'PTOVENTA_std_ENC', 'MARCA_std_ENC',\n",
       "       'GAMA_std_ENC', 'MODELO_max_ENC', 'PTOVENTA_max_ENC', 'MARCA_max_ENC',\n",
       "       'GAMA_max_ENC', 'MODELO_sum_ENC', 'PTOVENTA_sum_ENC', 'MARCA_sum_ENC',\n",
       "       'GAMA_sum_ENC', 'PORC_MODELO_mean_max_ENC',\n",
       "       'PORC_PTOVENTA_mean_max_ENC', 'PORC_MARCA_mean_max_ENC',\n",
       "       'PORC_GAMA_mean_max_ENC'],\n",
       "      dtype='object')"
      ]
     },
     "execution_count": 171,
     "metadata": {},
     "output_type": "execute_result"
    }
   ],
   "source": [
    "### Drop Columns\n",
    "demanda2 = demanda.copy()\n",
    "drop_columns =['Z_MARCA','Z_GAMA','Z_MODELO','Z_PUNTO_VENTA','Z_DEPARTAMENTO',\n",
    "              'FECHA_INICIO','FECHA_FIN']\n",
    "demanda2.drop(drop_columns, axis=1, inplace=True)\n",
    "demanda2.columns"
   ]
  },
  {
   "cell_type": "code",
   "execution_count": 172,
   "metadata": {},
   "outputs": [
    {
     "data": {
      "text/plain": [
       "SEMANA_XX                         0\n",
       "TARGET                            0\n",
       "MES_INICIO                        0\n",
       "DIA_INICIO                        0\n",
       "ANNIO_INICIO                      0\n",
       "MES_FIN                           0\n",
       "DIA_FIN                           0\n",
       "ANNIO_FIN                         0\n",
       "ANNIO_SEMANA_FIN                  0\n",
       "MODELO_mean_ENC                   0\n",
       "PTOVENTA_mean_ENC                 0\n",
       "MARCA_mean_ENC                    0\n",
       "GAMA_mean_ENC                     0\n",
       "MODELO_std_ENC                    0\n",
       "PTOVENTA_std_ENC                  0\n",
       "MARCA_std_ENC                     0\n",
       "GAMA_std_ENC                      0\n",
       "MODELO_max_ENC                    0\n",
       "PTOVENTA_max_ENC                  0\n",
       "MARCA_max_ENC                     0\n",
       "GAMA_max_ENC                      0\n",
       "MODELO_sum_ENC                    0\n",
       "PTOVENTA_sum_ENC                  0\n",
       "MARCA_sum_ENC                     0\n",
       "GAMA_sum_ENC                      0\n",
       "PORC_MODELO_mean_max_ENC      95460\n",
       "PORC_PTOVENTA_mean_max_ENC     5040\n",
       "PORC_MARCA_mean_max_ENC           0\n",
       "PORC_GAMA_mean_max_ENC            0\n",
       "dtype: int64"
      ]
     },
     "execution_count": 172,
     "metadata": {},
     "output_type": "execute_result"
    }
   ],
   "source": [
    "demanda2.isna().sum()"
   ]
  },
  {
   "cell_type": "markdown",
   "metadata": {
    "tags": []
   },
   "source": [
    "## ENTRENAMIENTO "
   ]
  },
  {
   "cell_type": "code",
   "execution_count": 173,
   "metadata": {},
   "outputs": [],
   "source": [
    "demanda2['SEMANA_XX'] = demanda2['SEMANA_XX'].astype(str).str[-2:].astype('int32')"
   ]
  },
  {
   "cell_type": "code",
   "execution_count": 174,
   "metadata": {},
   "outputs": [
    {
     "data": {
      "text/plain": [
       "((2358650, 29), (471730, 29), (2358650, 1))"
      ]
     },
     "execution_count": 174,
     "metadata": {},
     "output_type": "execute_result"
    }
   ],
   "source": [
    "y_train = demanda2[demanda2['TARGET']>=0][['TARGET']].copy()\n",
    "train = demanda2[demanda2['TARGET']>=0].copy()\n",
    "test = demanda2[demanda2['TARGET']<0].copy()\n",
    "train.shape, test.shape, y_train.shape"
   ]
  },
  {
   "cell_type": "code",
   "execution_count": 175,
   "metadata": {},
   "outputs": [
    {
     "data": {
      "text/plain": [
       "SEMANA_XX                         0\n",
       "TARGET                            0\n",
       "MES_INICIO                        0\n",
       "DIA_INICIO                        0\n",
       "ANNIO_INICIO                      0\n",
       "MES_FIN                           0\n",
       "DIA_FIN                           0\n",
       "ANNIO_FIN                         0\n",
       "ANNIO_SEMANA_FIN                  0\n",
       "MODELO_mean_ENC                   0\n",
       "PTOVENTA_mean_ENC                 0\n",
       "MARCA_mean_ENC                    0\n",
       "GAMA_mean_ENC                     0\n",
       "MODELO_std_ENC                    0\n",
       "PTOVENTA_std_ENC                  0\n",
       "MARCA_std_ENC                     0\n",
       "GAMA_std_ENC                      0\n",
       "MODELO_max_ENC                    0\n",
       "PTOVENTA_max_ENC                  0\n",
       "MARCA_max_ENC                     0\n",
       "GAMA_max_ENC                      0\n",
       "MODELO_sum_ENC                    0\n",
       "PTOVENTA_sum_ENC                  0\n",
       "MARCA_sum_ENC                     0\n",
       "GAMA_sum_ENC                      0\n",
       "PORC_MODELO_mean_max_ENC      79550\n",
       "PORC_PTOVENTA_mean_max_ENC     4200\n",
       "PORC_MARCA_mean_max_ENC           0\n",
       "PORC_GAMA_mean_max_ENC            0\n",
       "dtype: int64"
      ]
     },
     "execution_count": 175,
     "metadata": {},
     "output_type": "execute_result"
    }
   ],
   "source": [
    "train.isna().sum()"
   ]
  },
  {
   "cell_type": "code",
   "execution_count": 176,
   "metadata": {},
   "outputs": [
    {
     "data": {
      "text/plain": [
       "(5, 471730)"
      ]
     },
     "execution_count": 176,
     "metadata": {},
     "output_type": "execute_result"
    }
   ],
   "source": [
    "folds = []\n",
    "folds.append(list(train[(train['SEMANA_XX']>=1) & (train['SEMANA_XX']<=10)].index))\n",
    "folds.append(list(train[(train['SEMANA_XX']>=11) & (train['SEMANA_XX']<=20)].index))\n",
    "folds.append(list(train[(train['SEMANA_XX']>=21) & (train['SEMANA_XX']<=30)].index))\n",
    "folds.append(list(train[(train['SEMANA_XX']>=31) & (train['SEMANA_XX']<=40)].index))\n",
    "folds.append(list(train[(train['SEMANA_XX']>=41) & (train['SEMANA_XX']<=50)].index))\n",
    "len(folds), len(folds[0])"
   ]
  },
  {
   "cell_type": "code",
   "execution_count": 177,
   "metadata": {},
   "outputs": [],
   "source": [
    "np.save('../data/folds.npy', folds)"
   ]
  },
  {
   "cell_type": "code",
   "execution_count": 178,
   "metadata": {},
   "outputs": [
    {
     "data": {
      "text/plain": [
       "((2358650, 27), (471730, 27))"
      ]
     },
     "execution_count": 178,
     "metadata": {},
     "output_type": "execute_result"
    }
   ],
   "source": [
    "train.drop(['SEMANA_XX', 'TARGET'], axis=1, inplace=True)\n",
    "test.drop(['SEMANA_XX', 'TARGET'], axis=1, inplace=True)\n",
    "train.shape, test.shape"
   ]
  },
  {
   "cell_type": "code",
   "execution_count": 179,
   "metadata": {},
   "outputs": [],
   "source": [
    "demanda2.to_pickle('../data/preprocessed/demanda2.pkl')\n",
    "train.to_pickle('../data/preprocessed/train.pkl')\n",
    "test.to_pickle('../data/preprocessed/test.pkl')\n",
    "y_train.to_pickle('../data/preprocessed/y_train.pkl')"
   ]
  },
  {
   "cell_type": "markdown",
   "metadata": {
    "tags": []
   },
   "source": [
    "## CATBOOST"
   ]
  },
  {
   "cell_type": "code",
   "execution_count": 208,
   "metadata": {
    "scrolled": true,
    "tags": []
   },
   "outputs": [
    {
     "name": "stdout",
     "output_type": "stream",
     "text": [
      "{'learning_rate': 0.2, 'max_depth': 10}\n",
      "********** 0 **********\n",
      "0:\tlearn: 5.1524069\ttest: 5.1524069\ttest1: 6.7117720\tbest: 6.7117720 (0)\ttotal: 750ms\tremaining: 12m 29s\n",
      "Stopped by overfitting detector  (10 iterations wait)\n",
      "\n",
      "bestTest = 4.689349272\n",
      "bestIteration = 39\n",
      "\n",
      "Shrink model to first 40 iterations.\n",
      "********** 1 **********\n",
      "0:\tlearn: 5.5626704\ttest: 5.5626704\ttest1: 5.0114898\tbest: 5.0114898 (0)\ttotal: 775ms\tremaining: 12m 54s\n",
      "Stopped by overfitting detector  (10 iterations wait)\n",
      "\n",
      "bestTest = 3.595264662\n",
      "bestIteration = 9\n",
      "\n",
      "Shrink model to first 10 iterations.\n",
      "********** 2 **********\n",
      "0:\tlearn: 5.3035901\ttest: 5.3035901\ttest1: 6.0705929\tbest: 6.0705929 (0)\ttotal: 724ms\tremaining: 12m 3s\n",
      "100:\tlearn: 2.0555261\ttest: 2.0555261\ttest1: 3.8521622\tbest: 3.8487993 (94)\ttotal: 1m 13s\tremaining: 10m 54s\n",
      "Stopped by overfitting detector  (10 iterations wait)\n",
      "\n",
      "bestTest = 3.848799299\n",
      "bestIteration = 94\n",
      "\n",
      "Shrink model to first 95 iterations.\n",
      "********** 3 **********\n",
      "0:\tlearn: 5.4263624\ttest: 5.4263624\ttest1: 5.6361482\tbest: 5.6361482 (0)\ttotal: 751ms\tremaining: 12m 30s\n",
      "100:\tlearn: 2.1148962\ttest: 2.1148962\ttest1: 3.6298833\tbest: 3.6288128 (90)\ttotal: 1m 14s\tremaining: 11m 2s\n",
      "Stopped by overfitting detector  (10 iterations wait)\n",
      "\n",
      "bestTest = 3.628812803\n",
      "bestIteration = 90\n",
      "\n",
      "Shrink model to first 91 iterations.\n",
      "********** 4 **********\n",
      "0:\tlearn: 5.6814885\ttest: 5.6814885\ttest1: 4.1526416\tbest: 4.1526416 (0)\ttotal: 797ms\tremaining: 13m 16s\n",
      "Stopped by overfitting detector  (10 iterations wait)\n",
      "\n",
      "bestTest = 3.720120175\n",
      "bestIteration = 4\n",
      "\n",
      "Shrink model to first 5 iterations.\n",
      "SCORE RMSE:  3.9162724175449206\n"
     ]
    }
   ],
   "source": [
    "from sklearn.metrics import mean_squared_error\n",
    "from catboost import CatBoostRegressor\n",
    "from sklearn.model_selection import ParameterGrid\n",
    "params = ParameterGrid({\"max_depth\":[10], \"learning_rate\":[0.2], 'loss_function':['RMSE']})\n",
    "for param in params:\n",
    "    print(param)\n",
    "    fi = []\n",
    "    test_probs = []\n",
    "    train_probs = []\n",
    "    for i, idx in enumerate(folds):\n",
    "        print(\"*\"*10, i, \"*\"*10)\n",
    "        Xt = train.drop(idx)\n",
    "        yt = y_train.loc[Xt.index].TARGET\n",
    "\n",
    "        Xv = train.loc[idx]\n",
    "        yv = y_train.loc[Xv.index].TARGET\n",
    "\n",
    "        learner = CatBoostRegressor(**param, n_estimators=1000, eval_metric = 'RMSE', random_state=42)\n",
    "        # learner = CatBoostRegressor(max_depth=9, n_estimators=1000,  eval_metric = 'RMSE', random_state=42, )\n",
    "        # learner = CatBoostRegressor(n_estimators=1000, eval_metric = 'RMSE', random_state=42, )\n",
    "\n",
    "        learner.fit(Xt, yt,  early_stopping_rounds=10, \n",
    "                    eval_set=[(Xt, yt), (Xv, yv)], verbose=100)\n",
    "\n",
    "        test_probs.append(pd.Series(learner.predict(test), index=test.index, name=\"fold_\" + str(i)))\n",
    "        train_probs.append(pd.Series(learner.predict(Xv), index=Xv.index, name=\"probs\"))\n",
    "        fi.append(pd.Series(learner.feature_importances_ / learner.feature_importances_.sum(), index=Xt.columns))\n",
    "\n",
    "    test_probs = pd.concat(test_probs, axis=1).mean(axis=1)\n",
    "    test_probs = test_probs.apply(lambda x: 0 if x<0 else x)\n",
    "\n",
    "    train_probs = pd.concat(train_probs)\n",
    "    train_probs = train_probs.apply(lambda x: 0 if x<0 else x)\n",
    "\n",
    "    fi = pd.concat(fi, axis=1).mean(axis=1)\n",
    "    score = mean_squared_error(y_train.loc[train.index].TARGET, train_probs.loc[train.index], squared=False)\n",
    "\n",
    "    print('SCORE RMSE: ', score)"
   ]
  },
  {
   "cell_type": "code",
   "execution_count": 209,
   "metadata": {},
   "outputs": [],
   "source": [
    "train_probs.name='probs_cb'\n",
    "test_probs.name='probs_cb'\n",
    "train_probs.to_pickle('../data/preprocessed/catboost/train_probs.pkl')\n",
    "test_probs.to_pickle('../data/preprocessed/catboost/test_probs.pkl')\n",
    "fi.sort_values(ascending=False).to_pickle('../data/preprocessed/catboost/fi.pkl')"
   ]
  },
  {
   "cell_type": "markdown",
   "metadata": {},
   "source": [
    "#### Visualizacion de resultados"
   ]
  },
  {
   "cell_type": "code",
   "execution_count": 210,
   "metadata": {},
   "outputs": [
    {
     "data": {
      "text/plain": [
       "ANNIO_SEMANA_FIN              0.152072\n",
       "PTOVENTA_sum_ENC              0.139398\n",
       "MODELO_sum_ENC                0.134824\n",
       "PTOVENTA_max_ENC              0.080638\n",
       "MODELO_mean_ENC               0.068091\n",
       "MODELO_std_ENC                0.066142\n",
       "PORC_MODELO_mean_max_ENC      0.053515\n",
       "PTOVENTA_mean_ENC             0.051645\n",
       "MES_INICIO                    0.043034\n",
       "MODELO_max_ENC                0.040175\n",
       "PTOVENTA_std_ENC              0.038193\n",
       "GAMA_sum_ENC                  0.023728\n",
       "MES_FIN                       0.021777\n",
       "PORC_MARCA_mean_max_ENC       0.019577\n",
       "PORC_PTOVENTA_mean_max_ENC    0.012985\n",
       "GAMA_mean_ENC                 0.011892\n",
       "MARCA_max_ENC                 0.010183\n",
       "MARCA_mean_ENC                0.010029\n",
       "MARCA_std_ENC                 0.005139\n",
       "GAMA_std_ENC                  0.003839\n",
       "DIA_FIN                       0.003529\n",
       "MARCA_sum_ENC                 0.002882\n",
       "DIA_INICIO                    0.002190\n",
       "GAMA_max_ENC                  0.002183\n",
       "ANNIO_INICIO                  0.001557\n",
       "PORC_GAMA_mean_max_ENC        0.000783\n",
       "ANNIO_FIN                     0.000000\n",
       "dtype: float64"
      ]
     },
     "execution_count": 210,
     "metadata": {},
     "output_type": "execute_result"
    }
   ],
   "source": [
    "fi.sort_values(ascending=False)"
   ]
  },
  {
   "cell_type": "code",
   "execution_count": 211,
   "metadata": {},
   "outputs": [
    {
     "data": {
      "text/plain": [
       "array([0.00000000e+00, 1.27803140e-05, 3.61404979e-05, ...,\n",
       "       1.79816001e+02, 1.89409759e+02, 1.96127335e+02])"
      ]
     },
     "execution_count": 211,
     "metadata": {},
     "output_type": "execute_result"
    }
   ],
   "source": [
    "test_probs.sort_values().unique()"
   ]
  },
  {
   "cell_type": "code",
   "execution_count": 212,
   "metadata": {},
   "outputs": [
    {
     "data": {
      "image/png": "[encoded data removed]",
      "text/plain": [
       "<Figure size 432x288 with 2 Axes>"
      ]
     },
     "metadata": {
      "needs_background": "light"
     },
     "output_type": "display_data"
    }
   ],
   "source": [
    "fig, (ax1, ax2) = plt.subplots(1, 2)\n",
    "ax1.hist(test_probs, bins=100);\n",
    "ax2.hist(test_probs, bins=1000);\n",
    "plt.xlim(0,20);"
   ]
  },
  {
   "cell_type": "code",
   "execution_count": 213,
   "metadata": {},
   "outputs": [
    {
     "data": {
      "image/png": "[encoded data removed]",
      "text/plain": [
       "<Figure size 432x288 with 2 Axes>"
      ]
     },
     "metadata": {
      "needs_background": "light"
     },
     "output_type": "display_data"
    }
   ],
   "source": [
    "fig, (ax1, ax2) = plt.subplots(1, 2)\n",
    "ax1.hist(y_train, bins=100);\n",
    "ax2.hist(y_train, bins=1000);\n",
    "plt.xlim(0,20);"
   ]
  },
  {
   "cell_type": "code",
   "execution_count": 214,
   "metadata": {},
   "outputs": [
    {
     "data": {
      "text/plain": [
       "count    471730.000000\n",
       "mean          0.627157\n",
       "std           2.331713\n",
       "min           0.000000\n",
       "25%           0.167122\n",
       "50%           0.253494\n",
       "75%           0.502514\n",
       "max         196.127335\n",
       "Name: probs_cb, dtype: float64"
      ]
     },
     "execution_count": 214,
     "metadata": {},
     "output_type": "execute_result"
    }
   ],
   "source": [
    "test_probs.describe()"
   ]
  },
  {
   "cell_type": "code",
   "execution_count": 215,
   "metadata": {},
   "outputs": [],
   "source": [
    "test_probs_cb = test_probs.copy()"
   ]
  },
  {
   "cell_type": "markdown",
   "metadata": {
    "tags": []
   },
   "source": [
    "## LIGHT GBM"
   ]
  },
  {
   "cell_type": "code",
   "execution_count": 217,
   "metadata": {},
   "outputs": [
    {
     "name": "stdout",
     "output_type": "stream",
     "text": [
      "********** 0 **********\n"
     ]
    },
    {
     "name": "stderr",
     "output_type": "stream",
     "text": [
      "C:\\Users\\usuario\\anaconda3\\envs\\venv_entel2022\\lib\\site-packages\\lightgbm\\sklearn.py:726: UserWarning: 'early_stopping_rounds' argument is deprecated and will be removed in a future release of LightGBM. Pass 'early_stopping()' callback via 'callbacks' argument instead.\n",
      "  _log_warning(\"'early_stopping_rounds' argument is deprecated and will be removed in a future release of LightGBM. \"\n",
      "C:\\Users\\usuario\\anaconda3\\envs\\venv_entel2022\\lib\\site-packages\\lightgbm\\sklearn.py:736: UserWarning: 'verbose' argument is deprecated and will be removed in a future release of LightGBM. Pass 'log_evaluation()' callback via 'callbacks' argument instead.\n",
      "  _log_warning(\"'verbose' argument is deprecated and will be removed in a future release of LightGBM. \"\n"
     ]
    },
    {
     "name": "stdout",
     "output_type": "stream",
     "text": [
      "[10]\ttraining's rmse: 2.92788\ttraining's l2: 8.57248\tvalid_1's rmse: 5.31857\tvalid_1's l2: 28.2872\n",
      "[20]\ttraining's rmse: 2.4708\ttraining's l2: 6.10484\tvalid_1's rmse: 4.98737\tvalid_1's l2: 24.8738\n",
      "[30]\ttraining's rmse: 2.28156\ttraining's l2: 5.2055\tvalid_1's rmse: 4.84265\tvalid_1's l2: 23.4513\n",
      "[40]\ttraining's rmse: 2.14537\ttraining's l2: 4.60259\tvalid_1's rmse: 4.74052\tvalid_1's l2: 22.4725\n",
      "[50]\ttraining's rmse: 2.05159\ttraining's l2: 4.20901\tvalid_1's rmse: 4.67957\tvalid_1's l2: 21.8984\n",
      "[60]\ttraining's rmse: 1.97995\ttraining's l2: 3.92018\tvalid_1's rmse: 4.65851\tvalid_1's l2: 21.7017\n",
      "[70]\ttraining's rmse: 1.9187\ttraining's l2: 3.68141\tvalid_1's rmse: 4.63926\tvalid_1's l2: 21.5227\n",
      "[80]\ttraining's rmse: 1.87265\ttraining's l2: 3.50683\tvalid_1's rmse: 4.61192\tvalid_1's l2: 21.2698\n",
      "[90]\ttraining's rmse: 1.83622\ttraining's l2: 3.3717\tvalid_1's rmse: 4.61761\tvalid_1's l2: 21.3223\n",
      "********** 1 **********\n"
     ]
    },
    {
     "name": "stderr",
     "output_type": "stream",
     "text": [
      "C:\\Users\\usuario\\anaconda3\\envs\\venv_entel2022\\lib\\site-packages\\lightgbm\\sklearn.py:726: UserWarning: 'early_stopping_rounds' argument is deprecated and will be removed in a future release of LightGBM. Pass 'early_stopping()' callback via 'callbacks' argument instead.\n",
      "  _log_warning(\"'early_stopping_rounds' argument is deprecated and will be removed in a future release of LightGBM. \"\n",
      "C:\\Users\\usuario\\anaconda3\\envs\\venv_entel2022\\lib\\site-packages\\lightgbm\\sklearn.py:736: UserWarning: 'verbose' argument is deprecated and will be removed in a future release of LightGBM. Pass 'log_evaluation()' callback via 'callbacks' argument instead.\n",
      "  _log_warning(\"'verbose' argument is deprecated and will be removed in a future release of LightGBM. \"\n"
     ]
    },
    {
     "name": "stdout",
     "output_type": "stream",
     "text": [
      "[10]\ttraining's rmse: 3.25862\ttraining's l2: 10.6186\tvalid_1's rmse: 3.50845\tvalid_1's l2: 12.3092\n",
      "[20]\ttraining's rmse: 2.70737\ttraining's l2: 7.32984\tvalid_1's rmse: 3.63275\tvalid_1's l2: 13.1969\n",
      "********** 2 **********\n"
     ]
    },
    {
     "name": "stderr",
     "output_type": "stream",
     "text": [
      "C:\\Users\\usuario\\anaconda3\\envs\\venv_entel2022\\lib\\site-packages\\lightgbm\\sklearn.py:726: UserWarning: 'early_stopping_rounds' argument is deprecated and will be removed in a future release of LightGBM. Pass 'early_stopping()' callback via 'callbacks' argument instead.\n",
      "  _log_warning(\"'early_stopping_rounds' argument is deprecated and will be removed in a future release of LightGBM. \"\n",
      "C:\\Users\\usuario\\anaconda3\\envs\\venv_entel2022\\lib\\site-packages\\lightgbm\\sklearn.py:736: UserWarning: 'verbose' argument is deprecated and will be removed in a future release of LightGBM. Pass 'log_evaluation()' callback via 'callbacks' argument instead.\n",
      "  _log_warning(\"'verbose' argument is deprecated and will be removed in a future release of LightGBM. \"\n"
     ]
    },
    {
     "name": "stdout",
     "output_type": "stream",
     "text": [
      "[10]\ttraining's rmse: 3.02667\ttraining's l2: 9.16071\tvalid_1's rmse: 4.51978\tvalid_1's l2: 20.4284\n",
      "[20]\ttraining's rmse: 2.56941\ttraining's l2: 6.60185\tvalid_1's rmse: 4.31964\tvalid_1's l2: 18.6593\n",
      "[30]\ttraining's rmse: 2.35304\ttraining's l2: 5.53681\tvalid_1's rmse: 4.26168\tvalid_1's l2: 18.1619\n",
      "[40]\ttraining's rmse: 2.20952\ttraining's l2: 4.88197\tvalid_1's rmse: 4.20603\tvalid_1's l2: 17.6906\n",
      "[50]\ttraining's rmse: 2.08741\ttraining's l2: 4.3573\tvalid_1's rmse: 4.13633\tvalid_1's l2: 17.1092\n",
      "[60]\ttraining's rmse: 2.02306\ttraining's l2: 4.09278\tvalid_1's rmse: 4.12658\tvalid_1's l2: 17.0287\n",
      "[70]\ttraining's rmse: 1.95566\ttraining's l2: 3.82462\tvalid_1's rmse: 4.09601\tvalid_1's l2: 16.7773\n",
      "[80]\ttraining's rmse: 1.90362\ttraining's l2: 3.62378\tvalid_1's rmse: 4.08541\tvalid_1's l2: 16.6906\n",
      "[90]\ttraining's rmse: 1.87654\ttraining's l2: 3.5214\tvalid_1's rmse: 4.07751\tvalid_1's l2: 16.6261\n",
      "[100]\ttraining's rmse: 1.82304\ttraining's l2: 3.32347\tvalid_1's rmse: 4.075\tvalid_1's l2: 16.6056\n",
      "[110]\ttraining's rmse: 1.7824\ttraining's l2: 3.17694\tvalid_1's rmse: 4.06638\tvalid_1's l2: 16.5354\n",
      "[120]\ttraining's rmse: 1.75477\ttraining's l2: 3.07922\tvalid_1's rmse: 4.0579\tvalid_1's l2: 16.4665\n",
      "[130]\ttraining's rmse: 1.71984\ttraining's l2: 2.95786\tvalid_1's rmse: 4.05048\tvalid_1's l2: 16.4064\n",
      "[140]\ttraining's rmse: 1.70219\ttraining's l2: 2.89746\tvalid_1's rmse: 4.04844\tvalid_1's l2: 16.3898\n",
      "[150]\ttraining's rmse: 1.67234\ttraining's l2: 2.79672\tvalid_1's rmse: 4.04598\tvalid_1's l2: 16.37\n",
      "[160]\ttraining's rmse: 1.65137\ttraining's l2: 2.72704\tvalid_1's rmse: 4.03939\tvalid_1's l2: 16.3167\n",
      "[170]\ttraining's rmse: 1.63414\ttraining's l2: 2.6704\tvalid_1's rmse: 4.03688\tvalid_1's l2: 16.2964\n",
      "[180]\ttraining's rmse: 1.61076\ttraining's l2: 2.59456\tvalid_1's rmse: 4.03505\tvalid_1's l2: 16.2816\n",
      "********** 3 **********\n"
     ]
    },
    {
     "name": "stderr",
     "output_type": "stream",
     "text": [
      "C:\\Users\\usuario\\anaconda3\\envs\\venv_entel2022\\lib\\site-packages\\lightgbm\\sklearn.py:726: UserWarning: 'early_stopping_rounds' argument is deprecated and will be removed in a future release of LightGBM. Pass 'early_stopping()' callback via 'callbacks' argument instead.\n",
      "  _log_warning(\"'early_stopping_rounds' argument is deprecated and will be removed in a future release of LightGBM. \"\n",
      "C:\\Users\\usuario\\anaconda3\\envs\\venv_entel2022\\lib\\site-packages\\lightgbm\\sklearn.py:736: UserWarning: 'verbose' argument is deprecated and will be removed in a future release of LightGBM. Pass 'log_evaluation()' callback via 'callbacks' argument instead.\n",
      "  _log_warning(\"'verbose' argument is deprecated and will be removed in a future release of LightGBM. \"\n"
     ]
    },
    {
     "name": "stdout",
     "output_type": "stream",
     "text": [
      "[10]\ttraining's rmse: 3.15533\ttraining's l2: 9.95608\tvalid_1's rmse: 3.8955\tvalid_1's l2: 15.1749\n",
      "[20]\ttraining's rmse: 2.67386\ttraining's l2: 7.14954\tvalid_1's rmse: 3.74232\tvalid_1's l2: 14.005\n",
      "[30]\ttraining's rmse: 2.42447\ttraining's l2: 5.87804\tvalid_1's rmse: 3.66931\tvalid_1's l2: 13.4638\n",
      "[40]\ttraining's rmse: 2.26227\ttraining's l2: 5.11786\tvalid_1's rmse: 3.62248\tvalid_1's l2: 13.1224\n",
      "[50]\ttraining's rmse: 2.17761\ttraining's l2: 4.74197\tvalid_1's rmse: 3.59888\tvalid_1's l2: 12.952\n",
      "[60]\ttraining's rmse: 2.07484\ttraining's l2: 4.30497\tvalid_1's rmse: 3.6016\tvalid_1's l2: 12.9715\n",
      "********** 4 **********\n"
     ]
    },
    {
     "name": "stderr",
     "output_type": "stream",
     "text": [
      "C:\\Users\\usuario\\anaconda3\\envs\\venv_entel2022\\lib\\site-packages\\lightgbm\\sklearn.py:726: UserWarning: 'early_stopping_rounds' argument is deprecated and will be removed in a future release of LightGBM. Pass 'early_stopping()' callback via 'callbacks' argument instead.\n",
      "  _log_warning(\"'early_stopping_rounds' argument is deprecated and will be removed in a future release of LightGBM. \"\n",
      "C:\\Users\\usuario\\anaconda3\\envs\\venv_entel2022\\lib\\site-packages\\lightgbm\\sklearn.py:736: UserWarning: 'verbose' argument is deprecated and will be removed in a future release of LightGBM. Pass 'log_evaluation()' callback via 'callbacks' argument instead.\n",
      "  _log_warning(\"'verbose' argument is deprecated and will be removed in a future release of LightGBM. \"\n"
     ]
    },
    {
     "name": "stdout",
     "output_type": "stream",
     "text": [
      "[10]\ttraining's rmse: 3.26929\ttraining's l2: 10.6883\tvalid_1's rmse: 3.9792\tvalid_1's l2: 15.8341\n",
      "{'boosting_type': 'gbdt', 'colsample_bytree': 1.0, 'importance_type': 'gain', 'learning_rate': 0.2, 'max_depth': 18, 'min_split_gain': 0.1, 'num_leaves': 100, 'subsample': 1.0}\n",
      "SCORE RMSE:  3.9194379462432867\n"
     ]
    }
   ],
   "source": [
    "from sklearn.metrics import mean_squared_error\n",
    "from lightgbm import LGBMRegressor\n",
    "from sklearn.model_selection import ParameterGrid\n",
    "#colsample_bytree\n",
    "# subsample\n",
    "# params = ParameterGrid({\"max_depth\":[12, 14], \"learning_rate\":[0.166414, 0.05, 0.1, 0.2]})\n",
    "params = ParameterGrid({\"colsample_bytree\":[ 1.0], 'subsample':[1.0], 'boosting_type':['gbdt'],\n",
    "                        'max_depth':[18], 'learning_rate':[0.2], 'importance_type':['gain'], 'num_leaves':[100], 'min_split_gain':[0.1] })\n",
    "for param in params:\n",
    "    fi = []\n",
    "    test_probs = []\n",
    "    train_probs = []\n",
    "    for i, idx in enumerate(folds):\n",
    "        print(\"*\"*10, i, \"*\"*10)\n",
    "        Xt = train.drop(idx)\n",
    "        yt = y_train.loc[Xt.index].TARGET\n",
    "\n",
    "        Xv = train.loc[idx]\n",
    "        yv = y_train.loc[Xv.index].TARGET\n",
    "\n",
    "        learner = LGBMRegressor(n_estimators=1000,  random_state=42, n_jobs=-1, **param)\n",
    "        # learner = LGBMRegressor(n_estimators=1000,  random_state=42)\n",
    "        learner.fit(Xt, yt,  early_stopping_rounds=10, eval_metric=\"rmse\",\n",
    "                    eval_set=[(Xt, yt), (Xv, yv)], verbose=10)\n",
    "\n",
    "        test_probs.append(pd.Series(learner.predict(test), index=test.index, name=\"fold_\" + str(i)))\n",
    "        train_probs.append(pd.Series(learner.predict(Xv), index=Xv.index, name=\"probs\"))\n",
    "        fi.append(pd.Series(learner.feature_importances_ / learner.feature_importances_.sum(), index=Xt.columns))\n",
    "\n",
    "    test_probs = pd.concat(test_probs, axis=1).mean(axis=1)\n",
    "    test_probs = test_probs.apply(lambda x: 0 if x<0 else x)\n",
    "\n",
    "    train_probs = pd.concat(train_probs)\n",
    "    train_probs = train_probs.apply(lambda x: 0 if x<0 else x)\n",
    "\n",
    "    fi = pd.concat(fi, axis=1).mean(axis=1)\n",
    "    score = mean_squared_error(y_train.loc[train.index].TARGET, train_probs.loc[train.index], squared=False)\n",
    "    print(param)\n",
    "    print('SCORE RMSE: ', score)"
   ]
  },
  {
   "cell_type": "code",
   "execution_count": 218,
   "metadata": {},
   "outputs": [],
   "source": [
    "train_probs.name='probs_lg'\n",
    "test_probs.name='probs_lg'\n",
    "train_probs.to_pickle('../data/preprocessed/lightgbm/train_probs.pkl')\n",
    "test_probs.to_pickle('../data/preprocessed/lightgbm/test_probs.pkl')\n",
    "fi.sort_values(ascending=False).to_pickle('../data/preprocessed/lightgbm/fi.pkl')"
   ]
  },
  {
   "cell_type": "markdown",
   "metadata": {
    "tags": []
   },
   "source": [
    "#### Visualizacion de resultados"
   ]
  },
  {
   "cell_type": "code",
   "execution_count": 219,
   "metadata": {},
   "outputs": [
    {
     "data": {
      "text/plain": [
       "PTOVENTA_mean_ENC             2.515817e-01\n",
       "MODELO_mean_ENC               2.336269e-01\n",
       "ANNIO_SEMANA_FIN              1.502055e-01\n",
       "MODELO_std_ENC                6.988628e-02\n",
       "PTOVENTA_std_ENC              5.087601e-02\n",
       "MES_INICIO                    4.654483e-02\n",
       "MODELO_sum_ENC                4.220462e-02\n",
       "MODELO_max_ENC                2.416106e-02\n",
       "PORC_MODELO_mean_max_ENC      2.394149e-02\n",
       "MARCA_mean_ENC                2.352306e-02\n",
       "MES_FIN                       2.277433e-02\n",
       "PTOVENTA_sum_ENC              2.141656e-02\n",
       "GAMA_mean_ENC                 1.612706e-02\n",
       "DIA_FIN                       6.188325e-03\n",
       "PTOVENTA_max_ENC              5.064710e-03\n",
       "DIA_INICIO                    4.667130e-03\n",
       "MARCA_sum_ENC                 3.543172e-03\n",
       "PORC_PTOVENTA_mean_max_ENC    2.368891e-03\n",
       "MARCA_max_ENC                 3.378570e-04\n",
       "MARCA_std_ENC                 2.764406e-04\n",
       "PORC_MARCA_mean_max_ENC       2.297295e-04\n",
       "GAMA_std_ENC                  2.003289e-04\n",
       "ANNIO_FIN                     1.310391e-04\n",
       "GAMA_sum_ENC                  1.224631e-04\n",
       "PORC_GAMA_mean_max_ENC        4.572106e-07\n",
       "GAMA_max_ENC                  0.000000e+00\n",
       "ANNIO_INICIO                  0.000000e+00\n",
       "dtype: float64"
      ]
     },
     "execution_count": 219,
     "metadata": {},
     "output_type": "execute_result"
    }
   ],
   "source": [
    "fi.sort_values(ascending=False)"
   ]
  },
  {
   "cell_type": "code",
   "execution_count": 220,
   "metadata": {},
   "outputs": [
    {
     "data": {
      "image/png": "[encoded data removed]",
      "text/plain": [
       "<Figure size 432x288 with 2 Axes>"
      ]
     },
     "metadata": {
      "needs_background": "light"
     },
     "output_type": "display_data"
    }
   ],
   "source": [
    "fig, (ax1, ax2) = plt.subplots(1, 2)\n",
    "ax1.hist(test_probs, bins=100);\n",
    "ax2.hist(test_probs, bins=1000);\n",
    "plt.xlim(0,20);"
   ]
  },
  {
   "cell_type": "code",
   "execution_count": 221,
   "metadata": {},
   "outputs": [
    {
     "data": {
      "image/png": "[encoded data removed]",
      "text/plain": [
       "<Figure size 432x288 with 2 Axes>"
      ]
     },
     "metadata": {
      "needs_background": "light"
     },
     "output_type": "display_data"
    }
   ],
   "source": [
    "fig, (ax1, ax2) = plt.subplots(1, 2)\n",
    "ax1.hist(y_train, bins=100);\n",
    "ax2.hist(y_train, bins=1000);\n",
    "plt.xlim(0,20);"
   ]
  },
  {
   "cell_type": "code",
   "execution_count": 222,
   "metadata": {},
   "outputs": [
    {
     "data": {
      "text/plain": [
       "count    471730.000000\n",
       "mean          0.676502\n",
       "std           2.796188\n",
       "min           0.000000\n",
       "25%           0.155151\n",
       "50%           0.227832\n",
       "75%           0.473868\n",
       "max         262.218624\n",
       "Name: probs_lg, dtype: float64"
      ]
     },
     "execution_count": 222,
     "metadata": {},
     "output_type": "execute_result"
    }
   ],
   "source": [
    "test_probs.describe()"
   ]
  },
  {
   "cell_type": "code",
   "execution_count": 223,
   "metadata": {},
   "outputs": [],
   "source": [
    "test_probs_lg = test_probs.copy()"
   ]
  },
  {
   "cell_type": "markdown",
   "metadata": {
    "jp-MarkdownHeadingCollapsed": true,
    "tags": []
   },
   "source": [
    "## XGBOOST"
   ]
  },
  {
   "cell_type": "code",
   "execution_count": 52,
   "metadata": {},
   "outputs": [
    {
     "name": "stdout",
     "output_type": "stream",
     "text": [
      "********** 0 **********\n"
     ]
    },
    {
     "name": "stderr",
     "output_type": "stream",
     "text": [
      "C:\\Users\\usuario\\anaconda3\\envs\\venv_entel2022\\lib\\site-packages\\xgboost\\sklearn.py:793: UserWarning: `eval_metric` in `fit` method is deprecated for better compatibility with scikit-learn, use `eval_metric` in constructor or`set_params` instead.\n",
      "  warnings.warn(\n",
      "C:\\Users\\usuario\\anaconda3\\envs\\venv_entel2022\\lib\\site-packages\\xgboost\\sklearn.py:793: UserWarning: `early_stopping_rounds` in `fit` method is deprecated for better compatibility with scikit-learn, use `early_stopping_rounds` in constructor or`set_params` instead.\n",
      "  warnings.warn(\n"
     ]
    },
    {
     "name": "stdout",
     "output_type": "stream",
     "text": [
      "[0]\tvalidation_0-rmse:4.93076\tvalidation_1-rmse:6.59096\n",
      "[10]\tvalidation_0-rmse:3.31274\tvalidation_1-rmse:5.33756\n",
      "[20]\tvalidation_0-rmse:2.80699\tvalidation_1-rmse:4.94459\n",
      "[30]\tvalidation_0-rmse:2.57792\tvalidation_1-rmse:4.90011\n",
      "[36]\tvalidation_0-rmse:2.49021\tvalidation_1-rmse:4.87800\n",
      "********** 1 **********\n"
     ]
    },
    {
     "name": "stderr",
     "output_type": "stream",
     "text": [
      "C:\\Users\\usuario\\anaconda3\\envs\\venv_entel2022\\lib\\site-packages\\xgboost\\sklearn.py:793: UserWarning: `eval_metric` in `fit` method is deprecated for better compatibility with scikit-learn, use `eval_metric` in constructor or`set_params` instead.\n",
      "  warnings.warn(\n",
      "C:\\Users\\usuario\\anaconda3\\envs\\venv_entel2022\\lib\\site-packages\\xgboost\\sklearn.py:793: UserWarning: `early_stopping_rounds` in `fit` method is deprecated for better compatibility with scikit-learn, use `early_stopping_rounds` in constructor or`set_params` instead.\n",
      "  warnings.warn(\n"
     ]
    },
    {
     "name": "stdout",
     "output_type": "stream",
     "text": [
      "[0]\tvalidation_0-rmse:5.29125\tvalidation_1-rmse:4.58103\n",
      "[10]\tvalidation_0-rmse:3.57271\tvalidation_1-rmse:4.06835\n",
      "[13]\tvalidation_0-rmse:3.35575\tvalidation_1-rmse:3.97287\n",
      "********** 2 **********\n"
     ]
    },
    {
     "name": "stderr",
     "output_type": "stream",
     "text": [
      "C:\\Users\\usuario\\anaconda3\\envs\\venv_entel2022\\lib\\site-packages\\xgboost\\sklearn.py:793: UserWarning: `eval_metric` in `fit` method is deprecated for better compatibility with scikit-learn, use `eval_metric` in constructor or`set_params` instead.\n",
      "  warnings.warn(\n",
      "C:\\Users\\usuario\\anaconda3\\envs\\venv_entel2022\\lib\\site-packages\\xgboost\\sklearn.py:793: UserWarning: `early_stopping_rounds` in `fit` method is deprecated for better compatibility with scikit-learn, use `early_stopping_rounds` in constructor or`set_params` instead.\n",
      "  warnings.warn(\n"
     ]
    },
    {
     "name": "stdout",
     "output_type": "stream",
     "text": [
      "[0]\tvalidation_0-rmse:4.99563\tvalidation_1-rmse:5.88470\n",
      "[10]\tvalidation_0-rmse:3.26980\tvalidation_1-rmse:4.66945\n",
      "[20]\tvalidation_0-rmse:2.78074\tvalidation_1-rmse:4.27645\n",
      "[30]\tvalidation_0-rmse:2.53870\tvalidation_1-rmse:4.13315\n",
      "[40]\tvalidation_0-rmse:2.36012\tvalidation_1-rmse:4.09087\n",
      "[50]\tvalidation_0-rmse:2.24387\tvalidation_1-rmse:4.04560\n",
      "[60]\tvalidation_0-rmse:2.13394\tvalidation_1-rmse:4.03812\n",
      "[70]\tvalidation_0-rmse:2.07440\tvalidation_1-rmse:4.02081\n",
      "[80]\tvalidation_0-rmse:2.01457\tvalidation_1-rmse:4.02231\n",
      "[90]\tvalidation_0-rmse:1.96332\tvalidation_1-rmse:4.02781\n",
      "[95]\tvalidation_0-rmse:1.94921\tvalidation_1-rmse:4.02765\n",
      "********** 3 **********\n"
     ]
    },
    {
     "name": "stderr",
     "output_type": "stream",
     "text": [
      "C:\\Users\\usuario\\anaconda3\\envs\\venv_entel2022\\lib\\site-packages\\xgboost\\sklearn.py:793: UserWarning: `eval_metric` in `fit` method is deprecated for better compatibility with scikit-learn, use `eval_metric` in constructor or`set_params` instead.\n",
      "  warnings.warn(\n",
      "C:\\Users\\usuario\\anaconda3\\envs\\venv_entel2022\\lib\\site-packages\\xgboost\\sklearn.py:793: UserWarning: `early_stopping_rounds` in `fit` method is deprecated for better compatibility with scikit-learn, use `early_stopping_rounds` in constructor or`set_params` instead.\n",
      "  warnings.warn(\n"
     ]
    },
    {
     "name": "stdout",
     "output_type": "stream",
     "text": [
      "[0]\tvalidation_0-rmse:5.20530\tvalidation_1-rmse:5.45150\n",
      "[10]\tvalidation_0-rmse:3.33663\tvalidation_1-rmse:4.26290\n",
      "[20]\tvalidation_0-rmse:2.89753\tvalidation_1-rmse:4.04595\n",
      "[30]\tvalidation_0-rmse:2.63761\tvalidation_1-rmse:3.89807\n",
      "[40]\tvalidation_0-rmse:2.44110\tvalidation_1-rmse:3.78925\n",
      "[50]\tvalidation_0-rmse:2.35801\tvalidation_1-rmse:3.78130\n",
      "[60]\tvalidation_0-rmse:2.22925\tvalidation_1-rmse:3.74614\n",
      "[70]\tvalidation_0-rmse:2.13363\tvalidation_1-rmse:3.71275\n",
      "[80]\tvalidation_0-rmse:2.05747\tvalidation_1-rmse:3.71710\n",
      "[84]\tvalidation_0-rmse:2.03671\tvalidation_1-rmse:3.72650\n",
      "********** 4 **********\n"
     ]
    },
    {
     "name": "stderr",
     "output_type": "stream",
     "text": [
      "C:\\Users\\usuario\\anaconda3\\envs\\venv_entel2022\\lib\\site-packages\\xgboost\\sklearn.py:793: UserWarning: `eval_metric` in `fit` method is deprecated for better compatibility with scikit-learn, use `eval_metric` in constructor or`set_params` instead.\n",
      "  warnings.warn(\n",
      "C:\\Users\\usuario\\anaconda3\\envs\\venv_entel2022\\lib\\site-packages\\xgboost\\sklearn.py:793: UserWarning: `early_stopping_rounds` in `fit` method is deprecated for better compatibility with scikit-learn, use `early_stopping_rounds` in constructor or`set_params` instead.\n",
      "  warnings.warn(\n"
     ]
    },
    {
     "name": "stdout",
     "output_type": "stream",
     "text": [
      "[0]\tvalidation_0-rmse:5.35150\tvalidation_1-rmse:3.98367\n",
      "[10]\tvalidation_0-rmse:3.27981\tvalidation_1-rmse:4.35450\n",
      "[12]\tvalidation_0-rmse:3.17891\tvalidation_1-rmse:4.39185\n",
      "SCORE RMSE:  4.065513402050455\n"
     ]
    }
   ],
   "source": [
    "from sklearn.metrics import mean_squared_error\n",
    "from xgboost  import XGBRegressor\n",
    "from sklearn.model_selection import ParameterGrid\n",
    "# params = ParameterGrid({\"max_depth\":[ 7,9, 14], 'colsample_bytree':[0.8, 1],'min_child_samples':[1500, 1000]})\n",
    "# for param in params:\n",
    "#     print(param)\n",
    "\n",
    "fi = []\n",
    "test_probs = []\n",
    "train_probs = []\n",
    "for i, idx in enumerate(folds):\n",
    "    print(\"*\"*10, i, \"*\"*10)\n",
    "    Xt = train.drop(idx)\n",
    "    yt = y_train.loc[Xt.index].TARGET\n",
    "\n",
    "    Xv = train.loc[idx]\n",
    "    yv = y_train.loc[Xv.index].TARGET\n",
    "\n",
    "    # learner = XGBRegressor(n_estimators=1000,  random_state=42, **param)\n",
    "    learner = XGBRegressor(n_estimators=1000,  random_state=42)\n",
    "    learner.fit(Xt, yt,  early_stopping_rounds=10, eval_metric=\"rmse\",\n",
    "                eval_set=[(Xt, yt), (Xv, yv)], verbose=10)\n",
    "\n",
    "    test_probs.append(pd.Series(learner.predict(test), index=test.index, name=\"fold_\" + str(i)))\n",
    "    train_probs.append(pd.Series(learner.predict(Xv), index=Xv.index, name=\"probs\"))\n",
    "    fi.append(pd.Series(learner.feature_importances_ / learner.feature_importances_.sum(), index=Xt.columns))\n",
    "\n",
    "test_probs = pd.concat(test_probs, axis=1).mean(axis=1)\n",
    "test_probs = test_probs.apply(lambda x: 0 if x<0 else x)\n",
    "\n",
    "train_probs = pd.concat(train_probs)\n",
    "train_probs = train_probs.apply(lambda x: 0 if x<0 else x)\n",
    "\n",
    "fi = pd.concat(fi, axis=1).mean(axis=1)\n",
    "score = mean_squared_error(y_train.loc[train.index].TARGET, train_probs.loc[train.index], squared=False)\n",
    "print('SCORE RMSE: ', score)"
   ]
  },
  {
   "cell_type": "code",
   "execution_count": 53,
   "metadata": {},
   "outputs": [],
   "source": [
    "train_probs.name='probs_xg'\n",
    "test_probs.name='probs_xg'\n",
    "train_probs.to_pickle('../data/preprocessed/xgboost/train_probs.pkl')\n",
    "test_probs.to_pickle('../data/preprocessed/xgboost/test_probs.pkl')\n",
    "fi.sort_values(ascending=False).to_pickle('../data/preprocessed/xgboost/fi.pkl')"
   ]
  },
  {
   "cell_type": "markdown",
   "metadata": {
    "tags": []
   },
   "source": [
    "#### Visualizacion de resultados"
   ]
  },
  {
   "cell_type": "code",
   "execution_count": 54,
   "metadata": {},
   "outputs": [
    {
     "data": {
      "text/plain": [
       "PTOVENTA_mean_ENC             0.137992\n",
       "PTOVENTA_std_ENC              0.091402\n",
       "MODELO_mean_ENC               0.088907\n",
       "MODELO_std_ENC                0.084623\n",
       "ANNIO_SEMANA_FIN              0.064006\n",
       "MARCA_mean_ENC                0.061534\n",
       "GAMA_mean_ENC                 0.056696\n",
       "MODELO_sum_ENC                0.056157\n",
       "MES_INICIO                    0.048797\n",
       "PORC_MODELO_mean_max_ENC      0.045946\n",
       "MARCA_sum_ENC                 0.044286\n",
       "MES_FIN                       0.029628\n",
       "DIA_FIN                       0.029355\n",
       "MODELO_max_ENC                0.025336\n",
       "PTOVENTA_sum_ENC              0.024577\n",
       "MARCA_std_ENC                 0.023049\n",
       "ANNIO_FIN                     0.019051\n",
       "DIA_INICIO                    0.019020\n",
       "PTOVENTA_max_ENC              0.014875\n",
       "GAMA_std_ENC                  0.013358\n",
       "MARCA_max_ENC                 0.008393\n",
       "PORC_PTOVENTA_mean_max_ENC    0.005018\n",
       "GAMA_sum_ENC                  0.004052\n",
       "PORC_MARCA_mean_max_ENC       0.003941\n",
       "GAMA_max_ENC                  0.000000\n",
       "ANNIO_INICIO                  0.000000\n",
       "PORC_GAMA_mean_max_ENC        0.000000\n",
       "dtype: float32"
      ]
     },
     "execution_count": 54,
     "metadata": {},
     "output_type": "execute_result"
    }
   ],
   "source": [
    "fi.sort_values(ascending=False)"
   ]
  },
  {
   "cell_type": "code",
   "execution_count": 55,
   "metadata": {},
   "outputs": [
    {
     "data": {
      "image/png": "[encoded data removed]",
      "text/plain": [
       "<Figure size 432x288 with 2 Axes>"
      ]
     },
     "metadata": {
      "needs_background": "light"
     },
     "output_type": "display_data"
    }
   ],
   "source": [
    "fig, (ax1, ax2) = plt.subplots(1, 2)\n",
    "ax1.hist(test_probs, bins=100);\n",
    "ax2.hist(test_probs, bins=1000);\n",
    "plt.xlim(0,20);"
   ]
  },
  {
   "cell_type": "code",
   "execution_count": 56,
   "metadata": {},
   "outputs": [
    {
     "data": {
      "image/png": "[encoded data removed]",
      "text/plain": [
       "<Figure size 432x288 with 2 Axes>"
      ]
     },
     "metadata": {
      "needs_background": "light"
     },
     "output_type": "display_data"
    }
   ],
   "source": [
    "fig, (ax1, ax2) = plt.subplots(1, 2)\n",
    "ax1.hist(y_train, bins=100);\n",
    "ax2.hist(y_train, bins=1000);\n",
    "plt.xlim(0,20);"
   ]
  },
  {
   "cell_type": "code",
   "execution_count": 57,
   "metadata": {},
   "outputs": [
    {
     "data": {
      "text/plain": [
       "count    471730.000000\n",
       "mean          0.665456\n",
       "std           2.683209\n",
       "min           0.000000\n",
       "25%           0.118661\n",
       "50%           0.211416\n",
       "75%           0.541224\n",
       "max         245.842499\n",
       "Name: probs_xg, dtype: float64"
      ]
     },
     "execution_count": 57,
     "metadata": {},
     "output_type": "execute_result"
    }
   ],
   "source": [
    "test_probs.describe()"
   ]
  },
  {
   "cell_type": "code",
   "execution_count": 58,
   "metadata": {},
   "outputs": [],
   "source": [
    "test_probs_xg = test_probs.copy()"
   ]
  },
  {
   "cell_type": "markdown",
   "metadata": {
    "jp-MarkdownHeadingCollapsed": true,
    "tags": []
   },
   "source": [
    "## SUBMISION"
   ]
  },
  {
   "cell_type": "code",
   "execution_count": 59,
   "metadata": {},
   "outputs": [
    {
     "data": {
      "text/plain": [
       "(count    471730.000000\n",
       " mean          0.651709\n",
       " std           2.406563\n",
       " min           0.000000\n",
       " 25%           0.140276\n",
       " 50%           0.232728\n",
       " 75%           0.541590\n",
       " max         182.778139\n",
       " Name: probs_cb, dtype: float64,\n",
       " count    471730.000000\n",
       " mean          0.668253\n",
       " std           2.529192\n",
       " min           0.000000\n",
       " 25%           0.193463\n",
       " 50%           0.276110\n",
       " 75%           0.502135\n",
       " max         228.225275\n",
       " Name: probs_lg, dtype: float64,\n",
       " count    471730.000000\n",
       " mean          0.665456\n",
       " std           2.683209\n",
       " min           0.000000\n",
       " 25%           0.118661\n",
       " 50%           0.211416\n",
       " 75%           0.541224\n",
       " max         245.842499\n",
       " Name: probs_xg, dtype: float64)"
      ]
     },
     "execution_count": 59,
     "metadata": {},
     "output_type": "execute_result"
    }
   ],
   "source": [
    "test_probs_cb.describe(), test_probs_lg.describe(), test_probs_xg.describe()"
   ]
  },
  {
   "cell_type": "code",
   "execution_count": 60,
   "metadata": {},
   "outputs": [],
   "source": [
    "# test_probs = test_probs_lg.copy()\n",
    "# test_probs.name = 'Demanda'\n",
    "# test_submit = test_probs.reset_index()[['ID','Demanda']]\n",
    "# test_submit"
   ]
  },
  {
   "cell_type": "code",
   "execution_count": 61,
   "metadata": {},
   "outputs": [],
   "source": [
    "# test_submit['Demanda'].describe()"
   ]
  },
  {
   "cell_type": "code",
   "execution_count": 62,
   "metadata": {},
   "outputs": [],
   "source": [
    "# test_submit.to_csv('../results/test.csv', index=False)"
   ]
  },
  {
   "cell_type": "code",
   "execution_count": 63,
   "metadata": {},
   "outputs": [],
   "source": [
    "# !kaggle competitions submit datathon-entel-2022-reto2 -f ../results/test.csv -m \"test\""
   ]
  },
  {
   "cell_type": "markdown",
   "metadata": {
    "tags": []
   },
   "source": [
    "## Entrenamiento con toda la data"
   ]
  },
  {
   "cell_type": "code",
   "execution_count": 224,
   "metadata": {
    "tags": []
   },
   "outputs": [
    {
     "data": {
      "text/plain": [
       "((1886920, 27), (1886920,), (471730, 27), (471730,))"
      ]
     },
     "execution_count": 224,
     "metadata": {},
     "output_type": "execute_result"
    }
   ],
   "source": [
    "punto_corte = 202240\n",
    "Xt = train[train['ANNIO_SEMANA_FIN']<=punto_corte]\n",
    "Xv = train[train['ANNIO_SEMANA_FIN']>punto_corte]\n",
    "yt = y_train.loc[Xt.index]['TARGET']\n",
    "yv = y_train.loc[Xv.index]['TARGET']\n",
    "Xt.shape, yt.shape, Xv.shape, yv.shape"
   ]
  },
  {
   "cell_type": "code",
   "execution_count": 225,
   "metadata": {
    "scrolled": true
   },
   "outputs": [
    {
     "name": "stdout",
     "output_type": "stream",
     "text": [
      "Learning rate set to 0.166414\n",
      "0:\tlearn: 5.8831309\ttest: 5.8831309\ttest1: 4.2591336\tbest: 4.2591336 (0)\ttotal: 260ms\tremaining: 4m 19s\n",
      "10:\tlearn: 4.4832471\ttest: 4.4832471\ttest1: 4.0149651\tbest: 3.9233976 (6)\ttotal: 2.54s\tremaining: 3m 48s\n",
      "Stopped by overfitting detector  (10 iterations wait)\n",
      "\n",
      "bestTest = 3.923397616\n",
      "bestIteration = 6\n",
      "\n",
      "Shrink model to first 7 iterations.\n"
     ]
    },
    {
     "data": {
      "text/plain": [
       "<catboost.core.CatBoostRegressor at 0x252b9999070>"
      ]
     },
     "execution_count": 225,
     "metadata": {},
     "output_type": "execute_result"
    }
   ],
   "source": [
    "from catboost import CatBoostRegressor\n",
    "# learner = CatBoostRegressor(n_estimators=1000, eval_metric = 'RMSE', random_state=42, **result_tunning[\"param\"])\n",
    "learner = CatBoostRegressor(n_estimators=1000, eval_metric = 'RMSE', random_state=42, )\n",
    "learner.fit(Xt, yt,  early_stopping_rounds=10, \n",
    "            eval_set=[(Xt, yt), (Xv, yv)], verbose=10)"
   ]
  },
  {
   "cell_type": "code",
   "execution_count": 226,
   "metadata": {
    "scrolled": true,
    "tags": []
   },
   "outputs": [
    {
     "name": "stderr",
     "output_type": "stream",
     "text": [
      "C:\\Users\\usuario\\anaconda3\\envs\\venv_entel2022\\lib\\site-packages\\lightgbm\\sklearn.py:726: UserWarning: 'early_stopping_rounds' argument is deprecated and will be removed in a future release of LightGBM. Pass 'early_stopping()' callback via 'callbacks' argument instead.\n",
      "  _log_warning(\"'early_stopping_rounds' argument is deprecated and will be removed in a future release of LightGBM. \"\n",
      "C:\\Users\\usuario\\anaconda3\\envs\\venv_entel2022\\lib\\site-packages\\lightgbm\\sklearn.py:736: UserWarning: 'verbose' argument is deprecated and will be removed in a future release of LightGBM. Pass 'log_evaluation()' callback via 'callbacks' argument instead.\n",
      "  _log_warning(\"'verbose' argument is deprecated and will be removed in a future release of LightGBM. \"\n"
     ]
    },
    {
     "name": "stdout",
     "output_type": "stream",
     "text": [
      "[10]\ttraining's rmse: 4.39442\ttraining's l2: 19.311\tvalid_1's rmse: 3.86884\tvalid_1's l2: 14.968\n",
      "[20]\ttraining's rmse: 3.81619\ttraining's l2: 14.5633\tvalid_1's rmse: 3.95533\tvalid_1's l2: 15.6446\n"
     ]
    },
    {
     "data": {
      "text/html": [
       "<style>#sk-container-id-8 {color: black;background-color: white;}#sk-container-id-8 pre{padding: 0;}#sk-container-id-8 div.sk-toggleable {background-color: white;}#sk-container-id-8 label.sk-toggleable__label {cursor: pointer;display: block;width: 100%;margin-bottom: 0;padding: 0.3em;box-sizing: border-box;text-align: center;}#sk-container-id-8 label.sk-toggleable__label-arrow:before {content: \"▸\";float: left;margin-right: 0.25em;color: #696969;}#sk-container-id-8 label.sk-toggleable__label-arrow:hover:before {color: black;}#sk-container-id-8 div.sk-estimator:hover label.sk-toggleable__label-arrow:before {color: black;}#sk-container-id-8 div.sk-toggleable__content {max-height: 0;max-width: 0;overflow: hidden;text-align: left;background-color: #f0f8ff;}#sk-container-id-8 div.sk-toggleable__content pre {margin: 0.2em;color: black;border-radius: 0.25em;background-color: #f0f8ff;}#sk-container-id-8 input.sk-toggleable__control:checked~div.sk-toggleable__content {max-height: 200px;max-width: 100%;overflow: auto;}#sk-container-id-8 input.sk-toggleable__control:checked~label.sk-toggleable__label-arrow:before {content: \"▾\";}#sk-container-id-8 div.sk-estimator input.sk-toggleable__control:checked~label.sk-toggleable__label {background-color: #d4ebff;}#sk-container-id-8 div.sk-label input.sk-toggleable__control:checked~label.sk-toggleable__label {background-color: #d4ebff;}#sk-container-id-8 input.sk-hidden--visually {border: 0;clip: rect(1px 1px 1px 1px);clip: rect(1px, 1px, 1px, 1px);height: 1px;margin: -1px;overflow: hidden;padding: 0;position: absolute;width: 1px;}#sk-container-id-8 div.sk-estimator {font-family: monospace;background-color: #f0f8ff;border: 1px dotted black;border-radius: 0.25em;box-sizing: border-box;margin-bottom: 0.5em;}#sk-container-id-8 div.sk-estimator:hover {background-color: #d4ebff;}#sk-container-id-8 div.sk-parallel-item::after {content: \"\";width: 100%;border-bottom: 1px solid gray;flex-grow: 1;}#sk-container-id-8 div.sk-label:hover label.sk-toggleable__label {background-color: #d4ebff;}#sk-container-id-8 div.sk-serial::before {content: \"\";position: absolute;border-left: 1px solid gray;box-sizing: border-box;top: 0;bottom: 0;left: 50%;z-index: 0;}#sk-container-id-8 div.sk-serial {display: flex;flex-direction: column;align-items: center;background-color: white;padding-right: 0.2em;padding-left: 0.2em;position: relative;}#sk-container-id-8 div.sk-item {position: relative;z-index: 1;}#sk-container-id-8 div.sk-parallel {display: flex;align-items: stretch;justify-content: center;background-color: white;position: relative;}#sk-container-id-8 div.sk-item::before, #sk-container-id-8 div.sk-parallel-item::before {content: \"\";position: absolute;border-left: 1px solid gray;box-sizing: border-box;top: 0;bottom: 0;left: 50%;z-index: -1;}#sk-container-id-8 div.sk-parallel-item {display: flex;flex-direction: column;z-index: 1;position: relative;background-color: white;}#sk-container-id-8 div.sk-parallel-item:first-child::after {align-self: flex-end;width: 50%;}#sk-container-id-8 div.sk-parallel-item:last-child::after {align-self: flex-start;width: 50%;}#sk-container-id-8 div.sk-parallel-item:only-child::after {width: 0;}#sk-container-id-8 div.sk-dashed-wrapped {border: 1px dashed gray;margin: 0 0.4em 0.5em 0.4em;box-sizing: border-box;padding-bottom: 0.4em;background-color: white;}#sk-container-id-8 div.sk-label label {font-family: monospace;font-weight: bold;display: inline-block;line-height: 1.2em;}#sk-container-id-8 div.sk-label-container {text-align: center;}#sk-container-id-8 div.sk-container {/* jupyter's `normalize.less` sets `[hidden] { display: none; }` but bootstrap.min.css set `[hidden] { display: none !important; }` so we also need the `!important` here to be able to override the default hidden behavior on the sphinx rendered scikit-learn.org. See: https://github.com/scikit-learn/scikit-learn/issues/21755 */display: inline-block !important;position: relative;}#sk-container-id-8 div.sk-text-repr-fallback {display: none;}</style><div id=\"sk-container-id-8\" class=\"sk-top-container\"><div class=\"sk-text-repr-fallback\"><pre>LGBMRegressor(n_estimators=1000, random_state=42)</pre><b>In a Jupyter environment, please rerun this cell to show the HTML representation or trust the notebook. <br />On GitHub, the HTML representation is unable to render, please try loading this page with nbviewer.org.</b></div><div class=\"sk-container\" hidden><div class=\"sk-item\"><div class=\"sk-estimator sk-toggleable\"><input class=\"sk-toggleable__control sk-hidden--visually\" id=\"sk-estimator-id-8\" type=\"checkbox\" checked><label for=\"sk-estimator-id-8\" class=\"sk-toggleable__label sk-toggleable__label-arrow\">LGBMRegressor</label><div class=\"sk-toggleable__content\"><pre>LGBMRegressor(n_estimators=1000, random_state=42)</pre></div></div></div></div></div>"
      ],
      "text/plain": [
       "LGBMRegressor(n_estimators=1000, random_state=42)"
      ]
     },
     "execution_count": 226,
     "metadata": {},
     "output_type": "execute_result"
    }
   ],
   "source": [
    "from lightgbm import LGBMRegressor\n",
    "# learner = LGBMRegressor(n_estimators=1000,  random_state=42, **result_tunning[\"param\"]) \n",
    "learner = LGBMRegressor(n_estimators=1000,  random_state=42)\n",
    "learner.fit(Xt, yt,  early_stopping_rounds=10, eval_metric=\"rmse\",\n",
    "            eval_set=[(Xt, yt), (Xv, yv)], verbose=10)"
   ]
  },
  {
   "cell_type": "code",
   "execution_count": 227,
   "metadata": {},
   "outputs": [],
   "source": [
    "# %%time\n",
    "# from xgboost import XGBRegressor\n",
    "# # learner = XGBRegressor(n_estimators=1000,  random_state=42, **result_tunning[\"param\"]) \n",
    "# learner = XGBRegressor(n_estimators=1000,  random_state=42)\n",
    "# learner.fit(Xt, yt,  early_stopping_rounds=10, eval_metric=\"rmse\",\n",
    "#             eval_set=[(Xt, yt), (Xv, yv)], verbose=10)"
   ]
  },
  {
   "cell_type": "code",
   "execution_count": 231,
   "metadata": {},
   "outputs": [
    {
     "name": "stdout",
     "output_type": "stream",
     "text": [
      "0:\tlearn: 5.4258028\ttotal: 920ms\tremaining: 15m 19s\n",
      "100:\tlearn: 2.2021707\ttotal: 1m 29s\tremaining: 13m 18s\n",
      "200:\tlearn: 1.8692638\ttotal: 2m 59s\tremaining: 11m 52s\n",
      "300:\tlearn: 1.7257070\ttotal: 4m 28s\tremaining: 10m 23s\n",
      "400:\tlearn: 1.6210994\ttotal: 5m 57s\tremaining: 8m 54s\n",
      "500:\tlearn: 1.5470672\ttotal: 7m 27s\tremaining: 7m 25s\n",
      "600:\tlearn: 1.4997060\ttotal: 8m 56s\tremaining: 5m 56s\n",
      "700:\tlearn: 1.4549511\ttotal: 10m 26s\tremaining: 4m 27s\n",
      "800:\tlearn: 1.4178822\ttotal: 11m 56s\tremaining: 2m 57s\n",
      "900:\tlearn: 1.3858691\ttotal: 13m 25s\tremaining: 1m 28s\n",
      "999:\tlearn: 1.3573080\ttotal: 14m 54s\tremaining: 0us\n",
      "CPU times: total: 1h 36min 56s\n",
      "Wall time: 14min 55s\n"
     ]
    },
    {
     "data": {
      "text/plain": [
       "<catboost.core.CatBoostRegressor at 0x252bdf2be50>"
      ]
     },
     "execution_count": 231,
     "metadata": {},
     "output_type": "execute_result"
    }
   ],
   "source": [
    "%%time\n",
    "learner_cb = CatBoostRegressor(n_estimators=1000, eval_metric = 'RMSE', random_state=42, max_depth=10, learning_rate=0.2)\n",
    "learner_cb.fit(train, y_train, verbose = 100)"
   ]
  },
  {
   "cell_type": "code",
   "execution_count": 232,
   "metadata": {
    "tags": []
   },
   "outputs": [
    {
     "name": "stdout",
     "output_type": "stream",
     "text": [
      "CPU times: total: 9min 42s\n",
      "Wall time: 1min 18s\n"
     ]
    },
    {
     "data": {
      "text/html": [
       "<style>#sk-container-id-9 {color: black;background-color: white;}#sk-container-id-9 pre{padding: 0;}#sk-container-id-9 div.sk-toggleable {background-color: white;}#sk-container-id-9 label.sk-toggleable__label {cursor: pointer;display: block;width: 100%;margin-bottom: 0;padding: 0.3em;box-sizing: border-box;text-align: center;}#sk-container-id-9 label.sk-toggleable__label-arrow:before {content: \"▸\";float: left;margin-right: 0.25em;color: #696969;}#sk-container-id-9 label.sk-toggleable__label-arrow:hover:before {color: black;}#sk-container-id-9 div.sk-estimator:hover label.sk-toggleable__label-arrow:before {color: black;}#sk-container-id-9 div.sk-toggleable__content {max-height: 0;max-width: 0;overflow: hidden;text-align: left;background-color: #f0f8ff;}#sk-container-id-9 div.sk-toggleable__content pre {margin: 0.2em;color: black;border-radius: 0.25em;background-color: #f0f8ff;}#sk-container-id-9 input.sk-toggleable__control:checked~div.sk-toggleable__content {max-height: 200px;max-width: 100%;overflow: auto;}#sk-container-id-9 input.sk-toggleable__control:checked~label.sk-toggleable__label-arrow:before {content: \"▾\";}#sk-container-id-9 div.sk-estimator input.sk-toggleable__control:checked~label.sk-toggleable__label {background-color: #d4ebff;}#sk-container-id-9 div.sk-label input.sk-toggleable__control:checked~label.sk-toggleable__label {background-color: #d4ebff;}#sk-container-id-9 input.sk-hidden--visually {border: 0;clip: rect(1px 1px 1px 1px);clip: rect(1px, 1px, 1px, 1px);height: 1px;margin: -1px;overflow: hidden;padding: 0;position: absolute;width: 1px;}#sk-container-id-9 div.sk-estimator {font-family: monospace;background-color: #f0f8ff;border: 1px dotted black;border-radius: 0.25em;box-sizing: border-box;margin-bottom: 0.5em;}#sk-container-id-9 div.sk-estimator:hover {background-color: #d4ebff;}#sk-container-id-9 div.sk-parallel-item::after {content: \"\";width: 100%;border-bottom: 1px solid gray;flex-grow: 1;}#sk-container-id-9 div.sk-label:hover label.sk-toggleable__label {background-color: #d4ebff;}#sk-container-id-9 div.sk-serial::before {content: \"\";position: absolute;border-left: 1px solid gray;box-sizing: border-box;top: 0;bottom: 0;left: 50%;z-index: 0;}#sk-container-id-9 div.sk-serial {display: flex;flex-direction: column;align-items: center;background-color: white;padding-right: 0.2em;padding-left: 0.2em;position: relative;}#sk-container-id-9 div.sk-item {position: relative;z-index: 1;}#sk-container-id-9 div.sk-parallel {display: flex;align-items: stretch;justify-content: center;background-color: white;position: relative;}#sk-container-id-9 div.sk-item::before, #sk-container-id-9 div.sk-parallel-item::before {content: \"\";position: absolute;border-left: 1px solid gray;box-sizing: border-box;top: 0;bottom: 0;left: 50%;z-index: -1;}#sk-container-id-9 div.sk-parallel-item {display: flex;flex-direction: column;z-index: 1;position: relative;background-color: white;}#sk-container-id-9 div.sk-parallel-item:first-child::after {align-self: flex-end;width: 50%;}#sk-container-id-9 div.sk-parallel-item:last-child::after {align-self: flex-start;width: 50%;}#sk-container-id-9 div.sk-parallel-item:only-child::after {width: 0;}#sk-container-id-9 div.sk-dashed-wrapped {border: 1px dashed gray;margin: 0 0.4em 0.5em 0.4em;box-sizing: border-box;padding-bottom: 0.4em;background-color: white;}#sk-container-id-9 div.sk-label label {font-family: monospace;font-weight: bold;display: inline-block;line-height: 1.2em;}#sk-container-id-9 div.sk-label-container {text-align: center;}#sk-container-id-9 div.sk-container {/* jupyter's `normalize.less` sets `[hidden] { display: none; }` but bootstrap.min.css set `[hidden] { display: none !important; }` so we also need the `!important` here to be able to override the default hidden behavior on the sphinx rendered scikit-learn.org. See: https://github.com/scikit-learn/scikit-learn/issues/21755 */display: inline-block !important;position: relative;}#sk-container-id-9 div.sk-text-repr-fallback {display: none;}</style><div id=\"sk-container-id-9\" class=\"sk-top-container\"><div class=\"sk-text-repr-fallback\"><pre>LGBMRegressor(importance_type=&#x27;gain&#x27;, learning_rate=0.2, max_depth=18,\n",
       "              min_split_gain=0.1, n_estimators=1000, n_job=-1, num_leaves=100,\n",
       "              random_state=42)</pre><b>In a Jupyter environment, please rerun this cell to show the HTML representation or trust the notebook. <br />On GitHub, the HTML representation is unable to render, please try loading this page with nbviewer.org.</b></div><div class=\"sk-container\" hidden><div class=\"sk-item\"><div class=\"sk-estimator sk-toggleable\"><input class=\"sk-toggleable__control sk-hidden--visually\" id=\"sk-estimator-id-9\" type=\"checkbox\" checked><label for=\"sk-estimator-id-9\" class=\"sk-toggleable__label sk-toggleable__label-arrow\">LGBMRegressor</label><div class=\"sk-toggleable__content\"><pre>LGBMRegressor(importance_type=&#x27;gain&#x27;, learning_rate=0.2, max_depth=18,\n",
       "              min_split_gain=0.1, n_estimators=1000, n_job=-1, num_leaves=100,\n",
       "              random_state=42)</pre></div></div></div></div></div>"
      ],
      "text/plain": [
       "LGBMRegressor(importance_type='gain', learning_rate=0.2, max_depth=18,\n",
       "              min_split_gain=0.1, n_estimators=1000, n_job=-1, num_leaves=100,\n",
       "              random_state=42)"
      ]
     },
     "execution_count": 232,
     "metadata": {},
     "output_type": "execute_result"
    }
   ],
   "source": [
    "%%time\n",
    "learner_lg = LGBMRegressor(n_estimators=1000,  random_state=42, max_depth=18, learning_rate=0.2,  importance_type='gain',\n",
    "                          num_leaves=100, min_split_gain=0.1, n_job=-1)\n",
    "learner_lg.fit(train, y_train, eval_metric=\"rmse\",  verbose = 100)"
   ]
  },
  {
   "cell_type": "code",
   "execution_count": 233,
   "metadata": {},
   "outputs": [],
   "source": [
    "# %%time\n",
    "# learner_xg = XGBRegressor(n_estimators=1000,  random_state=42)\n",
    "# learner_xg.fit(train, y_train, eval_metric=\"rmse\",  verbose = 100)"
   ]
  },
  {
   "cell_type": "markdown",
   "metadata": {
    "tags": []
   },
   "source": [
    "### Visualizacion Resultados"
   ]
  },
  {
   "cell_type": "code",
   "execution_count": 234,
   "metadata": {},
   "outputs": [
    {
     "name": "stdout",
     "output_type": "stream",
     "text": [
      "total de variables : 27\n",
      "variables con importancia acumulada al 99% : 20\n",
      "variables con zero importancia : 1\n"
     ]
    }
   ],
   "source": [
    "features_importances = pd.Series(learner_cb.feature_importances_ / learner_cb.feature_importances_.sum(), index=train.columns).sort_values(ascending=False)\n",
    "_, _ = get_feature_selection(features_importances)"
   ]
  },
  {
   "cell_type": "code",
   "execution_count": 117,
   "metadata": {},
   "outputs": [
    {
     "data": {
      "image/png": "[encoded data removed]",
      "text/plain": [
       "<Figure size 1440x720 with 1 Axes>"
      ]
     },
     "metadata": {
      "needs_background": "light"
     },
     "output_type": "display_data"
    }
   ],
   "source": [
    "%matplotlib inline\n",
    "features_importances.nlargest(40).plot(kind='barh', figsize=(20,10));"
   ]
  },
  {
   "cell_type": "code",
   "execution_count": 235,
   "metadata": {
    "tags": []
   },
   "outputs": [
    {
     "name": "stdout",
     "output_type": "stream",
     "text": [
      "total de variables : 27\n",
      "variables con importancia acumulada al 99% : 16\n",
      "variables con zero importancia : 2\n"
     ]
    }
   ],
   "source": [
    "features_importances = pd.Series(learner_lg.feature_importances_ / learner_lg.feature_importances_.sum(), index=train.columns).sort_values(ascending=False)\n",
    "_, _ = get_feature_selection(features_importances)"
   ]
  },
  {
   "cell_type": "code",
   "execution_count": 236,
   "metadata": {
    "tags": []
   },
   "outputs": [
    {
     "data": {
      "image/png": "[encoded data removed]",
      "text/plain": [
       "<Figure size 1440x720 with 1 Axes>"
      ]
     },
     "metadata": {
      "needs_background": "light"
     },
     "output_type": "display_data"
    }
   ],
   "source": [
    "%matplotlib inline\n",
    "features_importances.nlargest(40).plot(kind='barh', figsize=(20,10));"
   ]
  },
  {
   "cell_type": "code",
   "execution_count": 239,
   "metadata": {},
   "outputs": [],
   "source": [
    "# features_importances = pd.Series(learner_xg.feature_importances_ / learner_xg.feature_importances_.sum(), index=train.columns).sort_values(ascending=False)\n",
    "# _, _ = get_feature_selection(features_importances)"
   ]
  },
  {
   "cell_type": "code",
   "execution_count": 240,
   "metadata": {},
   "outputs": [],
   "source": [
    "# %matplotlib inline\n",
    "# features_importances.nlargest(40).plot(kind='barh', figsize=(20,10));"
   ]
  },
  {
   "cell_type": "markdown",
   "metadata": {},
   "source": [
    "### SUBMISION "
   ]
  },
  {
   "cell_type": "code",
   "execution_count": 242,
   "metadata": {},
   "outputs": [],
   "source": [
    "# test.drop(['Demanda'], axis=1, inplace=True)"
   ]
  },
  {
   "cell_type": "code",
   "execution_count": 243,
   "metadata": {
    "tags": []
   },
   "outputs": [],
   "source": [
    "# test['Demanda'] = learner_lg.predict(test)*0.35 + learner_cb.predict(test)*0.30 +  learner_xg.predict(test)*0.35\n",
    "# test['Demanda'] = learner_lg.predict(test)*0.5 + learner_xg.predict(test)*0.5\n",
    "# test['Demanda'] = learner_lg.predict(test)\n",
    "# test['Demanda'] = learner_cb.predict(test)\n",
    "# test['Demanda'] = learner_xg.predict(test)\n",
    "test['Demanda'] = np.array(pd.Series(learner_cb.predict(test)).apply(lambda x: 0 if x<0 else x)*0.5+\\\n",
    "                           pd.Series(learner_lg.predict(test)).apply(lambda x: 0 if x<0 else x)*0.5)\n",
    "test['Demanda'] = test['Demanda'].apply(lambda x: 0 if x<0 else x)"
   ]
  },
  {
   "cell_type": "code",
   "execution_count": 244,
   "metadata": {
    "tags": []
   },
   "outputs": [
    {
     "data": {
      "text/html": [
       "<div>\n",
       "<style scoped>\n",
       "    .dataframe tbody tr th:only-of-type {\n",
       "        vertical-align: middle;\n",
       "    }\n",
       "\n",
       "    .dataframe tbody tr th {\n",
       "        vertical-align: top;\n",
       "    }\n",
       "\n",
       "    .dataframe thead th {\n",
       "        text-align: right;\n",
       "    }\n",
       "</style>\n",
       "<table border=\"1\" class=\"dataframe\">\n",
       "  <thead>\n",
       "    <tr style=\"text-align: right;\">\n",
       "      <th></th>\n",
       "      <th>ID</th>\n",
       "      <th>Demanda</th>\n",
       "    </tr>\n",
       "  </thead>\n",
       "  <tbody>\n",
       "    <tr>\n",
       "      <th>0</th>\n",
       "      <td>1161c077d04c02902341ddd6f20f322d6fdaac2619ecf1...</td>\n",
       "      <td>0.266554</td>\n",
       "    </tr>\n",
       "    <tr>\n",
       "      <th>1</th>\n",
       "      <td>1161c077d04c02902341ddd6f20f322d6fdaac2619ecf1...</td>\n",
       "      <td>0.260563</td>\n",
       "    </tr>\n",
       "    <tr>\n",
       "      <th>2</th>\n",
       "      <td>1161c077d04c02902341ddd6f20f322d6fdaac2619ecf1...</td>\n",
       "      <td>0.269536</td>\n",
       "    </tr>\n",
       "    <tr>\n",
       "      <th>3</th>\n",
       "      <td>1161c077d04c02902341ddd6f20f322d6fdaac2619ecf1...</td>\n",
       "      <td>0.232382</td>\n",
       "    </tr>\n",
       "    <tr>\n",
       "      <th>4</th>\n",
       "      <td>1161c077d04c02902341ddd6f20f322d6fdaac2619ecf1...</td>\n",
       "      <td>0.205577</td>\n",
       "    </tr>\n",
       "    <tr>\n",
       "      <th>...</th>\n",
       "      <td>...</td>\n",
       "      <td>...</td>\n",
       "    </tr>\n",
       "    <tr>\n",
       "      <th>471725</th>\n",
       "      <td>ddf2b5328dafe4a5863dc2463578ea789284d951943120...</td>\n",
       "      <td>0.000000</td>\n",
       "    </tr>\n",
       "    <tr>\n",
       "      <th>471726</th>\n",
       "      <td>ddf2b5328dafe4a5863dc2463578ea789284d951943120...</td>\n",
       "      <td>0.000000</td>\n",
       "    </tr>\n",
       "    <tr>\n",
       "      <th>471727</th>\n",
       "      <td>ddf2b5328dafe4a5863dc2463578ea789284d951943120...</td>\n",
       "      <td>0.000000</td>\n",
       "    </tr>\n",
       "    <tr>\n",
       "      <th>471728</th>\n",
       "      <td>ddf2b5328dafe4a5863dc2463578ea789284d951943120...</td>\n",
       "      <td>0.000000</td>\n",
       "    </tr>\n",
       "    <tr>\n",
       "      <th>471729</th>\n",
       "      <td>ddf2b5328dafe4a5863dc2463578ea789284d951943120...</td>\n",
       "      <td>0.011297</td>\n",
       "    </tr>\n",
       "  </tbody>\n",
       "</table>\n",
       "<p>471730 rows × 2 columns</p>\n",
       "</div>"
      ],
      "text/plain": [
       "                                                       ID   Demanda\n",
       "0       1161c077d04c02902341ddd6f20f322d6fdaac2619ecf1...  0.266554\n",
       "1       1161c077d04c02902341ddd6f20f322d6fdaac2619ecf1...  0.260563\n",
       "2       1161c077d04c02902341ddd6f20f322d6fdaac2619ecf1...  0.269536\n",
       "3       1161c077d04c02902341ddd6f20f322d6fdaac2619ecf1...  0.232382\n",
       "4       1161c077d04c02902341ddd6f20f322d6fdaac2619ecf1...  0.205577\n",
       "...                                                   ...       ...\n",
       "471725  ddf2b5328dafe4a5863dc2463578ea789284d951943120...  0.000000\n",
       "471726  ddf2b5328dafe4a5863dc2463578ea789284d951943120...  0.000000\n",
       "471727  ddf2b5328dafe4a5863dc2463578ea789284d951943120...  0.000000\n",
       "471728  ddf2b5328dafe4a5863dc2463578ea789284d951943120...  0.000000\n",
       "471729  ddf2b5328dafe4a5863dc2463578ea789284d951943120...  0.011297\n",
       "\n",
       "[471730 rows x 2 columns]"
      ]
     },
     "execution_count": 244,
     "metadata": {},
     "output_type": "execute_result"
    }
   ],
   "source": [
    "test_submit = test.reset_index()[['ID','Demanda']]\n",
    "test_submit"
   ]
  },
  {
   "cell_type": "code",
   "execution_count": 245,
   "metadata": {
    "tags": []
   },
   "outputs": [
    {
     "data": {
      "image/png": "[encoded data removed]",
      "text/plain": [
       "<Figure size 432x288 with 2 Axes>"
      ]
     },
     "metadata": {
      "needs_background": "light"
     },
     "output_type": "display_data"
    }
   ],
   "source": [
    "fig, (ax1, ax2) = plt.subplots(1, 2)\n",
    "ax1.hist(test['Demanda'], bins=100);\n",
    "ax2.hist(test['Demanda'], bins=1000);\n",
    "plt.xlim(0,20);"
   ]
  },
  {
   "cell_type": "code",
   "execution_count": 246,
   "metadata": {
    "tags": []
   },
   "outputs": [
    {
     "data": {
      "image/png": "[encoded data removed]",
      "text/plain": [
       "<Figure size 432x288 with 2 Axes>"
      ]
     },
     "metadata": {
      "needs_background": "light"
     },
     "output_type": "display_data"
    }
   ],
   "source": [
    "fig, (ax1, ax2) = plt.subplots(1, 2)\n",
    "ax1.hist(y_train, bins=100);\n",
    "ax2.hist(y_train, bins=1000);\n",
    "plt.xlim(0,20);"
   ]
  },
  {
   "cell_type": "code",
   "execution_count": 247,
   "metadata": {},
   "outputs": [
    {
     "data": {
      "text/plain": [
       "count    471730.000000\n",
       "mean          0.661825\n",
       "std           3.293362\n",
       "min           0.000000\n",
       "25%           0.023184\n",
       "50%           0.113964\n",
       "75%           0.407601\n",
       "max         411.853779\n",
       "Name: Demanda, dtype: float64"
      ]
     },
     "execution_count": 247,
     "metadata": {},
     "output_type": "execute_result"
    }
   ],
   "source": [
    "test_submit['Demanda'].describe()"
   ]
  },
  {
   "cell_type": "code",
   "execution_count": 248,
   "metadata": {
    "tags": []
   },
   "outputs": [],
   "source": [
    "test_submit.to_csv('../results/test_ensamble_cb_lg.csv', index=False)"
   ]
  },
  {
   "cell_type": "code",
   "execution_count": null,
   "metadata": {},
   "outputs": [],
   "source": [
    "!kaggle competitions submit datathon-entel-2022-reto2 -f ../results/test_ensamble_cb_lg.csv -m \"test\""
   ]
  },
  {
   "cell_type": "code",
   "execution_count": null,
   "metadata": {},
   "outputs": [],
   "source": []
  }
 ],
 "metadata": {
  "kernelspec": {
   "display_name": "Python 3 (ipykernel)",
   "language": "python",
   "name": "python3"
  },
  "language_info": {
   "codemirror_mode": {
    "name": "ipython",
    "version": 3
   },
   "file_extension": ".py",
   "mimetype": "text/x-python",
   "name": "python",
   "nbconvert_exporter": "python",
   "pygments_lexer": "ipython3",
   "version": "3.9.0"
  }
 },
 "nbformat": 4,
 "nbformat_minor": 4
}
